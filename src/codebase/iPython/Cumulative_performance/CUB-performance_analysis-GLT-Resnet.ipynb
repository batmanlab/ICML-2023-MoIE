{
 "cells": [
  {
   "cell_type": "code",
   "execution_count": 33,
   "metadata": {},
   "outputs": [
    {
     "name": "stdout",
     "output_type": "stream",
     "text": [
      "The nb_black extension is already loaded. To reload it, use:\n",
      "  %reload_ext nb_black\n"
     ]
    },
    {
     "data": {
      "application/javascript": [
       "\n",
       "            setTimeout(function() {\n",
       "                var nbb_cell_id = 33;\n",
       "                var nbb_unformatted_code = \"%load_ext nb_black\\n\\nimport os\\nimport sys\\n\\nsys.path.append(\\n    os.path.abspath(\\\"/ocean/projects/asc170022p/shg121/PhD/ICLR-2022/codebase\\\")\\n)\\nimport torch.backends.cudnn as cudnn\\nimport random\\nimport time\\nfrom collections import OrderedDict\\nimport pickle\\nimport numpy as np\\nimport pandas as pd\\nimport torch\\nimport torch.nn.functional as F\\nfrom torch.utils.data import DataLoader\\nfrom tqdm import tqdm\\nfrom torch.nn.functional import one_hot\\nimport sklearn.metrics as metrics\\nimport utils\\nfrom Explainer.loss_F import loss_fn_kd, entropy_loss\\nfrom Explainer.models.Gated_Logic_Net import Gated_Logic_Net\\nfrom Explainer.models.explainer import Explainer\\nfrom Explainer.models.pi import Pi\\nfrom dataset.dataset_cubs import Dataset_cub_for_explainer\\nfrom dataset.utils_dataset import get_dataset_with_image_and_attributes\\nfrom Explainer.loss_F import loss_fn_kd, entropy_loss, Selective_Distillation_Loss\\nfrom Explainer.models.concepts import Conceptizator\\n\\nimport matplotlib.pyplot as plt\";\n",
       "                var nbb_formatted_code = \"%load_ext nb_black\\n\\nimport os\\nimport sys\\n\\nsys.path.append(\\n    os.path.abspath(\\\"/ocean/projects/asc170022p/shg121/PhD/ICLR-2022/codebase\\\")\\n)\\nimport torch.backends.cudnn as cudnn\\nimport random\\nimport time\\nfrom collections import OrderedDict\\nimport pickle\\nimport numpy as np\\nimport pandas as pd\\nimport torch\\nimport torch.nn.functional as F\\nfrom torch.utils.data import DataLoader\\nfrom tqdm import tqdm\\nfrom torch.nn.functional import one_hot\\nimport sklearn.metrics as metrics\\nimport utils\\nfrom Explainer.loss_F import loss_fn_kd, entropy_loss\\nfrom Explainer.models.Gated_Logic_Net import Gated_Logic_Net\\nfrom Explainer.models.explainer import Explainer\\nfrom Explainer.models.pi import Pi\\nfrom dataset.dataset_cubs import Dataset_cub_for_explainer\\nfrom dataset.utils_dataset import get_dataset_with_image_and_attributes\\nfrom Explainer.loss_F import loss_fn_kd, entropy_loss, Selective_Distillation_Loss\\nfrom Explainer.models.concepts import Conceptizator\\n\\nimport matplotlib.pyplot as plt\";\n",
       "                var nbb_cells = Jupyter.notebook.get_cells();\n",
       "                for (var i = 0; i < nbb_cells.length; ++i) {\n",
       "                    if (nbb_cells[i].input_prompt_number == nbb_cell_id) {\n",
       "                        if (nbb_cells[i].get_text() == nbb_unformatted_code) {\n",
       "                             nbb_cells[i].set_text(nbb_formatted_code);\n",
       "                        }\n",
       "                        break;\n",
       "                    }\n",
       "                }\n",
       "            }, 500);\n",
       "            "
      ],
      "text/plain": [
       "<IPython.core.display.Javascript object>"
      ]
     },
     "metadata": {},
     "output_type": "display_data"
    }
   ],
   "source": [
    "%load_ext nb_black\n",
    "\n",
    "import os\n",
    "import sys\n",
    "\n",
    "sys.path.append(\n",
    "    os.path.abspath(\"/ocean/projects/asc170022p/shg121/PhD/ICLR-2022/codebase\")\n",
    ")\n",
    "import torch.backends.cudnn as cudnn\n",
    "import random\n",
    "import time\n",
    "from collections import OrderedDict\n",
    "import pickle\n",
    "import numpy as np\n",
    "import pandas as pd\n",
    "import torch\n",
    "import torch.nn.functional as F\n",
    "from torch.utils.data import DataLoader\n",
    "from tqdm import tqdm\n",
    "from torch.nn.functional import one_hot\n",
    "import sklearn.metrics as metrics\n",
    "import utils\n",
    "from Explainer.loss_F import loss_fn_kd, entropy_loss\n",
    "from Explainer.models.Gated_Logic_Net import Gated_Logic_Net\n",
    "from Explainer.models.explainer import Explainer\n",
    "from Explainer.models.pi import Pi\n",
    "from dataset.dataset_cubs import Dataset_cub_for_explainer\n",
    "from dataset.utils_dataset import get_dataset_with_image_and_attributes\n",
    "from Explainer.loss_F import loss_fn_kd, entropy_loss, Selective_Distillation_Loss\n",
    "from Explainer.models.concepts import Conceptizator\n",
    "\n",
    "import matplotlib.pyplot as plt"
   ]
  },
  {
   "cell_type": "code",
   "execution_count": 34,
   "metadata": {},
   "outputs": [
    {
     "name": "stdout",
     "output_type": "stream",
     "text": [
      "Device: cuda\n"
     ]
    },
    {
     "data": {
      "application/javascript": [
       "\n",
       "            setTimeout(function() {\n",
       "                var nbb_cell_id = 34;\n",
       "                var nbb_unformatted_code = \"device = utils.get_device()\\nprint(f\\\"Device: {device}\\\")\";\n",
       "                var nbb_formatted_code = \"device = utils.get_device()\\nprint(f\\\"Device: {device}\\\")\";\n",
       "                var nbb_cells = Jupyter.notebook.get_cells();\n",
       "                for (var i = 0; i < nbb_cells.length; ++i) {\n",
       "                    if (nbb_cells[i].input_prompt_number == nbb_cell_id) {\n",
       "                        if (nbb_cells[i].get_text() == nbb_unformatted_code) {\n",
       "                             nbb_cells[i].set_text(nbb_formatted_code);\n",
       "                        }\n",
       "                        break;\n",
       "                    }\n",
       "                }\n",
       "            }, 500);\n",
       "            "
      ],
      "text/plain": [
       "<IPython.core.display.Javascript object>"
      ]
     },
     "metadata": {},
     "output_type": "display_data"
    }
   ],
   "source": [
    "device = utils.get_device()\n",
    "print(f\"Device: {device}\")"
   ]
  },
  {
   "cell_type": "code",
   "execution_count": 35,
   "metadata": {},
   "outputs": [
    {
     "name": "stdout",
     "output_type": "stream",
     "text": [
      "########################\n",
      "[0.01, 0.01, 0.01, 0.01, 0.01, 0.01, 0.01, 0.01]\n",
      "[0.2, 0.2, 0.2, 0.2, 0.2, 0.2, 0.2, 0.2]\n"
     ]
    },
    {
     "data": {
      "application/javascript": [
       "\n",
       "            setTimeout(function() {\n",
       "                var nbb_cell_id = 35;\n",
       "                var nbb_unformatted_code = \"lr = 0.01\\ncov = 0.2\\npickle_in = open(\\n    os.path.join(\\n        f\\\"/ocean/projects/asc170022p/shg121/PhD/ICLR-2022/out/cub/explainer/ResNet101/lr_{lr}_epochs_500_temperature-lens_0.7_use-concepts-as-pi-input_True_input-size-pi_2048_cov_{cov}_alpha_0.5_selection-threshold_0.5_lambda-lens_0.0001_alpha-KD_0.9_temperature-KD_10.0_hidden-layers_1_layer_layer4_explainer_init_none\\\",\\n        \\\"cov_0.2_lr_0.01\\\",\\n        \\\"iter8\\\",\\n        \\\"explainer\\\",\\n        \\\"test_explainer_configs.pkl\\\",\\n    ),\\n    \\\"rb\\\",\\n)\\nargs = pickle.load(pickle_in)\\nn_classes = len(args.labels)\\nx_to_bool = 0.5\\ntop_k_explanations = 50\\nconcept_names = args.concept_names\\nprint(\\\"########################\\\")\\nprint(args.lr)\\nprint(args.cov)\";\n",
       "                var nbb_formatted_code = \"lr = 0.01\\ncov = 0.2\\npickle_in = open(\\n    os.path.join(\\n        f\\\"/ocean/projects/asc170022p/shg121/PhD/ICLR-2022/out/cub/explainer/ResNet101/lr_{lr}_epochs_500_temperature-lens_0.7_use-concepts-as-pi-input_True_input-size-pi_2048_cov_{cov}_alpha_0.5_selection-threshold_0.5_lambda-lens_0.0001_alpha-KD_0.9_temperature-KD_10.0_hidden-layers_1_layer_layer4_explainer_init_none\\\",\\n        \\\"cov_0.2_lr_0.01\\\",\\n        \\\"iter8\\\",\\n        \\\"explainer\\\",\\n        \\\"test_explainer_configs.pkl\\\",\\n    ),\\n    \\\"rb\\\",\\n)\\nargs = pickle.load(pickle_in)\\nn_classes = len(args.labels)\\nx_to_bool = 0.5\\ntop_k_explanations = 50\\nconcept_names = args.concept_names\\nprint(\\\"########################\\\")\\nprint(args.lr)\\nprint(args.cov)\";\n",
       "                var nbb_cells = Jupyter.notebook.get_cells();\n",
       "                for (var i = 0; i < nbb_cells.length; ++i) {\n",
       "                    if (nbb_cells[i].input_prompt_number == nbb_cell_id) {\n",
       "                        if (nbb_cells[i].get_text() == nbb_unformatted_code) {\n",
       "                             nbb_cells[i].set_text(nbb_formatted_code);\n",
       "                        }\n",
       "                        break;\n",
       "                    }\n",
       "                }\n",
       "            }, 500);\n",
       "            "
      ],
      "text/plain": [
       "<IPython.core.display.Javascript object>"
      ]
     },
     "metadata": {},
     "output_type": "display_data"
    }
   ],
   "source": [
    "lr = 0.01\n",
    "cov = 0.2\n",
    "pickle_in = open(\n",
    "    os.path.join(\n",
    "        f\"/ocean/projects/asc170022p/shg121/PhD/ICLR-2022/out/cub/explainer/ResNet101/lr_{lr}_epochs_500_temperature-lens_0.7_use-concepts-as-pi-input_True_input-size-pi_2048_cov_{cov}_alpha_0.5_selection-threshold_0.5_lambda-lens_0.0001_alpha-KD_0.9_temperature-KD_10.0_hidden-layers_1_layer_layer4_explainer_init_none\",\n",
    "        \"cov_0.2_lr_0.01\",\n",
    "        \"iter8\",\n",
    "        \"explainer\",\n",
    "        \"test_explainer_configs.pkl\",\n",
    "    ),\n",
    "    \"rb\",\n",
    ")\n",
    "args = pickle.load(pickle_in)\n",
    "n_classes = len(args.labels)\n",
    "x_to_bool = 0.5\n",
    "top_k_explanations = 50\n",
    "concept_names = args.concept_names\n",
    "print(\"########################\")\n",
    "print(args.lr)\n",
    "print(args.cov)"
   ]
  },
  {
   "cell_type": "code",
   "execution_count": 36,
   "metadata": {},
   "outputs": [
    {
     "name": "stdout",
     "output_type": "stream",
     "text": [
      "ResNet101\n",
      "layer4\n",
      "['model_g_best_model_epoch_64.pth.tar', 'model_g_best_model_epoch_188.pth.tar', 'model_g_best_model_epoch_110.pth.tar', 'model_g_best_model_epoch_257.pth.tar', 'model_g_best_model_epoch_345.pth.tar', 'model_g_best_model_epoch_87.pth.tar', 'model_g_best_model_epoch_114.pth.tar', 'model_g_best_model_epoch_86.pth.tar']\n",
      "['model_residual_best_model_epoch_1.pth.tar', 'model_residual_best_model_epoch_1.pth.tar', 'model_residual_best_model_epoch_1.pth.tar', 'model_residual_best_model_epoch_1.pth.tar', 'model_residual_best_model_epoch_1.pth.tar', 'model_residual_best_model_epoch_1.pth.tar', 'model_residual_best_model_epoch_1.pth.tar']\n",
      "8\n"
     ]
    },
    {
     "data": {
      "application/javascript": [
       "\n",
       "            setTimeout(function() {\n",
       "                var nbb_cell_id = 36;\n",
       "                var nbb_unformatted_code = \"print(args.arch)\\nprint(args.layer)\\n\\nprint(args.checkpoint_model)\\nprint(args.checkpoint_residual)\\n\\nprint(args.iter)\";\n",
       "                var nbb_formatted_code = \"print(args.arch)\\nprint(args.layer)\\n\\nprint(args.checkpoint_model)\\nprint(args.checkpoint_residual)\\n\\nprint(args.iter)\";\n",
       "                var nbb_cells = Jupyter.notebook.get_cells();\n",
       "                for (var i = 0; i < nbb_cells.length; ++i) {\n",
       "                    if (nbb_cells[i].input_prompt_number == nbb_cell_id) {\n",
       "                        if (nbb_cells[i].get_text() == nbb_unformatted_code) {\n",
       "                             nbb_cells[i].set_text(nbb_formatted_code);\n",
       "                        }\n",
       "                        break;\n",
       "                    }\n",
       "                }\n",
       "            }, 500);\n",
       "            "
      ],
      "text/plain": [
       "<IPython.core.display.Javascript object>"
      ]
     },
     "metadata": {},
     "output_type": "display_data"
    }
   ],
   "source": [
    "print(args.arch)\n",
    "print(args.layer)\n",
    "\n",
    "print(args.checkpoint_model)\n",
    "print(args.checkpoint_residual)\n",
    "\n",
    "print(args.iter)"
   ]
  },
  {
   "cell_type": "code",
   "execution_count": 37,
   "metadata": {},
   "outputs": [
    {
     "name": "stdout",
     "output_type": "stream",
     "text": [
      "lr_0.01_epochs_500_temperature-lens_0.7_use-concepts-as-pi-input_True_input-size-pi_2048_cov_0.2_alpha_0.5_selection-threshold_0.5_lambda-lens_0.0001_alpha-KD_0.9_temperature-KD_10.0_hidden-layers_1_layer_layer4_explainer_init_none\n"
     ]
    },
    {
     "data": {
      "application/javascript": [
       "\n",
       "            setTimeout(function() {\n",
       "                var nbb_cell_id = 37;\n",
       "                var nbb_unformatted_code = \"use_concepts_as_pi_input = True\\nexplainer_init = \\\"none\\\"\\ncov = args.cov[0]\\nexperiment_folder = (\\n    f\\\"lr_{args.lr[0]}_epochs_{args.epochs}_temperature-lens_{args.temperature_lens}\\\"\\n    f\\\"_use-concepts-as-pi-input_{use_concepts_as_pi_input}_input-size-pi_{args.input_size_pi}\\\"\\n    f\\\"_cov_{cov}_alpha_{args.alpha}_selection-threshold_{args.selection_threshold}\\\"\\n    f\\\"_lambda-lens_{args.lambda_lens}_alpha-KD_{args.alpha_KD}\\\"\\n    f\\\"_temperature-KD_{float(args.temperature_KD)}_hidden-layers_{len(args.hidden_nodes)}\\\"\\n    f\\\"_layer_{args.layer}_explainer_init_{explainer_init if not args.explainer_init else args.explainer_init}\\\"\\n)\\n\\nprint(experiment_folder)\";\n",
       "                var nbb_formatted_code = \"use_concepts_as_pi_input = True\\nexplainer_init = \\\"none\\\"\\ncov = args.cov[0]\\nexperiment_folder = (\\n    f\\\"lr_{args.lr[0]}_epochs_{args.epochs}_temperature-lens_{args.temperature_lens}\\\"\\n    f\\\"_use-concepts-as-pi-input_{use_concepts_as_pi_input}_input-size-pi_{args.input_size_pi}\\\"\\n    f\\\"_cov_{cov}_alpha_{args.alpha}_selection-threshold_{args.selection_threshold}\\\"\\n    f\\\"_lambda-lens_{args.lambda_lens}_alpha-KD_{args.alpha_KD}\\\"\\n    f\\\"_temperature-KD_{float(args.temperature_KD)}_hidden-layers_{len(args.hidden_nodes)}\\\"\\n    f\\\"_layer_{args.layer}_explainer_init_{explainer_init if not args.explainer_init else args.explainer_init}\\\"\\n)\\n\\nprint(experiment_folder)\";\n",
       "                var nbb_cells = Jupyter.notebook.get_cells();\n",
       "                for (var i = 0; i < nbb_cells.length; ++i) {\n",
       "                    if (nbb_cells[i].input_prompt_number == nbb_cell_id) {\n",
       "                        if (nbb_cells[i].get_text() == nbb_unformatted_code) {\n",
       "                             nbb_cells[i].set_text(nbb_formatted_code);\n",
       "                        }\n",
       "                        break;\n",
       "                    }\n",
       "                }\n",
       "            }, 500);\n",
       "            "
      ],
      "text/plain": [
       "<IPython.core.display.Javascript object>"
      ]
     },
     "metadata": {},
     "output_type": "display_data"
    }
   ],
   "source": [
    "use_concepts_as_pi_input = True\n",
    "explainer_init = \"none\"\n",
    "cov = args.cov[0]\n",
    "experiment_folder = (\n",
    "    f\"lr_{args.lr[0]}_epochs_{args.epochs}_temperature-lens_{args.temperature_lens}\"\n",
    "    f\"_use-concepts-as-pi-input_{use_concepts_as_pi_input}_input-size-pi_{args.input_size_pi}\"\n",
    "    f\"_cov_{cov}_alpha_{args.alpha}_selection-threshold_{args.selection_threshold}\"\n",
    "    f\"_lambda-lens_{args.lambda_lens}_alpha-KD_{args.alpha_KD}\"\n",
    "    f\"_temperature-KD_{float(args.temperature_KD)}_hidden-layers_{len(args.hidden_nodes)}\"\n",
    "    f\"_layer_{args.layer}_explainer_init_{explainer_init if not args.explainer_init else args.explainer_init}\"\n",
    ")\n",
    "\n",
    "print(experiment_folder)"
   ]
  },
  {
   "cell_type": "code",
   "execution_count": 38,
   "metadata": {},
   "outputs": [
    {
     "name": "stdout",
     "output_type": "stream",
     "text": [
      "########################\n",
      "[0.01]\n",
      "[0.2]\n",
      "\n",
      "\n",
      " << Test sizes >>\n",
      "torch.Size([243, 200])\n",
      "torch.Size([243, 200])\n",
      "torch.Size([243])\n"
     ]
    },
    {
     "data": {
      "application/javascript": [
       "\n",
       "            setTimeout(function() {\n",
       "                var nbb_cell_id = 38;\n",
       "                var nbb_unformatted_code = \"lr = 0.01\\ncov = 0.2\\npickle_in = open(\\n    os.path.join(\\n        f\\\"/ocean/projects/asc170022p/shg121/PhD/ICLR-2022/out/cub/explainer/ResNet101/lr_{lr}_epochs_500_temperature-lens_0.7_use-concepts-as-pi-input_True_input-size-pi_2048_cov_{cov}_alpha_0.5_selection-threshold_0.5_lambda-lens_0.0001_alpha-KD_0.9_temperature-KD_10.0_hidden-layers_1_layer_layer4_explainer_init_none\\\",\\n        \\\"iter1\\\",\\n        \\\"explainer\\\",\\n        \\\"test_explainer_configs.pkl\\\",\\n    ),\\n    \\\"rb\\\",\\n)\\nargs = pickle.load(pickle_in)\\nn_classes = len(args.labels)\\nx_to_bool = 0.5\\ntop_k_explanations = 50\\nconcept_names = args.concept_names\\nprint(\\\"########################\\\")\\nprint(args.lr)\\nprint(args.cov)\\n\\nuse_concepts_as_pi_input = True\\nexplainer_init = \\\"none\\\"\\n\\nexperiment_folder = (\\n    f\\\"lr_{args.lr[0]}_epochs_{args.epochs}_temperature-lens_{args.temperature_lens}\\\"\\n    f\\\"_use-concepts-as-pi-input_{use_concepts_as_pi_input}_input-size-pi_{args.input_size_pi}\\\"\\n    f\\\"_cov_{args.cov[0]}_alpha_{args.alpha}_selection-threshold_{args.selection_threshold}\\\"\\n    f\\\"_lambda-lens_{args.lambda_lens}_alpha-KD_{args.alpha_KD}\\\"\\n    f\\\"_temperature-KD_{float(args.temperature_KD)}_hidden-layers_{len(args.hidden_nodes)}\\\"\\n    f\\\"_layer_{args.layer}_explainer_init_{explainer_init if not args.explainer_init else args.explainer_init}\\\"\\n)\\n\\nroot = \\\"/ocean/projects/asc170022p/shg121/PhD/ICLR-2022/out/cub/\\\"\\nexperiment = f\\\"explainer/ResNet101/{experiment_folder}\\\"\\niteration = \\\"iter1\\\"\\nexpert_type = \\\"explainer\\\"\\noutput = \\\"g_outputs\\\"\\n\\n\\ntest_tensor_preds_1 = torch.load(\\n    os.path.join(\\n        root, experiment, iteration, expert_type, output, \\\"test_tensor_preds.pt\\\"\\n    )\\n)\\n\\ntest_tensor_preds_bb_1 = torch.load(\\n    os.path.join(\\n        root, experiment, iteration, expert_type, output, \\\"test_tensor_preds_bb.pt\\\"\\n    )\\n)\\n\\ntest_tensor_y_1 = torch.load(\\n    os.path.join(root, experiment, iteration, expert_type, output, \\\"test_tensor_y.pt\\\")\\n)\\n\\n\\nprint(\\\"\\\\n\\\\n << Test sizes >>\\\")\\nprint(test_tensor_preds_1.size())\\nprint(test_tensor_preds_bb_1.size())\\nprint(test_tensor_y_1.size())\";\n",
       "                var nbb_formatted_code = \"lr = 0.01\\ncov = 0.2\\npickle_in = open(\\n    os.path.join(\\n        f\\\"/ocean/projects/asc170022p/shg121/PhD/ICLR-2022/out/cub/explainer/ResNet101/lr_{lr}_epochs_500_temperature-lens_0.7_use-concepts-as-pi-input_True_input-size-pi_2048_cov_{cov}_alpha_0.5_selection-threshold_0.5_lambda-lens_0.0001_alpha-KD_0.9_temperature-KD_10.0_hidden-layers_1_layer_layer4_explainer_init_none\\\",\\n        \\\"iter1\\\",\\n        \\\"explainer\\\",\\n        \\\"test_explainer_configs.pkl\\\",\\n    ),\\n    \\\"rb\\\",\\n)\\nargs = pickle.load(pickle_in)\\nn_classes = len(args.labels)\\nx_to_bool = 0.5\\ntop_k_explanations = 50\\nconcept_names = args.concept_names\\nprint(\\\"########################\\\")\\nprint(args.lr)\\nprint(args.cov)\\n\\nuse_concepts_as_pi_input = True\\nexplainer_init = \\\"none\\\"\\n\\nexperiment_folder = (\\n    f\\\"lr_{args.lr[0]}_epochs_{args.epochs}_temperature-lens_{args.temperature_lens}\\\"\\n    f\\\"_use-concepts-as-pi-input_{use_concepts_as_pi_input}_input-size-pi_{args.input_size_pi}\\\"\\n    f\\\"_cov_{args.cov[0]}_alpha_{args.alpha}_selection-threshold_{args.selection_threshold}\\\"\\n    f\\\"_lambda-lens_{args.lambda_lens}_alpha-KD_{args.alpha_KD}\\\"\\n    f\\\"_temperature-KD_{float(args.temperature_KD)}_hidden-layers_{len(args.hidden_nodes)}\\\"\\n    f\\\"_layer_{args.layer}_explainer_init_{explainer_init if not args.explainer_init else args.explainer_init}\\\"\\n)\\n\\nroot = \\\"/ocean/projects/asc170022p/shg121/PhD/ICLR-2022/out/cub/\\\"\\nexperiment = f\\\"explainer/ResNet101/{experiment_folder}\\\"\\niteration = \\\"iter1\\\"\\nexpert_type = \\\"explainer\\\"\\noutput = \\\"g_outputs\\\"\\n\\n\\ntest_tensor_preds_1 = torch.load(\\n    os.path.join(\\n        root, experiment, iteration, expert_type, output, \\\"test_tensor_preds.pt\\\"\\n    )\\n)\\n\\ntest_tensor_preds_bb_1 = torch.load(\\n    os.path.join(\\n        root, experiment, iteration, expert_type, output, \\\"test_tensor_preds_bb.pt\\\"\\n    )\\n)\\n\\ntest_tensor_y_1 = torch.load(\\n    os.path.join(root, experiment, iteration, expert_type, output, \\\"test_tensor_y.pt\\\")\\n)\\n\\n\\nprint(\\\"\\\\n\\\\n << Test sizes >>\\\")\\nprint(test_tensor_preds_1.size())\\nprint(test_tensor_preds_bb_1.size())\\nprint(test_tensor_y_1.size())\";\n",
       "                var nbb_cells = Jupyter.notebook.get_cells();\n",
       "                for (var i = 0; i < nbb_cells.length; ++i) {\n",
       "                    if (nbb_cells[i].input_prompt_number == nbb_cell_id) {\n",
       "                        if (nbb_cells[i].get_text() == nbb_unformatted_code) {\n",
       "                             nbb_cells[i].set_text(nbb_formatted_code);\n",
       "                        }\n",
       "                        break;\n",
       "                    }\n",
       "                }\n",
       "            }, 500);\n",
       "            "
      ],
      "text/plain": [
       "<IPython.core.display.Javascript object>"
      ]
     },
     "metadata": {},
     "output_type": "display_data"
    }
   ],
   "source": [
    "lr = 0.01\n",
    "cov = 0.2\n",
    "pickle_in = open(\n",
    "    os.path.join(\n",
    "        f\"/ocean/projects/asc170022p/shg121/PhD/ICLR-2022/out/cub/explainer/ResNet101/lr_{lr}_epochs_500_temperature-lens_0.7_use-concepts-as-pi-input_True_input-size-pi_2048_cov_{cov}_alpha_0.5_selection-threshold_0.5_lambda-lens_0.0001_alpha-KD_0.9_temperature-KD_10.0_hidden-layers_1_layer_layer4_explainer_init_none\",\n",
    "        \"iter1\",\n",
    "        \"explainer\",\n",
    "        \"test_explainer_configs.pkl\",\n",
    "    ),\n",
    "    \"rb\",\n",
    ")\n",
    "args = pickle.load(pickle_in)\n",
    "n_classes = len(args.labels)\n",
    "x_to_bool = 0.5\n",
    "top_k_explanations = 50\n",
    "concept_names = args.concept_names\n",
    "print(\"########################\")\n",
    "print(args.lr)\n",
    "print(args.cov)\n",
    "\n",
    "use_concepts_as_pi_input = True\n",
    "explainer_init = \"none\"\n",
    "\n",
    "experiment_folder = (\n",
    "    f\"lr_{args.lr[0]}_epochs_{args.epochs}_temperature-lens_{args.temperature_lens}\"\n",
    "    f\"_use-concepts-as-pi-input_{use_concepts_as_pi_input}_input-size-pi_{args.input_size_pi}\"\n",
    "    f\"_cov_{args.cov[0]}_alpha_{args.alpha}_selection-threshold_{args.selection_threshold}\"\n",
    "    f\"_lambda-lens_{args.lambda_lens}_alpha-KD_{args.alpha_KD}\"\n",
    "    f\"_temperature-KD_{float(args.temperature_KD)}_hidden-layers_{len(args.hidden_nodes)}\"\n",
    "    f\"_layer_{args.layer}_explainer_init_{explainer_init if not args.explainer_init else args.explainer_init}\"\n",
    ")\n",
    "\n",
    "root = \"/ocean/projects/asc170022p/shg121/PhD/ICLR-2022/out/cub/\"\n",
    "experiment = f\"explainer/ResNet101/{experiment_folder}\"\n",
    "iteration = \"iter1\"\n",
    "expert_type = \"explainer\"\n",
    "output = \"g_outputs\"\n",
    "\n",
    "\n",
    "test_tensor_preds_1 = torch.load(\n",
    "    os.path.join(\n",
    "        root, experiment, iteration, expert_type, output, \"test_tensor_preds.pt\"\n",
    "    )\n",
    ")\n",
    "\n",
    "test_tensor_preds_bb_1 = torch.load(\n",
    "    os.path.join(\n",
    "        root, experiment, iteration, expert_type, output, \"test_tensor_preds_bb.pt\"\n",
    "    )\n",
    ")\n",
    "\n",
    "test_tensor_y_1 = torch.load(\n",
    "    os.path.join(root, experiment, iteration, expert_type, output, \"test_tensor_y.pt\")\n",
    ")\n",
    "\n",
    "\n",
    "print(\"\\n\\n << Test sizes >>\")\n",
    "print(test_tensor_preds_1.size())\n",
    "print(test_tensor_preds_bb_1.size())\n",
    "print(test_tensor_y_1.size())"
   ]
  },
  {
   "cell_type": "code",
   "execution_count": 39,
   "metadata": {},
   "outputs": [
    {
     "name": "stdout",
     "output_type": "stream",
     "text": [
      "########################\n",
      "0.01\n",
      "0.2\n",
      "\n",
      "\n",
      " << Test sizes >>\n",
      "torch.Size([133, 200])\n",
      "torch.Size([133, 200])\n",
      "torch.Size([133])\n"
     ]
    },
    {
     "data": {
      "application/javascript": [
       "\n",
       "            setTimeout(function() {\n",
       "                var nbb_cell_id = 39;\n",
       "                var nbb_unformatted_code = \"base_lr = 0.01\\nbase_cov = 0.2\\npickle_in = open(\\n    os.path.join(\\n        f\\\"/ocean/projects/asc170022p/shg121/PhD/ICLR-2022/out/cub/explainer/ResNet101/lr_{base_lr}_epochs_500_temperature-lens_0.7_use-concepts-as-pi-input_True_input-size-pi_2048_cov_{base_cov}_alpha_0.5_selection-threshold_0.5_lambda-lens_0.0001_alpha-KD_0.9_temperature-KD_10.0_hidden-layers_1_layer_layer4_explainer_init_none\\\",\\n        \\\"cov_0.2_lr_0.01\\\",\\n        \\\"iter2\\\",\\n        \\\"explainer\\\",\\n        \\\"test_explainer_configs.pkl\\\",\\n    ),\\n    \\\"rb\\\",\\n)\\nargs = pickle.load(pickle_in)\\nn_classes = len(args.labels)\\nx_to_bool = 0.5\\ntop_k_explanations = 50\\nconcept_names = args.concept_names\\nprint(\\\"########################\\\")\\nprint(args.lr[-1])\\nprint(args.cov[-1])\\n\\nuse_concepts_as_pi_input = True\\nexplainer_init = \\\"none\\\"\\n\\nexperiment_folder = (\\n    f\\\"lr_{args.lr[0]}_epochs_{args.epochs}_temperature-lens_{args.temperature_lens}\\\"\\n    f\\\"_use-concepts-as-pi-input_{use_concepts_as_pi_input}_input-size-pi_{args.input_size_pi}\\\"\\n    f\\\"_cov_{args.cov[0]}_alpha_{args.alpha}_selection-threshold_{args.selection_threshold}\\\"\\n    f\\\"_lambda-lens_{args.lambda_lens}_alpha-KD_{args.alpha_KD}\\\"\\n    f\\\"_temperature-KD_{float(args.temperature_KD)}_hidden-layers_{len(args.hidden_nodes)}\\\"\\n    f\\\"_layer_{args.layer}_explainer_init_{explainer_init if not args.explainer_init else args.explainer_init}\\\"\\n)\\n\\nroot = \\\"/ocean/projects/asc170022p/shg121/PhD/ICLR-2022/out/cub/\\\"\\nexperiment = f\\\"explainer/ResNet101/{experiment_folder}\\\"\\niteration = \\\"iter2\\\"\\nexpert_type = \\\"explainer\\\"\\noutput = \\\"g_outputs\\\"\\n\\n\\ntest_tensor_preds_2 = torch.load(\\n    os.path.join(\\n        root,\\n        experiment,\\n        \\\"cov_0.2_lr_0.01\\\",\\n        iteration,\\n        expert_type,\\n        output,\\n        \\\"test_tensor_preds.pt\\\",\\n    )\\n)\\n\\ntest_tensor_preds_bb_2 = torch.load(\\n    os.path.join(\\n        root,\\n        experiment,\\n        \\\"cov_0.2_lr_0.01\\\",\\n        iteration,\\n        expert_type,\\n        output,\\n        \\\"test_tensor_preds_bb.pt\\\",\\n    )\\n)\\n\\ntest_tensor_y_2 = torch.load(\\n    os.path.join(\\n        root,\\n        experiment,\\n        \\\"cov_0.2_lr_0.01\\\",\\n        iteration,\\n        expert_type,\\n        output,\\n        \\\"test_tensor_y.pt\\\",\\n    )\\n)\\n\\n\\nprint(\\\"\\\\n\\\\n << Test sizes >>\\\")\\nprint(test_tensor_preds_2.size())\\nprint(test_tensor_preds_bb_2.size())\\nprint(test_tensor_y_2.size())\";\n",
       "                var nbb_formatted_code = \"base_lr = 0.01\\nbase_cov = 0.2\\npickle_in = open(\\n    os.path.join(\\n        f\\\"/ocean/projects/asc170022p/shg121/PhD/ICLR-2022/out/cub/explainer/ResNet101/lr_{base_lr}_epochs_500_temperature-lens_0.7_use-concepts-as-pi-input_True_input-size-pi_2048_cov_{base_cov}_alpha_0.5_selection-threshold_0.5_lambda-lens_0.0001_alpha-KD_0.9_temperature-KD_10.0_hidden-layers_1_layer_layer4_explainer_init_none\\\",\\n        \\\"cov_0.2_lr_0.01\\\",\\n        \\\"iter2\\\",\\n        \\\"explainer\\\",\\n        \\\"test_explainer_configs.pkl\\\",\\n    ),\\n    \\\"rb\\\",\\n)\\nargs = pickle.load(pickle_in)\\nn_classes = len(args.labels)\\nx_to_bool = 0.5\\ntop_k_explanations = 50\\nconcept_names = args.concept_names\\nprint(\\\"########################\\\")\\nprint(args.lr[-1])\\nprint(args.cov[-1])\\n\\nuse_concepts_as_pi_input = True\\nexplainer_init = \\\"none\\\"\\n\\nexperiment_folder = (\\n    f\\\"lr_{args.lr[0]}_epochs_{args.epochs}_temperature-lens_{args.temperature_lens}\\\"\\n    f\\\"_use-concepts-as-pi-input_{use_concepts_as_pi_input}_input-size-pi_{args.input_size_pi}\\\"\\n    f\\\"_cov_{args.cov[0]}_alpha_{args.alpha}_selection-threshold_{args.selection_threshold}\\\"\\n    f\\\"_lambda-lens_{args.lambda_lens}_alpha-KD_{args.alpha_KD}\\\"\\n    f\\\"_temperature-KD_{float(args.temperature_KD)}_hidden-layers_{len(args.hidden_nodes)}\\\"\\n    f\\\"_layer_{args.layer}_explainer_init_{explainer_init if not args.explainer_init else args.explainer_init}\\\"\\n)\\n\\nroot = \\\"/ocean/projects/asc170022p/shg121/PhD/ICLR-2022/out/cub/\\\"\\nexperiment = f\\\"explainer/ResNet101/{experiment_folder}\\\"\\niteration = \\\"iter2\\\"\\nexpert_type = \\\"explainer\\\"\\noutput = \\\"g_outputs\\\"\\n\\n\\ntest_tensor_preds_2 = torch.load(\\n    os.path.join(\\n        root,\\n        experiment,\\n        \\\"cov_0.2_lr_0.01\\\",\\n        iteration,\\n        expert_type,\\n        output,\\n        \\\"test_tensor_preds.pt\\\",\\n    )\\n)\\n\\ntest_tensor_preds_bb_2 = torch.load(\\n    os.path.join(\\n        root,\\n        experiment,\\n        \\\"cov_0.2_lr_0.01\\\",\\n        iteration,\\n        expert_type,\\n        output,\\n        \\\"test_tensor_preds_bb.pt\\\",\\n    )\\n)\\n\\ntest_tensor_y_2 = torch.load(\\n    os.path.join(\\n        root,\\n        experiment,\\n        \\\"cov_0.2_lr_0.01\\\",\\n        iteration,\\n        expert_type,\\n        output,\\n        \\\"test_tensor_y.pt\\\",\\n    )\\n)\\n\\n\\nprint(\\\"\\\\n\\\\n << Test sizes >>\\\")\\nprint(test_tensor_preds_2.size())\\nprint(test_tensor_preds_bb_2.size())\\nprint(test_tensor_y_2.size())\";\n",
       "                var nbb_cells = Jupyter.notebook.get_cells();\n",
       "                for (var i = 0; i < nbb_cells.length; ++i) {\n",
       "                    if (nbb_cells[i].input_prompt_number == nbb_cell_id) {\n",
       "                        if (nbb_cells[i].get_text() == nbb_unformatted_code) {\n",
       "                             nbb_cells[i].set_text(nbb_formatted_code);\n",
       "                        }\n",
       "                        break;\n",
       "                    }\n",
       "                }\n",
       "            }, 500);\n",
       "            "
      ],
      "text/plain": [
       "<IPython.core.display.Javascript object>"
      ]
     },
     "metadata": {},
     "output_type": "display_data"
    }
   ],
   "source": [
    "base_lr = 0.01\n",
    "base_cov = 0.2\n",
    "pickle_in = open(\n",
    "    os.path.join(\n",
    "        f\"/ocean/projects/asc170022p/shg121/PhD/ICLR-2022/out/cub/explainer/ResNet101/lr_{base_lr}_epochs_500_temperature-lens_0.7_use-concepts-as-pi-input_True_input-size-pi_2048_cov_{base_cov}_alpha_0.5_selection-threshold_0.5_lambda-lens_0.0001_alpha-KD_0.9_temperature-KD_10.0_hidden-layers_1_layer_layer4_explainer_init_none\",\n",
    "        \"cov_0.2_lr_0.01\",\n",
    "        \"iter2\",\n",
    "        \"explainer\",\n",
    "        \"test_explainer_configs.pkl\",\n",
    "    ),\n",
    "    \"rb\",\n",
    ")\n",
    "args = pickle.load(pickle_in)\n",
    "n_classes = len(args.labels)\n",
    "x_to_bool = 0.5\n",
    "top_k_explanations = 50\n",
    "concept_names = args.concept_names\n",
    "print(\"########################\")\n",
    "print(args.lr[-1])\n",
    "print(args.cov[-1])\n",
    "\n",
    "use_concepts_as_pi_input = True\n",
    "explainer_init = \"none\"\n",
    "\n",
    "experiment_folder = (\n",
    "    f\"lr_{args.lr[0]}_epochs_{args.epochs}_temperature-lens_{args.temperature_lens}\"\n",
    "    f\"_use-concepts-as-pi-input_{use_concepts_as_pi_input}_input-size-pi_{args.input_size_pi}\"\n",
    "    f\"_cov_{args.cov[0]}_alpha_{args.alpha}_selection-threshold_{args.selection_threshold}\"\n",
    "    f\"_lambda-lens_{args.lambda_lens}_alpha-KD_{args.alpha_KD}\"\n",
    "    f\"_temperature-KD_{float(args.temperature_KD)}_hidden-layers_{len(args.hidden_nodes)}\"\n",
    "    f\"_layer_{args.layer}_explainer_init_{explainer_init if not args.explainer_init else args.explainer_init}\"\n",
    ")\n",
    "\n",
    "root = \"/ocean/projects/asc170022p/shg121/PhD/ICLR-2022/out/cub/\"\n",
    "experiment = f\"explainer/ResNet101/{experiment_folder}\"\n",
    "iteration = \"iter2\"\n",
    "expert_type = \"explainer\"\n",
    "output = \"g_outputs\"\n",
    "\n",
    "\n",
    "test_tensor_preds_2 = torch.load(\n",
    "    os.path.join(\n",
    "        root,\n",
    "        experiment,\n",
    "        \"cov_0.2_lr_0.01\",\n",
    "        iteration,\n",
    "        expert_type,\n",
    "        output,\n",
    "        \"test_tensor_preds.pt\",\n",
    "    )\n",
    ")\n",
    "\n",
    "test_tensor_preds_bb_2 = torch.load(\n",
    "    os.path.join(\n",
    "        root,\n",
    "        experiment,\n",
    "        \"cov_0.2_lr_0.01\",\n",
    "        iteration,\n",
    "        expert_type,\n",
    "        output,\n",
    "        \"test_tensor_preds_bb.pt\",\n",
    "    )\n",
    ")\n",
    "\n",
    "test_tensor_y_2 = torch.load(\n",
    "    os.path.join(\n",
    "        root,\n",
    "        experiment,\n",
    "        \"cov_0.2_lr_0.01\",\n",
    "        iteration,\n",
    "        expert_type,\n",
    "        output,\n",
    "        \"test_tensor_y.pt\",\n",
    "    )\n",
    ")\n",
    "\n",
    "\n",
    "print(\"\\n\\n << Test sizes >>\")\n",
    "print(test_tensor_preds_2.size())\n",
    "print(test_tensor_preds_bb_2.size())\n",
    "print(test_tensor_y_2.size())\n"
   ]
  },
  {
   "cell_type": "code",
   "execution_count": 40,
   "metadata": {},
   "outputs": [
    {
     "name": "stdout",
     "output_type": "stream",
     "text": [
      "########################\n",
      "0.01\n",
      "0.2\n",
      "\n",
      "\n",
      " << Test sizes >>\n",
      "torch.Size([153, 200])\n",
      "torch.Size([153, 200])\n",
      "torch.Size([153])\n"
     ]
    },
    {
     "data": {
      "application/javascript": [
       "\n",
       "            setTimeout(function() {\n",
       "                var nbb_cell_id = 40;\n",
       "                var nbb_unformatted_code = \"base_lr = 0.01\\nbase_cov = 0.2\\npickle_in = open(\\n    os.path.join(\\n        f\\\"/ocean/projects/asc170022p/shg121/PhD/ICLR-2022/out/cub/explainer/ResNet101/lr_{base_lr}_epochs_500_temperature-lens_0.7_use-concepts-as-pi-input_True_input-size-pi_2048_cov_{base_cov}_alpha_0.5_selection-threshold_0.5_lambda-lens_0.0001_alpha-KD_0.9_temperature-KD_10.0_hidden-layers_1_layer_layer4_explainer_init_none\\\",\\n        \\\"cov_0.2_lr_0.01\\\",\\n        \\\"iter3\\\",\\n        \\\"explainer\\\",\\n        \\\"test_explainer_configs.pkl\\\",\\n    ),\\n    \\\"rb\\\",\\n)\\nargs = pickle.load(pickle_in)\\nn_classes = len(args.labels)\\nx_to_bool = 0.5\\ntop_k_explanations = 50\\nconcept_names = args.concept_names\\nprint(\\\"########################\\\")\\nprint(args.lr[-1])\\nprint(args.cov[-1])\\n\\nuse_concepts_as_pi_input = True\\nexplainer_init = \\\"none\\\"\\n\\nexperiment_folder = (\\n    f\\\"lr_{args.lr[0]}_epochs_{args.epochs}_temperature-lens_{args.temperature_lens}\\\"\\n    f\\\"_use-concepts-as-pi-input_{use_concepts_as_pi_input}_input-size-pi_{args.input_size_pi}\\\"\\n    f\\\"_cov_{args.cov[0]}_alpha_{args.alpha}_selection-threshold_{args.selection_threshold}\\\"\\n    f\\\"_lambda-lens_{args.lambda_lens}_alpha-KD_{args.alpha_KD}\\\"\\n    f\\\"_temperature-KD_{float(args.temperature_KD)}_hidden-layers_{len(args.hidden_nodes)}\\\"\\n    f\\\"_layer_{args.layer}_explainer_init_{explainer_init if not args.explainer_init else args.explainer_init}\\\"\\n)\\n\\nroot = \\\"/ocean/projects/asc170022p/shg121/PhD/ICLR-2022/out/cub/\\\"\\nexperiment = f\\\"explainer/ResNet101/{experiment_folder}\\\"\\niteration = \\\"iter3\\\"\\nexpert_type = \\\"explainer\\\"\\noutput = \\\"g_outputs\\\"\\n\\n\\ntest_tensor_preds_3 = torch.load(\\n    os.path.join(\\n        root,\\n        experiment,\\n        \\\"cov_0.2_lr_0.01\\\",\\n        iteration,\\n        expert_type,\\n        output,\\n        \\\"test_tensor_preds.pt\\\",\\n    )\\n)\\n\\ntest_tensor_preds_bb_3 = torch.load(\\n    os.path.join(\\n        root,\\n        experiment,\\n        \\\"cov_0.2_lr_0.01\\\",\\n        iteration,\\n        expert_type,\\n        output,\\n        \\\"test_tensor_preds_bb.pt\\\",\\n    )\\n)\\n\\ntest_tensor_y_3 = torch.load(\\n    os.path.join(\\n        root,\\n        experiment,\\n        \\\"cov_0.2_lr_0.01\\\",\\n        iteration,\\n        expert_type,\\n        output,\\n        \\\"test_tensor_y.pt\\\",\\n    )\\n)\\n\\n\\nprint(\\\"\\\\n\\\\n << Test sizes >>\\\")\\nprint(test_tensor_preds_3.size())\\nprint(test_tensor_preds_bb_3.size())\\nprint(test_tensor_y_3.size())\";\n",
       "                var nbb_formatted_code = \"base_lr = 0.01\\nbase_cov = 0.2\\npickle_in = open(\\n    os.path.join(\\n        f\\\"/ocean/projects/asc170022p/shg121/PhD/ICLR-2022/out/cub/explainer/ResNet101/lr_{base_lr}_epochs_500_temperature-lens_0.7_use-concepts-as-pi-input_True_input-size-pi_2048_cov_{base_cov}_alpha_0.5_selection-threshold_0.5_lambda-lens_0.0001_alpha-KD_0.9_temperature-KD_10.0_hidden-layers_1_layer_layer4_explainer_init_none\\\",\\n        \\\"cov_0.2_lr_0.01\\\",\\n        \\\"iter3\\\",\\n        \\\"explainer\\\",\\n        \\\"test_explainer_configs.pkl\\\",\\n    ),\\n    \\\"rb\\\",\\n)\\nargs = pickle.load(pickle_in)\\nn_classes = len(args.labels)\\nx_to_bool = 0.5\\ntop_k_explanations = 50\\nconcept_names = args.concept_names\\nprint(\\\"########################\\\")\\nprint(args.lr[-1])\\nprint(args.cov[-1])\\n\\nuse_concepts_as_pi_input = True\\nexplainer_init = \\\"none\\\"\\n\\nexperiment_folder = (\\n    f\\\"lr_{args.lr[0]}_epochs_{args.epochs}_temperature-lens_{args.temperature_lens}\\\"\\n    f\\\"_use-concepts-as-pi-input_{use_concepts_as_pi_input}_input-size-pi_{args.input_size_pi}\\\"\\n    f\\\"_cov_{args.cov[0]}_alpha_{args.alpha}_selection-threshold_{args.selection_threshold}\\\"\\n    f\\\"_lambda-lens_{args.lambda_lens}_alpha-KD_{args.alpha_KD}\\\"\\n    f\\\"_temperature-KD_{float(args.temperature_KD)}_hidden-layers_{len(args.hidden_nodes)}\\\"\\n    f\\\"_layer_{args.layer}_explainer_init_{explainer_init if not args.explainer_init else args.explainer_init}\\\"\\n)\\n\\nroot = \\\"/ocean/projects/asc170022p/shg121/PhD/ICLR-2022/out/cub/\\\"\\nexperiment = f\\\"explainer/ResNet101/{experiment_folder}\\\"\\niteration = \\\"iter3\\\"\\nexpert_type = \\\"explainer\\\"\\noutput = \\\"g_outputs\\\"\\n\\n\\ntest_tensor_preds_3 = torch.load(\\n    os.path.join(\\n        root,\\n        experiment,\\n        \\\"cov_0.2_lr_0.01\\\",\\n        iteration,\\n        expert_type,\\n        output,\\n        \\\"test_tensor_preds.pt\\\",\\n    )\\n)\\n\\ntest_tensor_preds_bb_3 = torch.load(\\n    os.path.join(\\n        root,\\n        experiment,\\n        \\\"cov_0.2_lr_0.01\\\",\\n        iteration,\\n        expert_type,\\n        output,\\n        \\\"test_tensor_preds_bb.pt\\\",\\n    )\\n)\\n\\ntest_tensor_y_3 = torch.load(\\n    os.path.join(\\n        root,\\n        experiment,\\n        \\\"cov_0.2_lr_0.01\\\",\\n        iteration,\\n        expert_type,\\n        output,\\n        \\\"test_tensor_y.pt\\\",\\n    )\\n)\\n\\n\\nprint(\\\"\\\\n\\\\n << Test sizes >>\\\")\\nprint(test_tensor_preds_3.size())\\nprint(test_tensor_preds_bb_3.size())\\nprint(test_tensor_y_3.size())\";\n",
       "                var nbb_cells = Jupyter.notebook.get_cells();\n",
       "                for (var i = 0; i < nbb_cells.length; ++i) {\n",
       "                    if (nbb_cells[i].input_prompt_number == nbb_cell_id) {\n",
       "                        if (nbb_cells[i].get_text() == nbb_unformatted_code) {\n",
       "                             nbb_cells[i].set_text(nbb_formatted_code);\n",
       "                        }\n",
       "                        break;\n",
       "                    }\n",
       "                }\n",
       "            }, 500);\n",
       "            "
      ],
      "text/plain": [
       "<IPython.core.display.Javascript object>"
      ]
     },
     "metadata": {},
     "output_type": "display_data"
    }
   ],
   "source": [
    "base_lr = 0.01\n",
    "base_cov = 0.2\n",
    "pickle_in = open(\n",
    "    os.path.join(\n",
    "        f\"/ocean/projects/asc170022p/shg121/PhD/ICLR-2022/out/cub/explainer/ResNet101/lr_{base_lr}_epochs_500_temperature-lens_0.7_use-concepts-as-pi-input_True_input-size-pi_2048_cov_{base_cov}_alpha_0.5_selection-threshold_0.5_lambda-lens_0.0001_alpha-KD_0.9_temperature-KD_10.0_hidden-layers_1_layer_layer4_explainer_init_none\",\n",
    "        \"cov_0.2_lr_0.01\",\n",
    "        \"iter3\",\n",
    "        \"explainer\",\n",
    "        \"test_explainer_configs.pkl\",\n",
    "    ),\n",
    "    \"rb\",\n",
    ")\n",
    "args = pickle.load(pickle_in)\n",
    "n_classes = len(args.labels)\n",
    "x_to_bool = 0.5\n",
    "top_k_explanations = 50\n",
    "concept_names = args.concept_names\n",
    "print(\"########################\")\n",
    "print(args.lr[-1])\n",
    "print(args.cov[-1])\n",
    "\n",
    "use_concepts_as_pi_input = True\n",
    "explainer_init = \"none\"\n",
    "\n",
    "experiment_folder = (\n",
    "    f\"lr_{args.lr[0]}_epochs_{args.epochs}_temperature-lens_{args.temperature_lens}\"\n",
    "    f\"_use-concepts-as-pi-input_{use_concepts_as_pi_input}_input-size-pi_{args.input_size_pi}\"\n",
    "    f\"_cov_{args.cov[0]}_alpha_{args.alpha}_selection-threshold_{args.selection_threshold}\"\n",
    "    f\"_lambda-lens_{args.lambda_lens}_alpha-KD_{args.alpha_KD}\"\n",
    "    f\"_temperature-KD_{float(args.temperature_KD)}_hidden-layers_{len(args.hidden_nodes)}\"\n",
    "    f\"_layer_{args.layer}_explainer_init_{explainer_init if not args.explainer_init else args.explainer_init}\"\n",
    ")\n",
    "\n",
    "root = \"/ocean/projects/asc170022p/shg121/PhD/ICLR-2022/out/cub/\"\n",
    "experiment = f\"explainer/ResNet101/{experiment_folder}\"\n",
    "iteration = \"iter3\"\n",
    "expert_type = \"explainer\"\n",
    "output = \"g_outputs\"\n",
    "\n",
    "\n",
    "test_tensor_preds_3 = torch.load(\n",
    "    os.path.join(\n",
    "        root,\n",
    "        experiment,\n",
    "        \"cov_0.2_lr_0.01\",\n",
    "        iteration,\n",
    "        expert_type,\n",
    "        output,\n",
    "        \"test_tensor_preds.pt\",\n",
    "    )\n",
    ")\n",
    "\n",
    "test_tensor_preds_bb_3 = torch.load(\n",
    "    os.path.join(\n",
    "        root,\n",
    "        experiment,\n",
    "        \"cov_0.2_lr_0.01\",\n",
    "        iteration,\n",
    "        expert_type,\n",
    "        output,\n",
    "        \"test_tensor_preds_bb.pt\",\n",
    "    )\n",
    ")\n",
    "\n",
    "test_tensor_y_3 = torch.load(\n",
    "    os.path.join(\n",
    "        root,\n",
    "        experiment,\n",
    "        \"cov_0.2_lr_0.01\",\n",
    "        iteration,\n",
    "        expert_type,\n",
    "        output,\n",
    "        \"test_tensor_y.pt\",\n",
    "    )\n",
    ")\n",
    "\n",
    "\n",
    "print(\"\\n\\n << Test sizes >>\")\n",
    "print(test_tensor_preds_3.size())\n",
    "print(test_tensor_preds_bb_3.size())\n",
    "print(test_tensor_y_3.size())\n"
   ]
  },
  {
   "cell_type": "code",
   "execution_count": 41,
   "metadata": {},
   "outputs": [
    {
     "name": "stdout",
     "output_type": "stream",
     "text": [
      "########################\n",
      "0.01\n",
      "0.2\n",
      "\n",
      "\n",
      " << Test sizes >>\n",
      "torch.Size([176, 200])\n",
      "torch.Size([176, 200])\n",
      "torch.Size([176])\n"
     ]
    },
    {
     "data": {
      "application/javascript": [
       "\n",
       "            setTimeout(function() {\n",
       "                var nbb_cell_id = 41;\n",
       "                var nbb_unformatted_code = \"base_lr = 0.01\\nbase_cov = 0.2\\npickle_in = open(\\n    os.path.join(\\n        f\\\"/ocean/projects/asc170022p/shg121/PhD/ICLR-2022/out/cub/explainer/ResNet101/lr_{base_lr}_epochs_500_temperature-lens_0.7_use-concepts-as-pi-input_True_input-size-pi_2048_cov_{base_cov}_alpha_0.5_selection-threshold_0.5_lambda-lens_0.0001_alpha-KD_0.9_temperature-KD_10.0_hidden-layers_1_layer_layer4_explainer_init_none\\\",\\n        \\\"cov_0.2_lr_0.01\\\",\\n        \\\"iter4\\\",\\n        \\\"explainer\\\",\\n        \\\"test_explainer_configs.pkl\\\",\\n    ),\\n    \\\"rb\\\",\\n)\\nargs = pickle.load(pickle_in)\\nn_classes = len(args.labels)\\nx_to_bool = 0.5\\ntop_k_explanations = 50\\nconcept_names = args.concept_names\\nprint(\\\"########################\\\")\\nprint(args.lr[-1])\\nprint(args.cov[-1])\\n\\nuse_concepts_as_pi_input = True\\nexplainer_init = \\\"none\\\"\\n\\nexperiment_folder = (\\n    f\\\"lr_{args.lr[0]}_epochs_{args.epochs}_temperature-lens_{args.temperature_lens}\\\"\\n    f\\\"_use-concepts-as-pi-input_{use_concepts_as_pi_input}_input-size-pi_{args.input_size_pi}\\\"\\n    f\\\"_cov_{args.cov[0]}_alpha_{args.alpha}_selection-threshold_{args.selection_threshold}\\\"\\n    f\\\"_lambda-lens_{args.lambda_lens}_alpha-KD_{args.alpha_KD}\\\"\\n    f\\\"_temperature-KD_{float(args.temperature_KD)}_hidden-layers_{len(args.hidden_nodes)}\\\"\\n    f\\\"_layer_{args.layer}_explainer_init_{explainer_init if not args.explainer_init else args.explainer_init}\\\"\\n)\\n\\nroot = \\\"/ocean/projects/asc170022p/shg121/PhD/ICLR-2022/out/cub/\\\"\\nexperiment = f\\\"explainer/ResNet101/{experiment_folder}\\\"\\niteration = \\\"iter4\\\"\\nexpert_type = \\\"explainer\\\"\\noutput = \\\"g_outputs\\\"\\n\\n\\ntest_tensor_preds_4 = torch.load(\\n    os.path.join(\\n        root,\\n        experiment,\\n        \\\"cov_0.2_lr_0.01\\\",\\n        iteration,\\n        expert_type,\\n        output,\\n        \\\"test_tensor_preds.pt\\\",\\n    )\\n)\\n\\ntest_tensor_preds_bb_4 = torch.load(\\n    os.path.join(\\n        root,\\n        experiment,\\n        \\\"cov_0.2_lr_0.01\\\",\\n        iteration,\\n        expert_type,\\n        output,\\n        \\\"test_tensor_preds_bb.pt\\\",\\n    )\\n)\\n\\ntest_tensor_y_4 = torch.load(\\n    os.path.join(\\n        root,\\n        experiment,\\n        \\\"cov_0.2_lr_0.01\\\",\\n        iteration,\\n        expert_type,\\n        output,\\n        \\\"test_tensor_y.pt\\\",\\n    )\\n)\\n\\n\\nprint(\\\"\\\\n\\\\n << Test sizes >>\\\")\\nprint(test_tensor_preds_4.size())\\nprint(test_tensor_preds_bb_4.size())\\nprint(test_tensor_y_4.size())\";\n",
       "                var nbb_formatted_code = \"base_lr = 0.01\\nbase_cov = 0.2\\npickle_in = open(\\n    os.path.join(\\n        f\\\"/ocean/projects/asc170022p/shg121/PhD/ICLR-2022/out/cub/explainer/ResNet101/lr_{base_lr}_epochs_500_temperature-lens_0.7_use-concepts-as-pi-input_True_input-size-pi_2048_cov_{base_cov}_alpha_0.5_selection-threshold_0.5_lambda-lens_0.0001_alpha-KD_0.9_temperature-KD_10.0_hidden-layers_1_layer_layer4_explainer_init_none\\\",\\n        \\\"cov_0.2_lr_0.01\\\",\\n        \\\"iter4\\\",\\n        \\\"explainer\\\",\\n        \\\"test_explainer_configs.pkl\\\",\\n    ),\\n    \\\"rb\\\",\\n)\\nargs = pickle.load(pickle_in)\\nn_classes = len(args.labels)\\nx_to_bool = 0.5\\ntop_k_explanations = 50\\nconcept_names = args.concept_names\\nprint(\\\"########################\\\")\\nprint(args.lr[-1])\\nprint(args.cov[-1])\\n\\nuse_concepts_as_pi_input = True\\nexplainer_init = \\\"none\\\"\\n\\nexperiment_folder = (\\n    f\\\"lr_{args.lr[0]}_epochs_{args.epochs}_temperature-lens_{args.temperature_lens}\\\"\\n    f\\\"_use-concepts-as-pi-input_{use_concepts_as_pi_input}_input-size-pi_{args.input_size_pi}\\\"\\n    f\\\"_cov_{args.cov[0]}_alpha_{args.alpha}_selection-threshold_{args.selection_threshold}\\\"\\n    f\\\"_lambda-lens_{args.lambda_lens}_alpha-KD_{args.alpha_KD}\\\"\\n    f\\\"_temperature-KD_{float(args.temperature_KD)}_hidden-layers_{len(args.hidden_nodes)}\\\"\\n    f\\\"_layer_{args.layer}_explainer_init_{explainer_init if not args.explainer_init else args.explainer_init}\\\"\\n)\\n\\nroot = \\\"/ocean/projects/asc170022p/shg121/PhD/ICLR-2022/out/cub/\\\"\\nexperiment = f\\\"explainer/ResNet101/{experiment_folder}\\\"\\niteration = \\\"iter4\\\"\\nexpert_type = \\\"explainer\\\"\\noutput = \\\"g_outputs\\\"\\n\\n\\ntest_tensor_preds_4 = torch.load(\\n    os.path.join(\\n        root,\\n        experiment,\\n        \\\"cov_0.2_lr_0.01\\\",\\n        iteration,\\n        expert_type,\\n        output,\\n        \\\"test_tensor_preds.pt\\\",\\n    )\\n)\\n\\ntest_tensor_preds_bb_4 = torch.load(\\n    os.path.join(\\n        root,\\n        experiment,\\n        \\\"cov_0.2_lr_0.01\\\",\\n        iteration,\\n        expert_type,\\n        output,\\n        \\\"test_tensor_preds_bb.pt\\\",\\n    )\\n)\\n\\ntest_tensor_y_4 = torch.load(\\n    os.path.join(\\n        root,\\n        experiment,\\n        \\\"cov_0.2_lr_0.01\\\",\\n        iteration,\\n        expert_type,\\n        output,\\n        \\\"test_tensor_y.pt\\\",\\n    )\\n)\\n\\n\\nprint(\\\"\\\\n\\\\n << Test sizes >>\\\")\\nprint(test_tensor_preds_4.size())\\nprint(test_tensor_preds_bb_4.size())\\nprint(test_tensor_y_4.size())\";\n",
       "                var nbb_cells = Jupyter.notebook.get_cells();\n",
       "                for (var i = 0; i < nbb_cells.length; ++i) {\n",
       "                    if (nbb_cells[i].input_prompt_number == nbb_cell_id) {\n",
       "                        if (nbb_cells[i].get_text() == nbb_unformatted_code) {\n",
       "                             nbb_cells[i].set_text(nbb_formatted_code);\n",
       "                        }\n",
       "                        break;\n",
       "                    }\n",
       "                }\n",
       "            }, 500);\n",
       "            "
      ],
      "text/plain": [
       "<IPython.core.display.Javascript object>"
      ]
     },
     "metadata": {},
     "output_type": "display_data"
    }
   ],
   "source": [
    "base_lr = 0.01\n",
    "base_cov = 0.2\n",
    "pickle_in = open(\n",
    "    os.path.join(\n",
    "        f\"/ocean/projects/asc170022p/shg121/PhD/ICLR-2022/out/cub/explainer/ResNet101/lr_{base_lr}_epochs_500_temperature-lens_0.7_use-concepts-as-pi-input_True_input-size-pi_2048_cov_{base_cov}_alpha_0.5_selection-threshold_0.5_lambda-lens_0.0001_alpha-KD_0.9_temperature-KD_10.0_hidden-layers_1_layer_layer4_explainer_init_none\",\n",
    "        \"cov_0.2_lr_0.01\",\n",
    "        \"iter4\",\n",
    "        \"explainer\",\n",
    "        \"test_explainer_configs.pkl\",\n",
    "    ),\n",
    "    \"rb\",\n",
    ")\n",
    "args = pickle.load(pickle_in)\n",
    "n_classes = len(args.labels)\n",
    "x_to_bool = 0.5\n",
    "top_k_explanations = 50\n",
    "concept_names = args.concept_names\n",
    "print(\"########################\")\n",
    "print(args.lr[-1])\n",
    "print(args.cov[-1])\n",
    "\n",
    "use_concepts_as_pi_input = True\n",
    "explainer_init = \"none\"\n",
    "\n",
    "experiment_folder = (\n",
    "    f\"lr_{args.lr[0]}_epochs_{args.epochs}_temperature-lens_{args.temperature_lens}\"\n",
    "    f\"_use-concepts-as-pi-input_{use_concepts_as_pi_input}_input-size-pi_{args.input_size_pi}\"\n",
    "    f\"_cov_{args.cov[0]}_alpha_{args.alpha}_selection-threshold_{args.selection_threshold}\"\n",
    "    f\"_lambda-lens_{args.lambda_lens}_alpha-KD_{args.alpha_KD}\"\n",
    "    f\"_temperature-KD_{float(args.temperature_KD)}_hidden-layers_{len(args.hidden_nodes)}\"\n",
    "    f\"_layer_{args.layer}_explainer_init_{explainer_init if not args.explainer_init else args.explainer_init}\"\n",
    ")\n",
    "\n",
    "root = \"/ocean/projects/asc170022p/shg121/PhD/ICLR-2022/out/cub/\"\n",
    "experiment = f\"explainer/ResNet101/{experiment_folder}\"\n",
    "iteration = \"iter4\"\n",
    "expert_type = \"explainer\"\n",
    "output = \"g_outputs\"\n",
    "\n",
    "\n",
    "test_tensor_preds_4 = torch.load(\n",
    "    os.path.join(\n",
    "        root,\n",
    "        experiment,\n",
    "        \"cov_0.2_lr_0.01\",\n",
    "        iteration,\n",
    "        expert_type,\n",
    "        output,\n",
    "        \"test_tensor_preds.pt\",\n",
    "    )\n",
    ")\n",
    "\n",
    "test_tensor_preds_bb_4 = torch.load(\n",
    "    os.path.join(\n",
    "        root,\n",
    "        experiment,\n",
    "        \"cov_0.2_lr_0.01\",\n",
    "        iteration,\n",
    "        expert_type,\n",
    "        output,\n",
    "        \"test_tensor_preds_bb.pt\",\n",
    "    )\n",
    ")\n",
    "\n",
    "test_tensor_y_4 = torch.load(\n",
    "    os.path.join(\n",
    "        root,\n",
    "        experiment,\n",
    "        \"cov_0.2_lr_0.01\",\n",
    "        iteration,\n",
    "        expert_type,\n",
    "        output,\n",
    "        \"test_tensor_y.pt\",\n",
    "    )\n",
    ")\n",
    "\n",
    "\n",
    "print(\"\\n\\n << Test sizes >>\")\n",
    "print(test_tensor_preds_4.size())\n",
    "print(test_tensor_preds_bb_4.size())\n",
    "print(test_tensor_y_4.size())\n"
   ]
  },
  {
   "cell_type": "code",
   "execution_count": 42,
   "metadata": {},
   "outputs": [
    {
     "name": "stdout",
     "output_type": "stream",
     "text": [
      "########################\n",
      "0.01\n",
      "0.2\n",
      "\n",
      "\n",
      " << Test sizes >>\n",
      "torch.Size([146, 200])\n",
      "torch.Size([146, 200])\n",
      "torch.Size([146])\n"
     ]
    },
    {
     "data": {
      "application/javascript": [
       "\n",
       "            setTimeout(function() {\n",
       "                var nbb_cell_id = 42;\n",
       "                var nbb_unformatted_code = \"base_lr = 0.01\\nbase_cov = 0.2\\npickle_in = open(\\n    os.path.join(\\n        f\\\"/ocean/projects/asc170022p/shg121/PhD/ICLR-2022/out/cub/explainer/ResNet101/lr_{base_lr}_epochs_500_temperature-lens_0.7_use-concepts-as-pi-input_True_input-size-pi_2048_cov_{base_cov}_alpha_0.5_selection-threshold_0.5_lambda-lens_0.0001_alpha-KD_0.9_temperature-KD_10.0_hidden-layers_1_layer_layer4_explainer_init_none\\\",\\n        \\\"cov_0.2_lr_0.01\\\",\\n        \\\"iter5\\\",\\n        \\\"explainer\\\",\\n        \\\"test_explainer_configs.pkl\\\",\\n    ),\\n    \\\"rb\\\",\\n)\\nargs = pickle.load(pickle_in)\\nn_classes = len(args.labels)\\nx_to_bool = 0.5\\ntop_k_explanations = 50\\nconcept_names = args.concept_names\\nprint(\\\"########################\\\")\\nprint(args.lr[-1])\\nprint(args.cov[-1])\\n\\nuse_concepts_as_pi_input = True\\nexplainer_init = \\\"none\\\"\\n\\nexperiment_folder = (\\n    f\\\"lr_{args.lr[0]}_epochs_{args.epochs}_temperature-lens_{args.temperature_lens}\\\"\\n    f\\\"_use-concepts-as-pi-input_{use_concepts_as_pi_input}_input-size-pi_{args.input_size_pi}\\\"\\n    f\\\"_cov_{args.cov[0]}_alpha_{args.alpha}_selection-threshold_{args.selection_threshold}\\\"\\n    f\\\"_lambda-lens_{args.lambda_lens}_alpha-KD_{args.alpha_KD}\\\"\\n    f\\\"_temperature-KD_{float(args.temperature_KD)}_hidden-layers_{len(args.hidden_nodes)}\\\"\\n    f\\\"_layer_{args.layer}_explainer_init_{explainer_init if not args.explainer_init else args.explainer_init}\\\"\\n)\\n\\nroot = \\\"/ocean/projects/asc170022p/shg121/PhD/ICLR-2022/out/cub/\\\"\\nexperiment = f\\\"explainer/ResNet101/{experiment_folder}\\\"\\niteration = \\\"iter5\\\"\\nexpert_type = \\\"explainer\\\"\\noutput = \\\"g_outputs\\\"\\n\\n\\ntest_tensor_preds_5 = torch.load(\\n    os.path.join(\\n        root,\\n        experiment,\\n        \\\"cov_0.2_lr_0.01\\\",\\n        iteration,\\n        expert_type,\\n        output,\\n        \\\"test_tensor_preds.pt\\\",\\n    )\\n)\\n\\ntest_tensor_preds_bb_5 = torch.load(\\n    os.path.join(\\n        root,\\n        experiment,\\n        \\\"cov_0.2_lr_0.01\\\",\\n        iteration,\\n        expert_type,\\n        output,\\n        \\\"test_tensor_preds_bb.pt\\\",\\n    )\\n)\\n\\ntest_tensor_y_5 = torch.load(\\n    os.path.join(\\n        root,\\n        experiment,\\n        \\\"cov_0.2_lr_0.01\\\",\\n        iteration,\\n        expert_type,\\n        output,\\n        \\\"test_tensor_y.pt\\\",\\n    )\\n)\\n\\n\\nprint(\\\"\\\\n\\\\n << Test sizes >>\\\")\\nprint(test_tensor_preds_5.size())\\nprint(test_tensor_preds_bb_5.size())\\nprint(test_tensor_y_5.size())\";\n",
       "                var nbb_formatted_code = \"base_lr = 0.01\\nbase_cov = 0.2\\npickle_in = open(\\n    os.path.join(\\n        f\\\"/ocean/projects/asc170022p/shg121/PhD/ICLR-2022/out/cub/explainer/ResNet101/lr_{base_lr}_epochs_500_temperature-lens_0.7_use-concepts-as-pi-input_True_input-size-pi_2048_cov_{base_cov}_alpha_0.5_selection-threshold_0.5_lambda-lens_0.0001_alpha-KD_0.9_temperature-KD_10.0_hidden-layers_1_layer_layer4_explainer_init_none\\\",\\n        \\\"cov_0.2_lr_0.01\\\",\\n        \\\"iter5\\\",\\n        \\\"explainer\\\",\\n        \\\"test_explainer_configs.pkl\\\",\\n    ),\\n    \\\"rb\\\",\\n)\\nargs = pickle.load(pickle_in)\\nn_classes = len(args.labels)\\nx_to_bool = 0.5\\ntop_k_explanations = 50\\nconcept_names = args.concept_names\\nprint(\\\"########################\\\")\\nprint(args.lr[-1])\\nprint(args.cov[-1])\\n\\nuse_concepts_as_pi_input = True\\nexplainer_init = \\\"none\\\"\\n\\nexperiment_folder = (\\n    f\\\"lr_{args.lr[0]}_epochs_{args.epochs}_temperature-lens_{args.temperature_lens}\\\"\\n    f\\\"_use-concepts-as-pi-input_{use_concepts_as_pi_input}_input-size-pi_{args.input_size_pi}\\\"\\n    f\\\"_cov_{args.cov[0]}_alpha_{args.alpha}_selection-threshold_{args.selection_threshold}\\\"\\n    f\\\"_lambda-lens_{args.lambda_lens}_alpha-KD_{args.alpha_KD}\\\"\\n    f\\\"_temperature-KD_{float(args.temperature_KD)}_hidden-layers_{len(args.hidden_nodes)}\\\"\\n    f\\\"_layer_{args.layer}_explainer_init_{explainer_init if not args.explainer_init else args.explainer_init}\\\"\\n)\\n\\nroot = \\\"/ocean/projects/asc170022p/shg121/PhD/ICLR-2022/out/cub/\\\"\\nexperiment = f\\\"explainer/ResNet101/{experiment_folder}\\\"\\niteration = \\\"iter5\\\"\\nexpert_type = \\\"explainer\\\"\\noutput = \\\"g_outputs\\\"\\n\\n\\ntest_tensor_preds_5 = torch.load(\\n    os.path.join(\\n        root,\\n        experiment,\\n        \\\"cov_0.2_lr_0.01\\\",\\n        iteration,\\n        expert_type,\\n        output,\\n        \\\"test_tensor_preds.pt\\\",\\n    )\\n)\\n\\ntest_tensor_preds_bb_5 = torch.load(\\n    os.path.join(\\n        root,\\n        experiment,\\n        \\\"cov_0.2_lr_0.01\\\",\\n        iteration,\\n        expert_type,\\n        output,\\n        \\\"test_tensor_preds_bb.pt\\\",\\n    )\\n)\\n\\ntest_tensor_y_5 = torch.load(\\n    os.path.join(\\n        root,\\n        experiment,\\n        \\\"cov_0.2_lr_0.01\\\",\\n        iteration,\\n        expert_type,\\n        output,\\n        \\\"test_tensor_y.pt\\\",\\n    )\\n)\\n\\n\\nprint(\\\"\\\\n\\\\n << Test sizes >>\\\")\\nprint(test_tensor_preds_5.size())\\nprint(test_tensor_preds_bb_5.size())\\nprint(test_tensor_y_5.size())\";\n",
       "                var nbb_cells = Jupyter.notebook.get_cells();\n",
       "                for (var i = 0; i < nbb_cells.length; ++i) {\n",
       "                    if (nbb_cells[i].input_prompt_number == nbb_cell_id) {\n",
       "                        if (nbb_cells[i].get_text() == nbb_unformatted_code) {\n",
       "                             nbb_cells[i].set_text(nbb_formatted_code);\n",
       "                        }\n",
       "                        break;\n",
       "                    }\n",
       "                }\n",
       "            }, 500);\n",
       "            "
      ],
      "text/plain": [
       "<IPython.core.display.Javascript object>"
      ]
     },
     "metadata": {},
     "output_type": "display_data"
    }
   ],
   "source": [
    "base_lr = 0.01\n",
    "base_cov = 0.2\n",
    "pickle_in = open(\n",
    "    os.path.join(\n",
    "        f\"/ocean/projects/asc170022p/shg121/PhD/ICLR-2022/out/cub/explainer/ResNet101/lr_{base_lr}_epochs_500_temperature-lens_0.7_use-concepts-as-pi-input_True_input-size-pi_2048_cov_{base_cov}_alpha_0.5_selection-threshold_0.5_lambda-lens_0.0001_alpha-KD_0.9_temperature-KD_10.0_hidden-layers_1_layer_layer4_explainer_init_none\",\n",
    "        \"cov_0.2_lr_0.01\",\n",
    "        \"iter5\",\n",
    "        \"explainer\",\n",
    "        \"test_explainer_configs.pkl\",\n",
    "    ),\n",
    "    \"rb\",\n",
    ")\n",
    "args = pickle.load(pickle_in)\n",
    "n_classes = len(args.labels)\n",
    "x_to_bool = 0.5\n",
    "top_k_explanations = 50\n",
    "concept_names = args.concept_names\n",
    "print(\"########################\")\n",
    "print(args.lr[-1])\n",
    "print(args.cov[-1])\n",
    "\n",
    "use_concepts_as_pi_input = True\n",
    "explainer_init = \"none\"\n",
    "\n",
    "experiment_folder = (\n",
    "    f\"lr_{args.lr[0]}_epochs_{args.epochs}_temperature-lens_{args.temperature_lens}\"\n",
    "    f\"_use-concepts-as-pi-input_{use_concepts_as_pi_input}_input-size-pi_{args.input_size_pi}\"\n",
    "    f\"_cov_{args.cov[0]}_alpha_{args.alpha}_selection-threshold_{args.selection_threshold}\"\n",
    "    f\"_lambda-lens_{args.lambda_lens}_alpha-KD_{args.alpha_KD}\"\n",
    "    f\"_temperature-KD_{float(args.temperature_KD)}_hidden-layers_{len(args.hidden_nodes)}\"\n",
    "    f\"_layer_{args.layer}_explainer_init_{explainer_init if not args.explainer_init else args.explainer_init}\"\n",
    ")\n",
    "\n",
    "root = \"/ocean/projects/asc170022p/shg121/PhD/ICLR-2022/out/cub/\"\n",
    "experiment = f\"explainer/ResNet101/{experiment_folder}\"\n",
    "iteration = \"iter5\"\n",
    "expert_type = \"explainer\"\n",
    "output = \"g_outputs\"\n",
    "\n",
    "\n",
    "test_tensor_preds_5 = torch.load(\n",
    "    os.path.join(\n",
    "        root,\n",
    "        experiment,\n",
    "        \"cov_0.2_lr_0.01\",\n",
    "        iteration,\n",
    "        expert_type,\n",
    "        output,\n",
    "        \"test_tensor_preds.pt\",\n",
    "    )\n",
    ")\n",
    "\n",
    "test_tensor_preds_bb_5 = torch.load(\n",
    "    os.path.join(\n",
    "        root,\n",
    "        experiment,\n",
    "        \"cov_0.2_lr_0.01\",\n",
    "        iteration,\n",
    "        expert_type,\n",
    "        output,\n",
    "        \"test_tensor_preds_bb.pt\",\n",
    "    )\n",
    ")\n",
    "\n",
    "test_tensor_y_5 = torch.load(\n",
    "    os.path.join(\n",
    "        root,\n",
    "        experiment,\n",
    "        \"cov_0.2_lr_0.01\",\n",
    "        iteration,\n",
    "        expert_type,\n",
    "        output,\n",
    "        \"test_tensor_y.pt\",\n",
    "    )\n",
    ")\n",
    "\n",
    "\n",
    "print(\"\\n\\n << Test sizes >>\")\n",
    "print(test_tensor_preds_5.size())\n",
    "print(test_tensor_preds_bb_5.size())\n",
    "print(test_tensor_y_5.size())\n"
   ]
  },
  {
   "cell_type": "code",
   "execution_count": 43,
   "metadata": {},
   "outputs": [
    {
     "name": "stdout",
     "output_type": "stream",
     "text": [
      "########################\n",
      "0.01\n",
      "0.2\n",
      "\n",
      "\n",
      " << Test sizes >>\n",
      "torch.Size([189, 200])\n",
      "torch.Size([189, 200])\n",
      "torch.Size([189])\n"
     ]
    },
    {
     "data": {
      "application/javascript": [
       "\n",
       "            setTimeout(function() {\n",
       "                var nbb_cell_id = 43;\n",
       "                var nbb_unformatted_code = \"base_lr = 0.01\\nbase_cov = 0.2\\npickle_in = open(\\n    os.path.join(\\n        f\\\"/ocean/projects/asc170022p/shg121/PhD/ICLR-2022/out/cub/explainer/ResNet101/lr_{base_lr}_epochs_500_temperature-lens_0.7_use-concepts-as-pi-input_True_input-size-pi_2048_cov_{base_cov}_alpha_0.5_selection-threshold_0.5_lambda-lens_0.0001_alpha-KD_0.9_temperature-KD_10.0_hidden-layers_1_layer_layer4_explainer_init_none\\\",\\n        \\\"cov_0.2_lr_0.01\\\",\\n        \\\"iter6\\\",\\n        \\\"explainer\\\",\\n        \\\"test_explainer_configs.pkl\\\",\\n    ),\\n    \\\"rb\\\",\\n)\\nargs = pickle.load(pickle_in)\\nn_classes = len(args.labels)\\nx_to_bool = 0.5\\ntop_k_explanations = 50\\nconcept_names = args.concept_names\\nprint(\\\"########################\\\")\\nprint(args.lr[-1])\\nprint(args.cov[-1])\\n\\nuse_concepts_as_pi_input = True\\nexplainer_init = \\\"none\\\"\\n\\nexperiment_folder = (\\n    f\\\"lr_{args.lr[0]}_epochs_{args.epochs}_temperature-lens_{args.temperature_lens}\\\"\\n    f\\\"_use-concepts-as-pi-input_{use_concepts_as_pi_input}_input-size-pi_{args.input_size_pi}\\\"\\n    f\\\"_cov_{args.cov[0]}_alpha_{args.alpha}_selection-threshold_{args.selection_threshold}\\\"\\n    f\\\"_lambda-lens_{args.lambda_lens}_alpha-KD_{args.alpha_KD}\\\"\\n    f\\\"_temperature-KD_{float(args.temperature_KD)}_hidden-layers_{len(args.hidden_nodes)}\\\"\\n    f\\\"_layer_{args.layer}_explainer_init_{explainer_init if not args.explainer_init else args.explainer_init}\\\"\\n)\\n\\nroot = \\\"/ocean/projects/asc170022p/shg121/PhD/ICLR-2022/out/cub/\\\"\\nexperiment = f\\\"explainer/ResNet101/{experiment_folder}\\\"\\niteration = \\\"iter6\\\"\\nexpert_type = \\\"explainer\\\"\\noutput = \\\"g_outputs\\\"\\n\\n\\ntest_tensor_preds_6 = torch.load(\\n    os.path.join(\\n        root,\\n        experiment,\\n        \\\"cov_0.2_lr_0.01\\\",\\n        iteration,\\n        expert_type,\\n        output,\\n        \\\"test_tensor_preds.pt\\\",\\n    )\\n)\\n\\ntest_tensor_preds_bb_6 = torch.load(\\n    os.path.join(\\n        root,\\n        experiment,\\n        \\\"cov_0.2_lr_0.01\\\",\\n        iteration,\\n        expert_type,\\n        output,\\n        \\\"test_tensor_preds_bb.pt\\\",\\n    )\\n)\\n\\ntest_tensor_y_6 = torch.load(\\n    os.path.join(\\n        root,\\n        experiment,\\n        \\\"cov_0.2_lr_0.01\\\",\\n        iteration,\\n        expert_type,\\n        output,\\n        \\\"test_tensor_y.pt\\\",\\n    )\\n)\\n\\n\\nprint(\\\"\\\\n\\\\n << Test sizes >>\\\")\\nprint(test_tensor_preds_6.size())\\nprint(test_tensor_preds_bb_6.size())\\nprint(test_tensor_y_6.size())\";\n",
       "                var nbb_formatted_code = \"base_lr = 0.01\\nbase_cov = 0.2\\npickle_in = open(\\n    os.path.join(\\n        f\\\"/ocean/projects/asc170022p/shg121/PhD/ICLR-2022/out/cub/explainer/ResNet101/lr_{base_lr}_epochs_500_temperature-lens_0.7_use-concepts-as-pi-input_True_input-size-pi_2048_cov_{base_cov}_alpha_0.5_selection-threshold_0.5_lambda-lens_0.0001_alpha-KD_0.9_temperature-KD_10.0_hidden-layers_1_layer_layer4_explainer_init_none\\\",\\n        \\\"cov_0.2_lr_0.01\\\",\\n        \\\"iter6\\\",\\n        \\\"explainer\\\",\\n        \\\"test_explainer_configs.pkl\\\",\\n    ),\\n    \\\"rb\\\",\\n)\\nargs = pickle.load(pickle_in)\\nn_classes = len(args.labels)\\nx_to_bool = 0.5\\ntop_k_explanations = 50\\nconcept_names = args.concept_names\\nprint(\\\"########################\\\")\\nprint(args.lr[-1])\\nprint(args.cov[-1])\\n\\nuse_concepts_as_pi_input = True\\nexplainer_init = \\\"none\\\"\\n\\nexperiment_folder = (\\n    f\\\"lr_{args.lr[0]}_epochs_{args.epochs}_temperature-lens_{args.temperature_lens}\\\"\\n    f\\\"_use-concepts-as-pi-input_{use_concepts_as_pi_input}_input-size-pi_{args.input_size_pi}\\\"\\n    f\\\"_cov_{args.cov[0]}_alpha_{args.alpha}_selection-threshold_{args.selection_threshold}\\\"\\n    f\\\"_lambda-lens_{args.lambda_lens}_alpha-KD_{args.alpha_KD}\\\"\\n    f\\\"_temperature-KD_{float(args.temperature_KD)}_hidden-layers_{len(args.hidden_nodes)}\\\"\\n    f\\\"_layer_{args.layer}_explainer_init_{explainer_init if not args.explainer_init else args.explainer_init}\\\"\\n)\\n\\nroot = \\\"/ocean/projects/asc170022p/shg121/PhD/ICLR-2022/out/cub/\\\"\\nexperiment = f\\\"explainer/ResNet101/{experiment_folder}\\\"\\niteration = \\\"iter6\\\"\\nexpert_type = \\\"explainer\\\"\\noutput = \\\"g_outputs\\\"\\n\\n\\ntest_tensor_preds_6 = torch.load(\\n    os.path.join(\\n        root,\\n        experiment,\\n        \\\"cov_0.2_lr_0.01\\\",\\n        iteration,\\n        expert_type,\\n        output,\\n        \\\"test_tensor_preds.pt\\\",\\n    )\\n)\\n\\ntest_tensor_preds_bb_6 = torch.load(\\n    os.path.join(\\n        root,\\n        experiment,\\n        \\\"cov_0.2_lr_0.01\\\",\\n        iteration,\\n        expert_type,\\n        output,\\n        \\\"test_tensor_preds_bb.pt\\\",\\n    )\\n)\\n\\ntest_tensor_y_6 = torch.load(\\n    os.path.join(\\n        root,\\n        experiment,\\n        \\\"cov_0.2_lr_0.01\\\",\\n        iteration,\\n        expert_type,\\n        output,\\n        \\\"test_tensor_y.pt\\\",\\n    )\\n)\\n\\n\\nprint(\\\"\\\\n\\\\n << Test sizes >>\\\")\\nprint(test_tensor_preds_6.size())\\nprint(test_tensor_preds_bb_6.size())\\nprint(test_tensor_y_6.size())\";\n",
       "                var nbb_cells = Jupyter.notebook.get_cells();\n",
       "                for (var i = 0; i < nbb_cells.length; ++i) {\n",
       "                    if (nbb_cells[i].input_prompt_number == nbb_cell_id) {\n",
       "                        if (nbb_cells[i].get_text() == nbb_unformatted_code) {\n",
       "                             nbb_cells[i].set_text(nbb_formatted_code);\n",
       "                        }\n",
       "                        break;\n",
       "                    }\n",
       "                }\n",
       "            }, 500);\n",
       "            "
      ],
      "text/plain": [
       "<IPython.core.display.Javascript object>"
      ]
     },
     "metadata": {},
     "output_type": "display_data"
    }
   ],
   "source": [
    "base_lr = 0.01\n",
    "base_cov = 0.2\n",
    "pickle_in = open(\n",
    "    os.path.join(\n",
    "        f\"/ocean/projects/asc170022p/shg121/PhD/ICLR-2022/out/cub/explainer/ResNet101/lr_{base_lr}_epochs_500_temperature-lens_0.7_use-concepts-as-pi-input_True_input-size-pi_2048_cov_{base_cov}_alpha_0.5_selection-threshold_0.5_lambda-lens_0.0001_alpha-KD_0.9_temperature-KD_10.0_hidden-layers_1_layer_layer4_explainer_init_none\",\n",
    "        \"cov_0.2_lr_0.01\",\n",
    "        \"iter6\",\n",
    "        \"explainer\",\n",
    "        \"test_explainer_configs.pkl\",\n",
    "    ),\n",
    "    \"rb\",\n",
    ")\n",
    "args = pickle.load(pickle_in)\n",
    "n_classes = len(args.labels)\n",
    "x_to_bool = 0.5\n",
    "top_k_explanations = 50\n",
    "concept_names = args.concept_names\n",
    "print(\"########################\")\n",
    "print(args.lr[-1])\n",
    "print(args.cov[-1])\n",
    "\n",
    "use_concepts_as_pi_input = True\n",
    "explainer_init = \"none\"\n",
    "\n",
    "experiment_folder = (\n",
    "    f\"lr_{args.lr[0]}_epochs_{args.epochs}_temperature-lens_{args.temperature_lens}\"\n",
    "    f\"_use-concepts-as-pi-input_{use_concepts_as_pi_input}_input-size-pi_{args.input_size_pi}\"\n",
    "    f\"_cov_{args.cov[0]}_alpha_{args.alpha}_selection-threshold_{args.selection_threshold}\"\n",
    "    f\"_lambda-lens_{args.lambda_lens}_alpha-KD_{args.alpha_KD}\"\n",
    "    f\"_temperature-KD_{float(args.temperature_KD)}_hidden-layers_{len(args.hidden_nodes)}\"\n",
    "    f\"_layer_{args.layer}_explainer_init_{explainer_init if not args.explainer_init else args.explainer_init}\"\n",
    ")\n",
    "\n",
    "root = \"/ocean/projects/asc170022p/shg121/PhD/ICLR-2022/out/cub/\"\n",
    "experiment = f\"explainer/ResNet101/{experiment_folder}\"\n",
    "iteration = \"iter6\"\n",
    "expert_type = \"explainer\"\n",
    "output = \"g_outputs\"\n",
    "\n",
    "\n",
    "test_tensor_preds_6 = torch.load(\n",
    "    os.path.join(\n",
    "        root,\n",
    "        experiment,\n",
    "        \"cov_0.2_lr_0.01\",\n",
    "        iteration,\n",
    "        expert_type,\n",
    "        output,\n",
    "        \"test_tensor_preds.pt\",\n",
    "    )\n",
    ")\n",
    "\n",
    "test_tensor_preds_bb_6 = torch.load(\n",
    "    os.path.join(\n",
    "        root,\n",
    "        experiment,\n",
    "        \"cov_0.2_lr_0.01\",\n",
    "        iteration,\n",
    "        expert_type,\n",
    "        output,\n",
    "        \"test_tensor_preds_bb.pt\",\n",
    "    )\n",
    ")\n",
    "\n",
    "test_tensor_y_6 = torch.load(\n",
    "    os.path.join(\n",
    "        root,\n",
    "        experiment,\n",
    "        \"cov_0.2_lr_0.01\",\n",
    "        iteration,\n",
    "        expert_type,\n",
    "        output,\n",
    "        \"test_tensor_y.pt\",\n",
    "    )\n",
    ")\n",
    "\n",
    "\n",
    "print(\"\\n\\n << Test sizes >>\")\n",
    "print(test_tensor_preds_6.size())\n",
    "print(test_tensor_preds_bb_6.size())\n",
    "print(test_tensor_y_6.size())\n"
   ]
  },
  {
   "cell_type": "code",
   "execution_count": 44,
   "metadata": {},
   "outputs": [
    {
     "data": {
      "application/javascript": [
       "\n",
       "            setTimeout(function() {\n",
       "                var nbb_cell_id = 44;\n",
       "                var nbb_unformatted_code = \"# base_lr = 0.01\\n# base_cov = 0.2\\n# pickle_in = open(\\n#     os.path.join(\\n#         f\\\"/ocean/projects/asc170022p/shg121/PhD/ICLR-2022/out/cub/explainer/ResNet101/lr_{base_lr}_epochs_500_temperature-lens_0.7_use-concepts-as-pi-input_True_input-size-pi_2048_cov_{base_cov}_alpha_0.5_selection-threshold_0.5_lambda-lens_0.0001_alpha-KD_0.9_temperature-KD_10.0_hidden-layers_1_layer_layer4_explainer_init_none\\\",\\n#         \\\"cov_0.2_lr_0.01\\\",\\n#         \\\"iter7\\\",\\n#         \\\"explainer\\\",\\n#         \\\"test_explainer_configs.pkl\\\",\\n#     ),\\n#     \\\"rb\\\",\\n# )\\n# args = pickle.load(pickle_in)\\n# n_classes = len(args.labels)\\n# x_to_bool = 0.5\\n# top_k_explanations = 50\\n# concept_names = args.concept_names\\n# print(\\\"########################\\\")\\n# print(args.lr[-1])\\n# print(args.cov[-1])\\n\\n# use_concepts_as_pi_input = True\\n# explainer_init = \\\"none\\\"\\n\\n# experiment_folder = (\\n#     f\\\"lr_{args.lr[0]}_epochs_{args.epochs}_temperature-lens_{args.temperature_lens}\\\"\\n#     f\\\"_use-concepts-as-pi-input_{use_concepts_as_pi_input}_input-size-pi_{args.input_size_pi}\\\"\\n#     f\\\"_cov_{args.cov[0]}_alpha_{args.alpha}_selection-threshold_{args.selection_threshold}\\\"\\n#     f\\\"_lambda-lens_{args.lambda_lens}_alpha-KD_{args.alpha_KD}\\\"\\n#     f\\\"_temperature-KD_{float(args.temperature_KD)}_hidden-layers_{len(args.hidden_nodes)}\\\"\\n#     f\\\"_layer_{args.layer}_explainer_init_{explainer_init if not args.explainer_init else args.explainer_init}\\\"\\n# )\\n\\n# root = \\\"/ocean/projects/asc170022p/shg121/PhD/ICLR-2022/out/cub/\\\"\\n# experiment = f\\\"explainer/ResNet101/{experiment_folder}\\\"\\n# iteration = \\\"iter7\\\"\\n# expert_type = \\\"explainer\\\"\\n# output = \\\"g_outputs\\\"\\n\\n\\n# test_tensor_preds_7 = torch.load(\\n#     os.path.join(\\n#         root,\\n#         experiment,\\n#         \\\"cov_0.2_lr_0.01\\\",\\n#         iteration,\\n#         expert_type,\\n#         output,\\n#         \\\"test_tensor_preds.pt\\\",\\n#     )\\n# )\\n\\n# test_tensor_preds_bb_7 = torch.load(\\n#     os.path.join(\\n#         root,\\n#         experiment,\\n#         \\\"cov_0.2_lr_0.01\\\",\\n#         iteration,\\n#         expert_type,\\n#         output,\\n#         \\\"test_tensor_preds_bb.pt\\\",\\n#     )\\n# )\\n\\n# test_tensor_y_7 = torch.load(\\n#     os.path.join(\\n#         root,\\n#         experiment,\\n#         \\\"cov_0.2_lr_0.01\\\",\\n#         iteration,\\n#         expert_type,\\n#         output,\\n#         \\\"test_tensor_y.pt\\\",\\n#     )\\n# )\\n\\n\\n# print(\\\"\\\\n\\\\n << Test sizes >>\\\")\\n# print(test_tensor_preds_7.size())\\n# print(test_tensor_preds_bb_7.size())\\n# print(test_tensor_y_7.size())\";\n",
       "                var nbb_formatted_code = \"# base_lr = 0.01\\n# base_cov = 0.2\\n# pickle_in = open(\\n#     os.path.join(\\n#         f\\\"/ocean/projects/asc170022p/shg121/PhD/ICLR-2022/out/cub/explainer/ResNet101/lr_{base_lr}_epochs_500_temperature-lens_0.7_use-concepts-as-pi-input_True_input-size-pi_2048_cov_{base_cov}_alpha_0.5_selection-threshold_0.5_lambda-lens_0.0001_alpha-KD_0.9_temperature-KD_10.0_hidden-layers_1_layer_layer4_explainer_init_none\\\",\\n#         \\\"cov_0.2_lr_0.01\\\",\\n#         \\\"iter7\\\",\\n#         \\\"explainer\\\",\\n#         \\\"test_explainer_configs.pkl\\\",\\n#     ),\\n#     \\\"rb\\\",\\n# )\\n# args = pickle.load(pickle_in)\\n# n_classes = len(args.labels)\\n# x_to_bool = 0.5\\n# top_k_explanations = 50\\n# concept_names = args.concept_names\\n# print(\\\"########################\\\")\\n# print(args.lr[-1])\\n# print(args.cov[-1])\\n\\n# use_concepts_as_pi_input = True\\n# explainer_init = \\\"none\\\"\\n\\n# experiment_folder = (\\n#     f\\\"lr_{args.lr[0]}_epochs_{args.epochs}_temperature-lens_{args.temperature_lens}\\\"\\n#     f\\\"_use-concepts-as-pi-input_{use_concepts_as_pi_input}_input-size-pi_{args.input_size_pi}\\\"\\n#     f\\\"_cov_{args.cov[0]}_alpha_{args.alpha}_selection-threshold_{args.selection_threshold}\\\"\\n#     f\\\"_lambda-lens_{args.lambda_lens}_alpha-KD_{args.alpha_KD}\\\"\\n#     f\\\"_temperature-KD_{float(args.temperature_KD)}_hidden-layers_{len(args.hidden_nodes)}\\\"\\n#     f\\\"_layer_{args.layer}_explainer_init_{explainer_init if not args.explainer_init else args.explainer_init}\\\"\\n# )\\n\\n# root = \\\"/ocean/projects/asc170022p/shg121/PhD/ICLR-2022/out/cub/\\\"\\n# experiment = f\\\"explainer/ResNet101/{experiment_folder}\\\"\\n# iteration = \\\"iter7\\\"\\n# expert_type = \\\"explainer\\\"\\n# output = \\\"g_outputs\\\"\\n\\n\\n# test_tensor_preds_7 = torch.load(\\n#     os.path.join(\\n#         root,\\n#         experiment,\\n#         \\\"cov_0.2_lr_0.01\\\",\\n#         iteration,\\n#         expert_type,\\n#         output,\\n#         \\\"test_tensor_preds.pt\\\",\\n#     )\\n# )\\n\\n# test_tensor_preds_bb_7 = torch.load(\\n#     os.path.join(\\n#         root,\\n#         experiment,\\n#         \\\"cov_0.2_lr_0.01\\\",\\n#         iteration,\\n#         expert_type,\\n#         output,\\n#         \\\"test_tensor_preds_bb.pt\\\",\\n#     )\\n# )\\n\\n# test_tensor_y_7 = torch.load(\\n#     os.path.join(\\n#         root,\\n#         experiment,\\n#         \\\"cov_0.2_lr_0.01\\\",\\n#         iteration,\\n#         expert_type,\\n#         output,\\n#         \\\"test_tensor_y.pt\\\",\\n#     )\\n# )\\n\\n\\n# print(\\\"\\\\n\\\\n << Test sizes >>\\\")\\n# print(test_tensor_preds_7.size())\\n# print(test_tensor_preds_bb_7.size())\\n# print(test_tensor_y_7.size())\";\n",
       "                var nbb_cells = Jupyter.notebook.get_cells();\n",
       "                for (var i = 0; i < nbb_cells.length; ++i) {\n",
       "                    if (nbb_cells[i].input_prompt_number == nbb_cell_id) {\n",
       "                        if (nbb_cells[i].get_text() == nbb_unformatted_code) {\n",
       "                             nbb_cells[i].set_text(nbb_formatted_code);\n",
       "                        }\n",
       "                        break;\n",
       "                    }\n",
       "                }\n",
       "            }, 500);\n",
       "            "
      ],
      "text/plain": [
       "<IPython.core.display.Javascript object>"
      ]
     },
     "metadata": {},
     "output_type": "display_data"
    }
   ],
   "source": [
    "# base_lr = 0.01\n",
    "# base_cov = 0.2\n",
    "# pickle_in = open(\n",
    "#     os.path.join(\n",
    "#         f\"/ocean/projects/asc170022p/shg121/PhD/ICLR-2022/out/cub/explainer/ResNet101/lr_{base_lr}_epochs_500_temperature-lens_0.7_use-concepts-as-pi-input_True_input-size-pi_2048_cov_{base_cov}_alpha_0.5_selection-threshold_0.5_lambda-lens_0.0001_alpha-KD_0.9_temperature-KD_10.0_hidden-layers_1_layer_layer4_explainer_init_none\",\n",
    "#         \"cov_0.2_lr_0.01\",\n",
    "#         \"iter7\",\n",
    "#         \"explainer\",\n",
    "#         \"test_explainer_configs.pkl\",\n",
    "#     ),\n",
    "#     \"rb\",\n",
    "# )\n",
    "# args = pickle.load(pickle_in)\n",
    "# n_classes = len(args.labels)\n",
    "# x_to_bool = 0.5\n",
    "# top_k_explanations = 50\n",
    "# concept_names = args.concept_names\n",
    "# print(\"########################\")\n",
    "# print(args.lr[-1])\n",
    "# print(args.cov[-1])\n",
    "\n",
    "# use_concepts_as_pi_input = True\n",
    "# explainer_init = \"none\"\n",
    "\n",
    "# experiment_folder = (\n",
    "#     f\"lr_{args.lr[0]}_epochs_{args.epochs}_temperature-lens_{args.temperature_lens}\"\n",
    "#     f\"_use-concepts-as-pi-input_{use_concepts_as_pi_input}_input-size-pi_{args.input_size_pi}\"\n",
    "#     f\"_cov_{args.cov[0]}_alpha_{args.alpha}_selection-threshold_{args.selection_threshold}\"\n",
    "#     f\"_lambda-lens_{args.lambda_lens}_alpha-KD_{args.alpha_KD}\"\n",
    "#     f\"_temperature-KD_{float(args.temperature_KD)}_hidden-layers_{len(args.hidden_nodes)}\"\n",
    "#     f\"_layer_{args.layer}_explainer_init_{explainer_init if not args.explainer_init else args.explainer_init}\"\n",
    "# )\n",
    "\n",
    "# root = \"/ocean/projects/asc170022p/shg121/PhD/ICLR-2022/out/cub/\"\n",
    "# experiment = f\"explainer/ResNet101/{experiment_folder}\"\n",
    "# iteration = \"iter7\"\n",
    "# expert_type = \"explainer\"\n",
    "# output = \"g_outputs\"\n",
    "\n",
    "\n",
    "# test_tensor_preds_7 = torch.load(\n",
    "#     os.path.join(\n",
    "#         root,\n",
    "#         experiment,\n",
    "#         \"cov_0.2_lr_0.01\",\n",
    "#         iteration,\n",
    "#         expert_type,\n",
    "#         output,\n",
    "#         \"test_tensor_preds.pt\",\n",
    "#     )\n",
    "# )\n",
    "\n",
    "# test_tensor_preds_bb_7 = torch.load(\n",
    "#     os.path.join(\n",
    "#         root,\n",
    "#         experiment,\n",
    "#         \"cov_0.2_lr_0.01\",\n",
    "#         iteration,\n",
    "#         expert_type,\n",
    "#         output,\n",
    "#         \"test_tensor_preds_bb.pt\",\n",
    "#     )\n",
    "# )\n",
    "\n",
    "# test_tensor_y_7 = torch.load(\n",
    "#     os.path.join(\n",
    "#         root,\n",
    "#         experiment,\n",
    "#         \"cov_0.2_lr_0.01\",\n",
    "#         iteration,\n",
    "#         expert_type,\n",
    "#         output,\n",
    "#         \"test_tensor_y.pt\",\n",
    "#     )\n",
    "# )\n",
    "\n",
    "\n",
    "# print(\"\\n\\n << Test sizes >>\")\n",
    "# print(test_tensor_preds_7.size())\n",
    "# print(test_tensor_preds_bb_7.size())\n",
    "# print(test_tensor_y_7.size())\n"
   ]
  },
  {
   "cell_type": "code",
   "execution_count": 45,
   "metadata": {},
   "outputs": [
    {
     "data": {
      "application/javascript": [
       "\n",
       "            setTimeout(function() {\n",
       "                var nbb_cell_id = 45;\n",
       "                var nbb_unformatted_code = \"# base_lr = 0.01\\n# base_cov = 0.2\\n# pickle_in = open(\\n#     os.path.join(\\n#         f\\\"/ocean/projects/asc170022p/shg121/PhD/ICLR-2022/out/cub/explainer/ResNet101/lr_{base_lr}_epochs_500_temperature-lens_0.7_use-concepts-as-pi-input_True_input-size-pi_2048_cov_{base_cov}_alpha_0.5_selection-threshold_0.5_lambda-lens_0.0001_alpha-KD_0.9_temperature-KD_10.0_hidden-layers_1_layer_layer4_explainer_init_none\\\",\\n#         \\\"cov_0.2_lr_0.01\\\",\\n#         \\\"iter8\\\",\\n#         \\\"explainer\\\",\\n#         \\\"test_explainer_configs.pkl\\\",\\n#     ),\\n#     \\\"rb\\\",\\n# )\\n# args = pickle.load(pickle_in)\\n# n_classes = len(args.labels)\\n# x_to_bool = 0.5\\n# top_k_explanations = 50\\n# concept_names = args.concept_names\\n# print(\\\"########################\\\")\\n# print(args.lr[-1])\\n# print(args.cov[-1])\\n\\n# use_concepts_as_pi_input = True\\n# explainer_init = \\\"none\\\"\\n\\n# experiment_folder = (\\n#     f\\\"lr_{args.lr[0]}_epochs_{args.epochs}_temperature-lens_{args.temperature_lens}\\\"\\n#     f\\\"_use-concepts-as-pi-input_{use_concepts_as_pi_input}_input-size-pi_{args.input_size_pi}\\\"\\n#     f\\\"_cov_{args.cov[0]}_alpha_{args.alpha}_selection-threshold_{args.selection_threshold}\\\"\\n#     f\\\"_lambda-lens_{args.lambda_lens}_alpha-KD_{args.alpha_KD}\\\"\\n#     f\\\"_temperature-KD_{float(args.temperature_KD)}_hidden-layers_{len(args.hidden_nodes)}\\\"\\n#     f\\\"_layer_{args.layer}_explainer_init_{explainer_init if not args.explainer_init else args.explainer_init}\\\"\\n# )\\n\\n# root = \\\"/ocean/projects/asc170022p/shg121/PhD/ICLR-2022/out/cub/\\\"\\n# experiment = f\\\"explainer/ResNet101/{experiment_folder}\\\"\\n# iteration = \\\"iter8\\\"\\n# expert_type = \\\"explainer\\\"\\n# output = \\\"g_outputs\\\"\\n\\n\\n# test_tensor_preds_8 = torch.load(\\n#     os.path.join(\\n#         root,\\n#         experiment,\\n#         \\\"cov_0.2_lr_0.01\\\",\\n#         iteration,\\n#         expert_type,\\n#         output,\\n#         \\\"test_tensor_preds.pt\\\",\\n#     )\\n# )\\n\\n# test_tensor_preds_bb_8 = torch.load(\\n#     os.path.join(\\n#         root,\\n#         experiment,\\n#         \\\"cov_0.2_lr_0.01\\\",\\n#         iteration,\\n#         expert_type,\\n#         output,\\n#         \\\"test_tensor_preds_bb.pt\\\",\\n#     )\\n# )\\n\\n# test_tensor_y_8 = torch.load(\\n#     os.path.join(\\n#         root,\\n#         experiment,\\n#         \\\"cov_0.2_lr_0.01\\\",\\n#         iteration,\\n#         expert_type,\\n#         output,\\n#         \\\"test_tensor_y.pt\\\",\\n#     )\\n# )\\n\\n\\n# print(\\\"\\\\n\\\\n << Test sizes >>\\\")\\n# print(test_tensor_y_8.size())\\n# print(test_tensor_preds_bb_8.size())\\n# print(test_tensor_preds_bb_8.size())\";\n",
       "                var nbb_formatted_code = \"# base_lr = 0.01\\n# base_cov = 0.2\\n# pickle_in = open(\\n#     os.path.join(\\n#         f\\\"/ocean/projects/asc170022p/shg121/PhD/ICLR-2022/out/cub/explainer/ResNet101/lr_{base_lr}_epochs_500_temperature-lens_0.7_use-concepts-as-pi-input_True_input-size-pi_2048_cov_{base_cov}_alpha_0.5_selection-threshold_0.5_lambda-lens_0.0001_alpha-KD_0.9_temperature-KD_10.0_hidden-layers_1_layer_layer4_explainer_init_none\\\",\\n#         \\\"cov_0.2_lr_0.01\\\",\\n#         \\\"iter8\\\",\\n#         \\\"explainer\\\",\\n#         \\\"test_explainer_configs.pkl\\\",\\n#     ),\\n#     \\\"rb\\\",\\n# )\\n# args = pickle.load(pickle_in)\\n# n_classes = len(args.labels)\\n# x_to_bool = 0.5\\n# top_k_explanations = 50\\n# concept_names = args.concept_names\\n# print(\\\"########################\\\")\\n# print(args.lr[-1])\\n# print(args.cov[-1])\\n\\n# use_concepts_as_pi_input = True\\n# explainer_init = \\\"none\\\"\\n\\n# experiment_folder = (\\n#     f\\\"lr_{args.lr[0]}_epochs_{args.epochs}_temperature-lens_{args.temperature_lens}\\\"\\n#     f\\\"_use-concepts-as-pi-input_{use_concepts_as_pi_input}_input-size-pi_{args.input_size_pi}\\\"\\n#     f\\\"_cov_{args.cov[0]}_alpha_{args.alpha}_selection-threshold_{args.selection_threshold}\\\"\\n#     f\\\"_lambda-lens_{args.lambda_lens}_alpha-KD_{args.alpha_KD}\\\"\\n#     f\\\"_temperature-KD_{float(args.temperature_KD)}_hidden-layers_{len(args.hidden_nodes)}\\\"\\n#     f\\\"_layer_{args.layer}_explainer_init_{explainer_init if not args.explainer_init else args.explainer_init}\\\"\\n# )\\n\\n# root = \\\"/ocean/projects/asc170022p/shg121/PhD/ICLR-2022/out/cub/\\\"\\n# experiment = f\\\"explainer/ResNet101/{experiment_folder}\\\"\\n# iteration = \\\"iter8\\\"\\n# expert_type = \\\"explainer\\\"\\n# output = \\\"g_outputs\\\"\\n\\n\\n# test_tensor_preds_8 = torch.load(\\n#     os.path.join(\\n#         root,\\n#         experiment,\\n#         \\\"cov_0.2_lr_0.01\\\",\\n#         iteration,\\n#         expert_type,\\n#         output,\\n#         \\\"test_tensor_preds.pt\\\",\\n#     )\\n# )\\n\\n# test_tensor_preds_bb_8 = torch.load(\\n#     os.path.join(\\n#         root,\\n#         experiment,\\n#         \\\"cov_0.2_lr_0.01\\\",\\n#         iteration,\\n#         expert_type,\\n#         output,\\n#         \\\"test_tensor_preds_bb.pt\\\",\\n#     )\\n# )\\n\\n# test_tensor_y_8 = torch.load(\\n#     os.path.join(\\n#         root,\\n#         experiment,\\n#         \\\"cov_0.2_lr_0.01\\\",\\n#         iteration,\\n#         expert_type,\\n#         output,\\n#         \\\"test_tensor_y.pt\\\",\\n#     )\\n# )\\n\\n\\n# print(\\\"\\\\n\\\\n << Test sizes >>\\\")\\n# print(test_tensor_y_8.size())\\n# print(test_tensor_preds_bb_8.size())\\n# print(test_tensor_preds_bb_8.size())\";\n",
       "                var nbb_cells = Jupyter.notebook.get_cells();\n",
       "                for (var i = 0; i < nbb_cells.length; ++i) {\n",
       "                    if (nbb_cells[i].input_prompt_number == nbb_cell_id) {\n",
       "                        if (nbb_cells[i].get_text() == nbb_unformatted_code) {\n",
       "                             nbb_cells[i].set_text(nbb_formatted_code);\n",
       "                        }\n",
       "                        break;\n",
       "                    }\n",
       "                }\n",
       "            }, 500);\n",
       "            "
      ],
      "text/plain": [
       "<IPython.core.display.Javascript object>"
      ]
     },
     "metadata": {},
     "output_type": "display_data"
    }
   ],
   "source": [
    "# base_lr = 0.01\n",
    "# base_cov = 0.2\n",
    "# pickle_in = open(\n",
    "#     os.path.join(\n",
    "#         f\"/ocean/projects/asc170022p/shg121/PhD/ICLR-2022/out/cub/explainer/ResNet101/lr_{base_lr}_epochs_500_temperature-lens_0.7_use-concepts-as-pi-input_True_input-size-pi_2048_cov_{base_cov}_alpha_0.5_selection-threshold_0.5_lambda-lens_0.0001_alpha-KD_0.9_temperature-KD_10.0_hidden-layers_1_layer_layer4_explainer_init_none\",\n",
    "#         \"cov_0.2_lr_0.01\",\n",
    "#         \"iter8\",\n",
    "#         \"explainer\",\n",
    "#         \"test_explainer_configs.pkl\",\n",
    "#     ),\n",
    "#     \"rb\",\n",
    "# )\n",
    "# args = pickle.load(pickle_in)\n",
    "# n_classes = len(args.labels)\n",
    "# x_to_bool = 0.5\n",
    "# top_k_explanations = 50\n",
    "# concept_names = args.concept_names\n",
    "# print(\"########################\")\n",
    "# print(args.lr[-1])\n",
    "# print(args.cov[-1])\n",
    "\n",
    "# use_concepts_as_pi_input = True\n",
    "# explainer_init = \"none\"\n",
    "\n",
    "# experiment_folder = (\n",
    "#     f\"lr_{args.lr[0]}_epochs_{args.epochs}_temperature-lens_{args.temperature_lens}\"\n",
    "#     f\"_use-concepts-as-pi-input_{use_concepts_as_pi_input}_input-size-pi_{args.input_size_pi}\"\n",
    "#     f\"_cov_{args.cov[0]}_alpha_{args.alpha}_selection-threshold_{args.selection_threshold}\"\n",
    "#     f\"_lambda-lens_{args.lambda_lens}_alpha-KD_{args.alpha_KD}\"\n",
    "#     f\"_temperature-KD_{float(args.temperature_KD)}_hidden-layers_{len(args.hidden_nodes)}\"\n",
    "#     f\"_layer_{args.layer}_explainer_init_{explainer_init if not args.explainer_init else args.explainer_init}\"\n",
    "# )\n",
    "\n",
    "# root = \"/ocean/projects/asc170022p/shg121/PhD/ICLR-2022/out/cub/\"\n",
    "# experiment = f\"explainer/ResNet101/{experiment_folder}\"\n",
    "# iteration = \"iter8\"\n",
    "# expert_type = \"explainer\"\n",
    "# output = \"g_outputs\"\n",
    "\n",
    "\n",
    "# test_tensor_preds_8 = torch.load(\n",
    "#     os.path.join(\n",
    "#         root,\n",
    "#         experiment,\n",
    "#         \"cov_0.2_lr_0.01\",\n",
    "#         iteration,\n",
    "#         expert_type,\n",
    "#         output,\n",
    "#         \"test_tensor_preds.pt\",\n",
    "#     )\n",
    "# )\n",
    "\n",
    "# test_tensor_preds_bb_8 = torch.load(\n",
    "#     os.path.join(\n",
    "#         root,\n",
    "#         experiment,\n",
    "#         \"cov_0.2_lr_0.01\",\n",
    "#         iteration,\n",
    "#         expert_type,\n",
    "#         output,\n",
    "#         \"test_tensor_preds_bb.pt\",\n",
    "#     )\n",
    "# )\n",
    "\n",
    "# test_tensor_y_8 = torch.load(\n",
    "#     os.path.join(\n",
    "#         root,\n",
    "#         experiment,\n",
    "#         \"cov_0.2_lr_0.01\",\n",
    "#         iteration,\n",
    "#         expert_type,\n",
    "#         output,\n",
    "#         \"test_tensor_y.pt\",\n",
    "#     )\n",
    "# )\n",
    "\n",
    "\n",
    "# print(\"\\n\\n << Test sizes >>\")\n",
    "# print(test_tensor_y_8.size())\n",
    "# print(test_tensor_preds_bb_8.size())\n",
    "# print(test_tensor_preds_bb_8.size())\n"
   ]
  },
  {
   "cell_type": "code",
   "execution_count": 46,
   "metadata": {},
   "outputs": [
    {
     "data": {
      "application/javascript": [
       "\n",
       "            setTimeout(function() {\n",
       "                var nbb_cell_id = 46;\n",
       "                var nbb_unformatted_code = \"expert_type = \\\"explainer\\\"\\noutput = \\\"g_outputs\\\"\\n\\npreds = torch.cat((test_tensor_preds_1, test_tensor_preds_2, test_tensor_preds_3, \\n                   test_tensor_preds_4, test_tensor_preds_5, test_tensor_preds_6, \\n#                    test_tensor_preds_7,  \\n#                    test_tensor_preds_8\\n                  ), dim=0)\\ngt = torch.cat((\\n    test_tensor_y_1, test_tensor_y_2, test_tensor_y_3 ,test_tensor_y_4, test_tensor_y_5, test_tensor_y_6,\\n#                test_tensor_y_7, \\n#     test_tensor_y_8\\n               ),\\n               dim=0)\\nbb = torch.cat((\\n    test_tensor_preds_bb_1.cpu(), test_tensor_preds_bb_2.cpu(), test_tensor_preds_bb_3.cpu(),\\n    test_tensor_preds_bb_4.cpu(), test_tensor_preds_bb_5.cpu(), test_tensor_preds_bb_6.cpu(), \\n#     test_tensor_preds_bb_7.cpu(),\\n#     test_tensor_preds_bb_8.cpu()\\n), \\n               dim=0)\";\n",
       "                var nbb_formatted_code = \"expert_type = \\\"explainer\\\"\\noutput = \\\"g_outputs\\\"\\n\\npreds = torch.cat(\\n    (\\n        test_tensor_preds_1,\\n        test_tensor_preds_2,\\n        test_tensor_preds_3,\\n        test_tensor_preds_4,\\n        test_tensor_preds_5,\\n        test_tensor_preds_6,\\n        #                    test_tensor_preds_7,\\n        #                    test_tensor_preds_8\\n    ),\\n    dim=0,\\n)\\ngt = torch.cat(\\n    (\\n        test_tensor_y_1,\\n        test_tensor_y_2,\\n        test_tensor_y_3,\\n        test_tensor_y_4,\\n        test_tensor_y_5,\\n        test_tensor_y_6,\\n        #                test_tensor_y_7,\\n        #     test_tensor_y_8\\n    ),\\n    dim=0,\\n)\\nbb = torch.cat(\\n    (\\n        test_tensor_preds_bb_1.cpu(),\\n        test_tensor_preds_bb_2.cpu(),\\n        test_tensor_preds_bb_3.cpu(),\\n        test_tensor_preds_bb_4.cpu(),\\n        test_tensor_preds_bb_5.cpu(),\\n        test_tensor_preds_bb_6.cpu(),\\n        #     test_tensor_preds_bb_7.cpu(),\\n        #     test_tensor_preds_bb_8.cpu()\\n    ),\\n    dim=0,\\n)\";\n",
       "                var nbb_cells = Jupyter.notebook.get_cells();\n",
       "                for (var i = 0; i < nbb_cells.length; ++i) {\n",
       "                    if (nbb_cells[i].input_prompt_number == nbb_cell_id) {\n",
       "                        if (nbb_cells[i].get_text() == nbb_unformatted_code) {\n",
       "                             nbb_cells[i].set_text(nbb_formatted_code);\n",
       "                        }\n",
       "                        break;\n",
       "                    }\n",
       "                }\n",
       "            }, 500);\n",
       "            "
      ],
      "text/plain": [
       "<IPython.core.display.Javascript object>"
      ]
     },
     "metadata": {},
     "output_type": "display_data"
    }
   ],
   "source": [
    "expert_type = \"explainer\"\n",
    "output = \"g_outputs\"\n",
    "\n",
    "preds = torch.cat((test_tensor_preds_1, test_tensor_preds_2, test_tensor_preds_3, \n",
    "                   test_tensor_preds_4, test_tensor_preds_5, test_tensor_preds_6, \n",
    "#                    test_tensor_preds_7,  \n",
    "#                    test_tensor_preds_8\n",
    "                  ), dim=0)\n",
    "gt = torch.cat((\n",
    "    test_tensor_y_1, test_tensor_y_2, test_tensor_y_3 ,test_tensor_y_4, test_tensor_y_5, test_tensor_y_6,\n",
    "#                test_tensor_y_7, \n",
    "#     test_tensor_y_8\n",
    "               ),\n",
    "               dim=0)\n",
    "bb = torch.cat((\n",
    "    test_tensor_preds_bb_1.cpu(), test_tensor_preds_bb_2.cpu(), test_tensor_preds_bb_3.cpu(),\n",
    "    test_tensor_preds_bb_4.cpu(), test_tensor_preds_bb_5.cpu(), test_tensor_preds_bb_6.cpu(), \n",
    "#     test_tensor_preds_bb_7.cpu(),\n",
    "#     test_tensor_preds_bb_8.cpu()\n",
    "), \n",
    "               dim=0)\n"
   ]
  },
  {
   "cell_type": "code",
   "execution_count": 47,
   "metadata": {},
   "outputs": [
    {
     "data": {
      "text/plain": [
       "(tensor(0.8654), torch.Size([1040]))"
      ]
     },
     "execution_count": 47,
     "metadata": {},
     "output_type": "execute_result"
    },
    {
     "data": {
      "application/javascript": [
       "\n",
       "            setTimeout(function() {\n",
       "                var nbb_cell_id = 47;\n",
       "                var nbb_unformatted_code = \"torch.sum(preds.argmax(dim=1) == gt) / gt.size(0), gt.size()\";\n",
       "                var nbb_formatted_code = \"torch.sum(preds.argmax(dim=1) == gt) / gt.size(0), gt.size()\";\n",
       "                var nbb_cells = Jupyter.notebook.get_cells();\n",
       "                for (var i = 0; i < nbb_cells.length; ++i) {\n",
       "                    if (nbb_cells[i].input_prompt_number == nbb_cell_id) {\n",
       "                        if (nbb_cells[i].get_text() == nbb_unformatted_code) {\n",
       "                             nbb_cells[i].set_text(nbb_formatted_code);\n",
       "                        }\n",
       "                        break;\n",
       "                    }\n",
       "                }\n",
       "            }, 500);\n",
       "            "
      ],
      "text/plain": [
       "<IPython.core.display.Javascript object>"
      ]
     },
     "metadata": {},
     "output_type": "display_data"
    }
   ],
   "source": [
    "torch.sum(preds.argmax(dim=1) == gt) / gt.size(0), gt.size()"
   ]
  },
  {
   "cell_type": "code",
   "execution_count": 48,
   "metadata": {},
   "outputs": [
    {
     "ename": "NameError",
     "evalue": "name 'test_tensor_preds_7' is not defined",
     "output_type": "error",
     "traceback": [
      "\u001b[0;31m---------------------------------------------------------------------------\u001b[0m",
      "\u001b[0;31mNameError\u001b[0m                                 Traceback (most recent call last)",
      "\u001b[0;32m/tmp/ipykernel_78215/2223999452.py\u001b[0m in \u001b[0;36m<module>\u001b[0;34m\u001b[0m\n\u001b[1;32m     28\u001b[0m         \u001b[0;34m-\u001b[0m \u001b[0mtest_tensor_preds_1\u001b[0m\u001b[0;34m.\u001b[0m\u001b[0msize\u001b[0m\u001b[0;34m(\u001b[0m\u001b[0;36m0\u001b[0m\u001b[0;34m)\u001b[0m\u001b[0;34m\u001b[0m\u001b[0;34m\u001b[0m\u001b[0m\n\u001b[1;32m     29\u001b[0m     ),\n\u001b[0;32m---> 30\u001b[0;31m     \u001b[0mtest_tensor_preds_7\u001b[0m\u001b[0;34m.\u001b[0m\u001b[0msize\u001b[0m\u001b[0;34m(\u001b[0m\u001b[0;36m0\u001b[0m\u001b[0;34m)\u001b[0m\u001b[0;34m\u001b[0m\u001b[0;34m\u001b[0m\u001b[0m\n\u001b[0m\u001b[1;32m     31\u001b[0m     / (\n\u001b[1;32m     32\u001b[0m         \u001b[0;36m1183\u001b[0m\u001b[0;34m\u001b[0m\u001b[0;34m\u001b[0m\u001b[0m\n",
      "\u001b[0;31mNameError\u001b[0m: name 'test_tensor_preds_7' is not defined"
     ]
    },
    {
     "data": {
      "application/javascript": [
       "\n",
       "            setTimeout(function() {\n",
       "                var nbb_cell_id = 48;\n",
       "                var nbb_unformatted_code = \"(\\n    test_tensor_preds_1.size(0) / 1183,\\n    test_tensor_preds_2.size(0) / (1183 - test_tensor_preds_1.size(0)),\\n    test_tensor_preds_3.size(0)\\n    / (1183 - test_tensor_preds_2.size(0) - test_tensor_preds_1.size(0)),\\n    test_tensor_preds_4.size(0)\\n    / (\\n        1183\\n        - test_tensor_preds_3.size(0)\\n        - test_tensor_preds_2.size(0)\\n        - test_tensor_preds_1.size(0)\\n    ),\\n    test_tensor_preds_5.size(0)\\n    / (\\n        1183\\n        - test_tensor_preds_4.size(0)\\n        - test_tensor_preds_3.size(0)\\n        - test_tensor_preds_2.size(0)\\n        - test_tensor_preds_1.size(0)\\n    ),\\n    test_tensor_preds_6.size(0)\\n    / (\\n        1183\\n        - test_tensor_preds_5.size(0)\\n        - test_tensor_preds_4.size(0)\\n        - test_tensor_preds_3.size(0)\\n        - test_tensor_preds_2.size(0)\\n        - test_tensor_preds_1.size(0)\\n    ),\\n    test_tensor_preds_7.size(0)\\n    / (\\n        1183\\n        - test_tensor_preds_6.size(0)\\n        - test_tensor_preds_5.size(0)\\n        - test_tensor_preds_4.size(0)\\n        - test_tensor_preds_3.size(0)\\n        - test_tensor_preds_2.size(0)\\n        - test_tensor_preds_1.size(0)\\n    ),\\n)\";\n",
       "                var nbb_formatted_code = \"(\\n    test_tensor_preds_1.size(0) / 1183,\\n    test_tensor_preds_2.size(0) / (1183 - test_tensor_preds_1.size(0)),\\n    test_tensor_preds_3.size(0)\\n    / (1183 - test_tensor_preds_2.size(0) - test_tensor_preds_1.size(0)),\\n    test_tensor_preds_4.size(0)\\n    / (\\n        1183\\n        - test_tensor_preds_3.size(0)\\n        - test_tensor_preds_2.size(0)\\n        - test_tensor_preds_1.size(0)\\n    ),\\n    test_tensor_preds_5.size(0)\\n    / (\\n        1183\\n        - test_tensor_preds_4.size(0)\\n        - test_tensor_preds_3.size(0)\\n        - test_tensor_preds_2.size(0)\\n        - test_tensor_preds_1.size(0)\\n    ),\\n    test_tensor_preds_6.size(0)\\n    / (\\n        1183\\n        - test_tensor_preds_5.size(0)\\n        - test_tensor_preds_4.size(0)\\n        - test_tensor_preds_3.size(0)\\n        - test_tensor_preds_2.size(0)\\n        - test_tensor_preds_1.size(0)\\n    ),\\n    test_tensor_preds_7.size(0)\\n    / (\\n        1183\\n        - test_tensor_preds_6.size(0)\\n        - test_tensor_preds_5.size(0)\\n        - test_tensor_preds_4.size(0)\\n        - test_tensor_preds_3.size(0)\\n        - test_tensor_preds_2.size(0)\\n        - test_tensor_preds_1.size(0)\\n    ),\\n)\";\n",
       "                var nbb_cells = Jupyter.notebook.get_cells();\n",
       "                for (var i = 0; i < nbb_cells.length; ++i) {\n",
       "                    if (nbb_cells[i].input_prompt_number == nbb_cell_id) {\n",
       "                        if (nbb_cells[i].get_text() == nbb_unformatted_code) {\n",
       "                             nbb_cells[i].set_text(nbb_formatted_code);\n",
       "                        }\n",
       "                        break;\n",
       "                    }\n",
       "                }\n",
       "            }, 500);\n",
       "            "
      ],
      "text/plain": [
       "<IPython.core.display.Javascript object>"
      ]
     },
     "metadata": {},
     "output_type": "display_data"
    }
   ],
   "source": [
    "(\n",
    "    test_tensor_preds_1.size(0) / 1183,\n",
    "    test_tensor_preds_2.size(0) / (1183 - test_tensor_preds_1.size(0)),\n",
    "    test_tensor_preds_3.size(0)\n",
    "    / (1183 - test_tensor_preds_2.size(0) - test_tensor_preds_1.size(0)),\n",
    "    test_tensor_preds_4.size(0)\n",
    "    / (\n",
    "        1183\n",
    "        - test_tensor_preds_3.size(0)\n",
    "        - test_tensor_preds_2.size(0)\n",
    "        - test_tensor_preds_1.size(0)\n",
    "    ),\n",
    "    test_tensor_preds_5.size(0)\n",
    "    / (\n",
    "        1183\n",
    "        - test_tensor_preds_4.size(0)\n",
    "        - test_tensor_preds_3.size(0)\n",
    "        - test_tensor_preds_2.size(0)\n",
    "        - test_tensor_preds_1.size(0)\n",
    "    ),\n",
    "    test_tensor_preds_6.size(0)\n",
    "    / (\n",
    "        1183\n",
    "        - test_tensor_preds_5.size(0)\n",
    "        - test_tensor_preds_4.size(0)\n",
    "        - test_tensor_preds_3.size(0)\n",
    "        - test_tensor_preds_2.size(0)\n",
    "        - test_tensor_preds_1.size(0)\n",
    "    ),\n",
    "    test_tensor_preds_7.size(0)\n",
    "    / (\n",
    "        1183\n",
    "        - test_tensor_preds_6.size(0)\n",
    "        - test_tensor_preds_5.size(0)\n",
    "        - test_tensor_preds_4.size(0)\n",
    "        - test_tensor_preds_3.size(0)\n",
    "        - test_tensor_preds_2.size(0)\n",
    "        - test_tensor_preds_1.size(0)\n",
    "    ),\n",
    ")"
   ]
  },
  {
   "cell_type": "code",
   "execution_count": 68,
   "metadata": {},
   "outputs": [
    {
     "data": {
      "text/plain": [
       "(0.19695689430301308,\n",
       " 0.10312764355416834,\n",
       " 0.11665257894680446,\n",
       " 0.1191885054161865,\n",
       " 0.10228233274925792,\n",
       " 0.12256973699705136)"
      ]
     },
     "execution_count": 68,
     "metadata": {},
     "output_type": "execute_result"
    },
    {
     "data": {
      "application/javascript": [
       "\n",
       "            setTimeout(function() {\n",
       "                var nbb_cell_id = 68;\n",
       "                var nbb_unformatted_code = \"(\\n    (\\n        torch.sum(test_tensor_preds_1.argmax(dim=1) == test_tensor_y_1)\\n        / test_tensor_preds_1.size(0)\\n    ).item()\\n    * (test_tensor_preds_1.size(0) / 1183),\\n    (\\n        torch.sum(test_tensor_preds_2.argmax(dim=1) == test_tensor_y_2)\\n        / test_tensor_preds_2.size(0)\\n    ).item()\\n    * (test_tensor_preds_2.size(0) / 1183),\\n    (\\n        torch.sum(test_tensor_preds_3.argmax(dim=1) == test_tensor_y_3)\\n        / test_tensor_preds_3.size(0)\\n    ).item()\\n    * (test_tensor_preds_3.size(0) / 1183),\\n    (\\n        torch.sum(test_tensor_preds_4.argmax(dim=1) == test_tensor_y_4)\\n        / test_tensor_preds_4.size(0)\\n    ).item()\\n    * (test_tensor_preds_4.size(0) / 1183),\\n    (\\n        torch.sum(test_tensor_preds_5.argmax(dim=1) == test_tensor_y_5)\\n        / test_tensor_preds_5.size(0)\\n    ).item()\\n    * (test_tensor_preds_5.size(0) / 1183),\\n    (\\n        torch.sum(test_tensor_preds_6.argmax(dim=1) == test_tensor_y_6)\\n        / test_tensor_preds_6.size(0)\\n    ).item()\\n    * (test_tensor_preds_6.size(0) / 1183),\\n)\";\n",
       "                var nbb_formatted_code = \"(\\n    (\\n        torch.sum(test_tensor_preds_1.argmax(dim=1) == test_tensor_y_1)\\n        / test_tensor_preds_1.size(0)\\n    ).item()\\n    * (test_tensor_preds_1.size(0) / 1183),\\n    (\\n        torch.sum(test_tensor_preds_2.argmax(dim=1) == test_tensor_y_2)\\n        / test_tensor_preds_2.size(0)\\n    ).item()\\n    * (test_tensor_preds_2.size(0) / 1183),\\n    (\\n        torch.sum(test_tensor_preds_3.argmax(dim=1) == test_tensor_y_3)\\n        / test_tensor_preds_3.size(0)\\n    ).item()\\n    * (test_tensor_preds_3.size(0) / 1183),\\n    (\\n        torch.sum(test_tensor_preds_4.argmax(dim=1) == test_tensor_y_4)\\n        / test_tensor_preds_4.size(0)\\n    ).item()\\n    * (test_tensor_preds_4.size(0) / 1183),\\n    (\\n        torch.sum(test_tensor_preds_5.argmax(dim=1) == test_tensor_y_5)\\n        / test_tensor_preds_5.size(0)\\n    ).item()\\n    * (test_tensor_preds_5.size(0) / 1183),\\n    (\\n        torch.sum(test_tensor_preds_6.argmax(dim=1) == test_tensor_y_6)\\n        / test_tensor_preds_6.size(0)\\n    ).item()\\n    * (test_tensor_preds_6.size(0) / 1183),\\n)\";\n",
       "                var nbb_cells = Jupyter.notebook.get_cells();\n",
       "                for (var i = 0; i < nbb_cells.length; ++i) {\n",
       "                    if (nbb_cells[i].input_prompt_number == nbb_cell_id) {\n",
       "                        if (nbb_cells[i].get_text() == nbb_unformatted_code) {\n",
       "                             nbb_cells[i].set_text(nbb_formatted_code);\n",
       "                        }\n",
       "                        break;\n",
       "                    }\n",
       "                }\n",
       "            }, 500);\n",
       "            "
      ],
      "text/plain": [
       "<IPython.core.display.Javascript object>"
      ]
     },
     "metadata": {},
     "output_type": "display_data"
    }
   ],
   "source": []
  },
  {
   "cell_type": "code",
   "execution_count": 60,
   "metadata": {},
   "outputs": [
    {
     "data": {
      "text/plain": [
       "torch.Size([243])"
      ]
     },
     "execution_count": 60,
     "metadata": {},
     "output_type": "execute_result"
    },
    {
     "data": {
      "application/javascript": [
       "\n",
       "            setTimeout(function() {\n",
       "                var nbb_cell_id = 60;\n",
       "                var nbb_unformatted_code = \"test_tensor_y_1.size()\";\n",
       "                var nbb_formatted_code = \"test_tensor_y_1.size()\";\n",
       "                var nbb_cells = Jupyter.notebook.get_cells();\n",
       "                for (var i = 0; i < nbb_cells.length; ++i) {\n",
       "                    if (nbb_cells[i].input_prompt_number == nbb_cell_id) {\n",
       "                        if (nbb_cells[i].get_text() == nbb_unformatted_code) {\n",
       "                             nbb_cells[i].set_text(nbb_formatted_code);\n",
       "                        }\n",
       "                        break;\n",
       "                    }\n",
       "                }\n",
       "            }, 500);\n",
       "            "
      ],
      "text/plain": [
       "<IPython.core.display.Javascript object>"
      ]
     },
     "metadata": {},
     "output_type": "display_data"
    }
   ],
   "source": [
    "test_tensor_y_1.size()"
   ]
  },
  {
   "cell_type": "code",
   "execution_count": 61,
   "metadata": {},
   "outputs": [
    {
     "data": {
      "text/plain": [
       "([0.20540997464074387,\n",
       "  0.11242603550295859,\n",
       "  0.1293322062552832,\n",
       "  0.14877430262045646,\n",
       "  0.12341504649196956,\n",
       "  0.15976331360946747],\n",
       " 0.8791208791208791,\n",
       " 0.1208791208791209)"
      ]
     },
     "execution_count": 61,
     "metadata": {},
     "output_type": "execute_result"
    },
    {
     "data": {
      "application/javascript": [
       "\n",
       "            setTimeout(function() {\n",
       "                var nbb_cell_id = 61;\n",
       "                var nbb_unformatted_code = \"x = [\\n    test_tensor_preds_1.size(0) / 1183,\\n    test_tensor_preds_2.size(0) / 1183,\\n    test_tensor_preds_3.size(0) / 1183,\\n    test_tensor_preds_4.size(0) / 1183,\\n    test_tensor_preds_5.size(0) / 1183,\\n    test_tensor_preds_6.size(0) / 1183,\\n]\\n\\nx, sum(x), 1 - sum(x)\";\n",
       "                var nbb_formatted_code = \"x = [\\n    test_tensor_preds_1.size(0) / 1183,\\n    test_tensor_preds_2.size(0) / 1183,\\n    test_tensor_preds_3.size(0) / 1183,\\n    test_tensor_preds_4.size(0) / 1183,\\n    test_tensor_preds_5.size(0) / 1183,\\n    test_tensor_preds_6.size(0) / 1183,\\n]\\n\\nx, sum(x), 1 - sum(x)\";\n",
       "                var nbb_cells = Jupyter.notebook.get_cells();\n",
       "                for (var i = 0; i < nbb_cells.length; ++i) {\n",
       "                    if (nbb_cells[i].input_prompt_number == nbb_cell_id) {\n",
       "                        if (nbb_cells[i].get_text() == nbb_unformatted_code) {\n",
       "                             nbb_cells[i].set_text(nbb_formatted_code);\n",
       "                        }\n",
       "                        break;\n",
       "                    }\n",
       "                }\n",
       "            }, 500);\n",
       "            "
      ],
      "text/plain": [
       "<IPython.core.display.Javascript object>"
      ]
     },
     "metadata": {},
     "output_type": "display_data"
    }
   ],
   "source": []
  },
  {
   "cell_type": "code",
   "execution_count": 52,
   "metadata": {},
   "outputs": [
    {
     "data": {
      "text/plain": [
       "(1.0, 0.0)"
      ]
     },
     "execution_count": 52,
     "metadata": {},
     "output_type": "execute_result"
    },
    {
     "data": {
      "application/javascript": [
       "\n",
       "            setTimeout(function() {\n",
       "                var nbb_cell_id = 52;\n",
       "                var nbb_unformatted_code = \"x = [0.16, 0.17, 0.16, 0.15, 0.13, 0.19, 0.02, 0.003, 0.017]\\nsum(x), 1 - sum(x)\";\n",
       "                var nbb_formatted_code = \"x = [0.16, 0.17, 0.16, 0.15, 0.13, 0.19, 0.02, 0.003, 0.017]\\nsum(x), 1 - sum(x)\";\n",
       "                var nbb_cells = Jupyter.notebook.get_cells();\n",
       "                for (var i = 0; i < nbb_cells.length; ++i) {\n",
       "                    if (nbb_cells[i].input_prompt_number == nbb_cell_id) {\n",
       "                        if (nbb_cells[i].get_text() == nbb_unformatted_code) {\n",
       "                             nbb_cells[i].set_text(nbb_formatted_code);\n",
       "                        }\n",
       "                        break;\n",
       "                    }\n",
       "                }\n",
       "            }, 500);\n",
       "            "
      ],
      "text/plain": [
       "<IPython.core.display.Javascript object>"
      ]
     },
     "metadata": {},
     "output_type": "display_data"
    }
   ],
   "source": []
  },
  {
   "cell_type": "code",
   "execution_count": 23,
   "metadata": {},
   "outputs": [
    {
     "data": {
      "text/plain": [
       "(0.9315300084530854,)"
      ]
     },
     "execution_count": 23,
     "metadata": {},
     "output_type": "execute_result"
    },
    {
     "data": {
      "application/javascript": [
       "\n",
       "            setTimeout(function() {\n",
       "                var nbb_cell_id = 23;\n",
       "                var nbb_unformatted_code = \"1102 / 1183,\";\n",
       "                var nbb_formatted_code = \"1102 / 1183,\";\n",
       "                var nbb_cells = Jupyter.notebook.get_cells();\n",
       "                for (var i = 0; i < nbb_cells.length; ++i) {\n",
       "                    if (nbb_cells[i].input_prompt_number == nbb_cell_id) {\n",
       "                        if (nbb_cells[i].get_text() == nbb_unformatted_code) {\n",
       "                             nbb_cells[i].set_text(nbb_formatted_code);\n",
       "                        }\n",
       "                        break;\n",
       "                    }\n",
       "                }\n",
       "            }, 500);\n",
       "            "
      ],
      "text/plain": [
       "<IPython.core.display.Javascript object>"
      ]
     },
     "metadata": {},
     "output_type": "display_data"
    }
   ],
   "source": [
    "1102 / 1183,"
   ]
  },
  {
   "cell_type": "code",
   "execution_count": 24,
   "metadata": {},
   "outputs": [
    {
     "data": {
      "application/javascript": [
       "\n",
       "            setTimeout(function() {\n",
       "                var nbb_cell_id = 24;\n",
       "                var nbb_unformatted_code = \"# import matplotlib.pyplot as plt\\n\\n# # Define Data\\n\\n# Class = [\\\"First\\\", \\\"Second\\\", \\\"Third\\\", \\\"Fourth\\\", \\\"Fifth\\\"]\\n# Boys = [15, 20, 16, 18, 25]\\n# Girls = [10, 12, 5, 9, 15]\\n\\n# # Define height of stacked chart\\n\\n\\n# h = 0.6\\n# w = 0.6\\n# # Plot stacked bar chart\\n\\n# plt.barh(Class, Boys, w)\\n# plt.barh(Class, Girls, w, left=Boys)\\n\\n# # Display\\n\\n# plt.show()\";\n",
       "                var nbb_formatted_code = \"# import matplotlib.pyplot as plt\\n\\n# # Define Data\\n\\n# Class = [\\\"First\\\", \\\"Second\\\", \\\"Third\\\", \\\"Fourth\\\", \\\"Fifth\\\"]\\n# Boys = [15, 20, 16, 18, 25]\\n# Girls = [10, 12, 5, 9, 15]\\n\\n# # Define height of stacked chart\\n\\n\\n# h = 0.6\\n# w = 0.6\\n# # Plot stacked bar chart\\n\\n# plt.barh(Class, Boys, w)\\n# plt.barh(Class, Girls, w, left=Boys)\\n\\n# # Display\\n\\n# plt.show()\";\n",
       "                var nbb_cells = Jupyter.notebook.get_cells();\n",
       "                for (var i = 0; i < nbb_cells.length; ++i) {\n",
       "                    if (nbb_cells[i].input_prompt_number == nbb_cell_id) {\n",
       "                        if (nbb_cells[i].get_text() == nbb_unformatted_code) {\n",
       "                             nbb_cells[i].set_text(nbb_formatted_code);\n",
       "                        }\n",
       "                        break;\n",
       "                    }\n",
       "                }\n",
       "            }, 500);\n",
       "            "
      ],
      "text/plain": [
       "<IPython.core.display.Javascript object>"
      ]
     },
     "metadata": {},
     "output_type": "display_data"
    }
   ],
   "source": [
    "# import matplotlib.pyplot as plt\n",
    "\n",
    "# # Define Data\n",
    "\n",
    "# Class = [\"First\", \"Second\", \"Third\", \"Fourth\", \"Fifth\"]\n",
    "# Boys = [15, 20, 16, 18, 25]\n",
    "# Girls = [10, 12, 5, 9, 15]\n",
    "\n",
    "# # Define height of stacked chart\n",
    "\n",
    "\n",
    "# h = 0.6\n",
    "# w = 0.6\n",
    "# # Plot stacked bar chart\n",
    "\n",
    "# plt.barh(Class, Boys, w)\n",
    "# plt.barh(Class, Girls, w, left=Boys)\n",
    "\n",
    "# # Display\n",
    "\n",
    "# plt.show()"
   ]
  },
  {
   "cell_type": "code",
   "execution_count": 25,
   "metadata": {},
   "outputs": [
    {
     "data": {
      "image/png": "[encoded data removed]",
      "text/plain": [
       "<Figure size 662.4x144 with 1 Axes>"
      ]
     },
     "metadata": {
      "needs_background": "light"
     },
     "output_type": "display_data"
    },
    {
     "data": {
      "application/javascript": [
       "\n",
       "            setTimeout(function() {\n",
       "                var nbb_cell_id = 25;\n",
       "                var nbb_unformatted_code = \"import numpy as np\\nimport matplotlib.pyplot as plt\\n\\n\\ncategory_names = [\\n    \\\"Expert1\\\",\\n    \\\"Expert2\\\",\\n    \\\"Expert3\\\",\\n    \\\"Expert4\\\",\\n    \\\"Expert5\\\",\\n    \\\"Expert6\\\",\\n    \\\"Expert7\\\",\\n    \\\"Expert8\\\",\\n    \\\"Residual\\\",\\n]\\nresults = {\\n    \\\"ResNet101\\\": [\\n        0.21,\\n        0.11,\\n        0.13,\\n        0.15,\\n        0.12,\\n        0.16,\\n        0.05,\\n        0,\\n        0.07,\\n    ],\\n    \\\"VIT\\\": [0.16, 0.17, 0.16, 0.15, 0.13, 0.19, 0.02, 0.003, 0.017],\\n}\\n\\n\\ndef survey(results, category_names):\\n    \\\"\\\"\\\"\\n    Parameters\\n    ----------\\n    results : dict\\n        A mapping from question labels to a list of answers per category.\\n        It is assumed all lists contain the same number of entries and that\\n        it matches the length of *category_names*.\\n    category_names : list of str\\n        The category labels.\\n    \\\"\\\"\\\"\\n    labels = list(results.keys())\\n    data = np.array(list(results.values()))\\n    data_cum = data.cumsum(axis=1)\\n    category_colors = [\\n        \\\"darkorange\\\",\\n        \\\"tab:blue\\\",\\n        \\\"tab:green\\\",\\n        \\\"tab:cyan\\\",\\n        \\\"tab:purple\\\",\\n        \\\"tab:red\\\",\\n        \\\"teal\\\",\\n        \\\"#D35400\\\",\\n        \\\"black\\\",\\n    ]\\n\\n    fig, ax = plt.subplots(figsize=(9.2, 2))\\n    #     ax.invert_yaxis()\\n    #     ax.xaxis.set_visible(False)\\n    ax.set_xlim(0, np.sum(data, axis=1).max())\\n    #     ax.set(yticks=ind + width, yticklabels=df.graph, ylim=[2*width - 1, len(df)])\\n    for i, (colname, color) in enumerate(zip(category_names, category_colors)):\\n        widths = data[:, i]\\n        starts = data_cum[:, i] - widths\\n        rects = ax.barh(\\n            labels, widths, left=starts, height=0.5, label=colname, color=color\\n        )\\n\\n        #         r, g, b, _ = color\\n        text_color = \\\"#17202A\\\"\\n    #         ax.bar_label(rects, label_type=\\\"center\\\", color=text_color)\\n    ax.legend(\\n        ncol=len(category_names),\\n        bbox_to_anchor=(0, 1),\\n        loc=\\\"lower left\\\",\\n        fontsize=\\\"small\\\",\\n    )\\n\\n    for tick in ax.get_yticklabels():\\n        tick.set_rotation(45)\\n    return fig, ax\\n\\n\\nsurvey(results, category_names)\\nplt.show()\";\n",
       "                var nbb_formatted_code = \"import numpy as np\\nimport matplotlib.pyplot as plt\\n\\n\\ncategory_names = [\\n    \\\"Expert1\\\",\\n    \\\"Expert2\\\",\\n    \\\"Expert3\\\",\\n    \\\"Expert4\\\",\\n    \\\"Expert5\\\",\\n    \\\"Expert6\\\",\\n    \\\"Expert7\\\",\\n    \\\"Expert8\\\",\\n    \\\"Residual\\\",\\n]\\nresults = {\\n    \\\"ResNet101\\\": [\\n        0.21,\\n        0.11,\\n        0.13,\\n        0.15,\\n        0.12,\\n        0.16,\\n        0.05,\\n        0,\\n        0.07,\\n    ],\\n    \\\"VIT\\\": [0.16, 0.17, 0.16, 0.15, 0.13, 0.19, 0.02, 0.003, 0.017],\\n}\\n\\n\\ndef survey(results, category_names):\\n    \\\"\\\"\\\"\\n    Parameters\\n    ----------\\n    results : dict\\n        A mapping from question labels to a list of answers per category.\\n        It is assumed all lists contain the same number of entries and that\\n        it matches the length of *category_names*.\\n    category_names : list of str\\n        The category labels.\\n    \\\"\\\"\\\"\\n    labels = list(results.keys())\\n    data = np.array(list(results.values()))\\n    data_cum = data.cumsum(axis=1)\\n    category_colors = [\\n        \\\"darkorange\\\",\\n        \\\"tab:blue\\\",\\n        \\\"tab:green\\\",\\n        \\\"tab:cyan\\\",\\n        \\\"tab:purple\\\",\\n        \\\"tab:red\\\",\\n        \\\"teal\\\",\\n        \\\"#D35400\\\",\\n        \\\"black\\\",\\n    ]\\n\\n    fig, ax = plt.subplots(figsize=(9.2, 2))\\n    #     ax.invert_yaxis()\\n    #     ax.xaxis.set_visible(False)\\n    ax.set_xlim(0, np.sum(data, axis=1).max())\\n    #     ax.set(yticks=ind + width, yticklabels=df.graph, ylim=[2*width - 1, len(df)])\\n    for i, (colname, color) in enumerate(zip(category_names, category_colors)):\\n        widths = data[:, i]\\n        starts = data_cum[:, i] - widths\\n        rects = ax.barh(\\n            labels, widths, left=starts, height=0.5, label=colname, color=color\\n        )\\n\\n        #         r, g, b, _ = color\\n        text_color = \\\"#17202A\\\"\\n    #         ax.bar_label(rects, label_type=\\\"center\\\", color=text_color)\\n    ax.legend(\\n        ncol=len(category_names),\\n        bbox_to_anchor=(0, 1),\\n        loc=\\\"lower left\\\",\\n        fontsize=\\\"small\\\",\\n    )\\n\\n    for tick in ax.get_yticklabels():\\n        tick.set_rotation(45)\\n    return fig, ax\\n\\n\\nsurvey(results, category_names)\\nplt.show()\";\n",
       "                var nbb_cells = Jupyter.notebook.get_cells();\n",
       "                for (var i = 0; i < nbb_cells.length; ++i) {\n",
       "                    if (nbb_cells[i].input_prompt_number == nbb_cell_id) {\n",
       "                        if (nbb_cells[i].get_text() == nbb_unformatted_code) {\n",
       "                             nbb_cells[i].set_text(nbb_formatted_code);\n",
       "                        }\n",
       "                        break;\n",
       "                    }\n",
       "                }\n",
       "            }, 500);\n",
       "            "
      ],
      "text/plain": [
       "<IPython.core.display.Javascript object>"
      ]
     },
     "metadata": {},
     "output_type": "display_data"
    }
   ],
   "source": [
    "import numpy as np\n",
    "import matplotlib.pyplot as plt\n",
    "\n",
    "\n",
    "category_names = [\n",
    "    \"Expert1\",\n",
    "    \"Expert2\",\n",
    "    \"Expert3\",\n",
    "    \"Expert4\",\n",
    "    \"Expert5\",\n",
    "    \"Expert6\",\n",
    "    \"Expert7\",\n",
    "    \"Expert8\",\n",
    "    \"Residual\",\n",
    "]\n",
    "results = {\n",
    "    \"ResNet101\": [\n",
    "        0.21,\n",
    "        0.11,\n",
    "        0.13,\n",
    "        0.15,\n",
    "        0.12,\n",
    "        0.16,\n",
    "        0.05,\n",
    "        0,\n",
    "        0.07,\n",
    "    ],\n",
    "    \"VIT\": [0.16, 0.17, 0.16, 0.15, 0.13, 0.19, 0.02, 0.003, 0.017],\n",
    "}\n",
    "\n",
    "\n",
    "def survey(results, category_names):\n",
    "    \"\"\"\n",
    "    Parameters\n",
    "    ----------\n",
    "    results : dict\n",
    "        A mapping from question labels to a list of answers per category.\n",
    "        It is assumed all lists contain the same number of entries and that\n",
    "        it matches the length of *category_names*.\n",
    "    category_names : list of str\n",
    "        The category labels.\n",
    "    \"\"\"\n",
    "    labels = list(results.keys())\n",
    "    data = np.array(list(results.values()))\n",
    "    data_cum = data.cumsum(axis=1)\n",
    "    category_colors = [\n",
    "        \"darkorange\",\n",
    "        \"tab:blue\",\n",
    "        \"tab:green\",\n",
    "        \"tab:cyan\",\n",
    "        \"tab:purple\",\n",
    "        \"tab:red\",\n",
    "        \"teal\",\n",
    "        \"#D35400\",\n",
    "        \"black\",\n",
    "    ]\n",
    "\n",
    "    fig, ax = plt.subplots(figsize=(9.2, 2))\n",
    "    #     ax.invert_yaxis()\n",
    "    #     ax.xaxis.set_visible(False)\n",
    "    ax.set_xlim(0, np.sum(data, axis=1).max())\n",
    "    #     ax.set(yticks=ind + width, yticklabels=df.graph, ylim=[2*width - 1, len(df)])\n",
    "    for i, (colname, color) in enumerate(zip(category_names, category_colors)):\n",
    "        widths = data[:, i]\n",
    "        starts = data_cum[:, i] - widths\n",
    "        rects = ax.barh(\n",
    "            labels, widths, left=starts, height=0.5, label=colname, color=color\n",
    "        )\n",
    "\n",
    "        #         r, g, b, _ = color\n",
    "        text_color = \"#17202A\"\n",
    "    #         ax.bar_label(rects, label_type=\"center\", color=text_color)\n",
    "    ax.legend(\n",
    "        ncol=len(category_names),\n",
    "        bbox_to_anchor=(0, 1),\n",
    "        loc=\"lower left\",\n",
    "        fontsize=\"small\",\n",
    "    )\n",
    "\n",
    "    for tick in ax.get_yticklabels():\n",
    "        tick.set_rotation(45)\n",
    "    return fig, ax\n",
    "\n",
    "\n",
    "survey(results, category_names)\n",
    "plt.show()"
   ]
  },
  {
   "cell_type": "code",
   "execution_count": 26,
   "metadata": {},
   "outputs": [
    {
     "name": "stdout",
     "output_type": "stream",
     "text": [
      "g_tot_acc: 86.53846153846155 (%)\n",
      "bb_tot_acc: 59.61538461538461 (%)\n",
      "g_tot_f1: 86.53846153846155 (%)\n",
      "g_tot_precision: 86.53846153846155 (%)\n",
      "g_tot_recall: 86.53846153846155 (%)\n",
      "bb_tot_recall: 59.61538461538461 (%)\n",
      "total samples covered by g: 1040 (out of 1183)\n",
      "total coverage by g: 0.8791208791208791\n"
     ]
    },
    {
     "data": {
      "application/javascript": [
       "\n",
       "            setTimeout(function() {\n",
       "                var nbb_cell_id = 26;\n",
       "                var nbb_unformatted_code = \"preds_tot_np = preds.argmax(dim=1).numpy()\\ngt_tot_np = gt.numpy()\\nbb_tot_np = bb.argmax(dim=1).numpy()\\nbb_tot_acc = metrics.accuracy_score(gt_tot_np, bb_tot_np)\\ng_tot_acc = metrics.accuracy_score(gt_tot_np, preds_tot_np)\\ng_tot_f1 = metrics.f1_score(gt_tot_np, preds_tot_np, average=\\\"micro\\\")\\ng_tot_precision = metrics.precision_score(gt_tot_np, preds_tot_np, average=\\\"micro\\\")\\ng_tot_recall = metrics.recall_score(gt_tot_np, preds_tot_np, average=\\\"micro\\\")\\nbb_tot_recall = metrics.recall_score(gt_tot_np, bb_tot_np, average=\\\"micro\\\")\\ng_tot_cov = preds.size(0) / 1183\\n\\n\\nprint(f\\\"g_tot_acc: {g_tot_acc * 100} (%)\\\")\\nprint(f\\\"bb_tot_acc: {bb_tot_acc * 100} (%)\\\")\\nprint(f\\\"g_tot_f1: {g_tot_f1 * 100} (%)\\\")\\nprint(f\\\"g_tot_precision: {g_tot_precision * 100} (%)\\\")\\nprint(f\\\"g_tot_recall: {g_tot_recall * 100} (%)\\\")\\nprint(f\\\"bb_tot_recall: {bb_tot_recall * 100} (%)\\\")\\nprint(f\\\"total samples covered by g: {preds.size(0)} (out of {1183})\\\")\\nprint(f\\\"total coverage by g: {g_tot_cov}\\\")\";\n",
       "                var nbb_formatted_code = \"preds_tot_np = preds.argmax(dim=1).numpy()\\ngt_tot_np = gt.numpy()\\nbb_tot_np = bb.argmax(dim=1).numpy()\\nbb_tot_acc = metrics.accuracy_score(gt_tot_np, bb_tot_np)\\ng_tot_acc = metrics.accuracy_score(gt_tot_np, preds_tot_np)\\ng_tot_f1 = metrics.f1_score(gt_tot_np, preds_tot_np, average=\\\"micro\\\")\\ng_tot_precision = metrics.precision_score(gt_tot_np, preds_tot_np, average=\\\"micro\\\")\\ng_tot_recall = metrics.recall_score(gt_tot_np, preds_tot_np, average=\\\"micro\\\")\\nbb_tot_recall = metrics.recall_score(gt_tot_np, bb_tot_np, average=\\\"micro\\\")\\ng_tot_cov = preds.size(0) / 1183\\n\\n\\nprint(f\\\"g_tot_acc: {g_tot_acc * 100} (%)\\\")\\nprint(f\\\"bb_tot_acc: {bb_tot_acc * 100} (%)\\\")\\nprint(f\\\"g_tot_f1: {g_tot_f1 * 100} (%)\\\")\\nprint(f\\\"g_tot_precision: {g_tot_precision * 100} (%)\\\")\\nprint(f\\\"g_tot_recall: {g_tot_recall * 100} (%)\\\")\\nprint(f\\\"bb_tot_recall: {bb_tot_recall * 100} (%)\\\")\\nprint(f\\\"total samples covered by g: {preds.size(0)} (out of {1183})\\\")\\nprint(f\\\"total coverage by g: {g_tot_cov}\\\")\";\n",
       "                var nbb_cells = Jupyter.notebook.get_cells();\n",
       "                for (var i = 0; i < nbb_cells.length; ++i) {\n",
       "                    if (nbb_cells[i].input_prompt_number == nbb_cell_id) {\n",
       "                        if (nbb_cells[i].get_text() == nbb_unformatted_code) {\n",
       "                             nbb_cells[i].set_text(nbb_formatted_code);\n",
       "                        }\n",
       "                        break;\n",
       "                    }\n",
       "                }\n",
       "            }, 500);\n",
       "            "
      ],
      "text/plain": [
       "<IPython.core.display.Javascript object>"
      ]
     },
     "metadata": {},
     "output_type": "display_data"
    }
   ],
   "source": [
    "preds_tot_np = preds.argmax(dim=1).numpy()\n",
    "gt_tot_np = gt.numpy()\n",
    "bb_tot_np = bb.argmax(dim=1).numpy()\n",
    "bb_tot_acc = metrics.accuracy_score(gt_tot_np, bb_tot_np)\n",
    "g_tot_acc = metrics.accuracy_score(gt_tot_np, preds_tot_np)\n",
    "g_tot_f1 = metrics.f1_score(gt_tot_np, preds_tot_np, average=\"micro\")\n",
    "g_tot_precision = metrics.precision_score(gt_tot_np, preds_tot_np, average=\"micro\")\n",
    "g_tot_recall = metrics.recall_score(gt_tot_np, preds_tot_np, average=\"micro\")\n",
    "bb_tot_recall = metrics.recall_score(gt_tot_np, bb_tot_np, average=\"micro\")\n",
    "g_tot_cov = preds.size(0) / 1183\n",
    "\n",
    "\n",
    "print(f\"g_tot_acc: {g_tot_acc * 100} (%)\")\n",
    "print(f\"bb_tot_acc: {bb_tot_acc * 100} (%)\")\n",
    "print(f\"g_tot_f1: {g_tot_f1 * 100} (%)\")\n",
    "print(f\"g_tot_precision: {g_tot_precision * 100} (%)\")\n",
    "print(f\"g_tot_recall: {g_tot_recall * 100} (%)\")\n",
    "print(f\"bb_tot_recall: {bb_tot_recall * 100} (%)\")\n",
    "print(f\"total samples covered by g: {preds.size(0)} (out of {1183})\")\n",
    "print(f\"total coverage by g: {g_tot_cov}\")"
   ]
  },
  {
   "cell_type": "code",
   "execution_count": 28,
   "metadata": {},
   "outputs": [
    {
     "name": "stdout",
     "output_type": "stream",
     "text": [
      "\n",
      "\n",
      " << Test sizes >>\n",
      "torch.Size([143, 200])\n",
      "torch.Size([143, 200])\n",
      "torch.Size([143])\n"
     ]
    },
    {
     "data": {
      "application/javascript": [
       "\n",
       "            setTimeout(function() {\n",
       "                var nbb_cell_id = 28;\n",
       "                var nbb_unformatted_code = \"test_tensor_preds_residual = torch.load(\\n    os.path.join(\\n        \\\"/ocean/projects/asc170022p/shg121/PhD/ICLR-2022/out/cub/explainer/ResNet101/lr_0.01_epochs_500_temperature-lens_0.7_use-concepts-as-pi-input_True_input-size-pi_2048_cov_0.2_alpha_0.5_selection-threshold_0.5_lambda-lens_0.0001_alpha-KD_0.9_temperature-KD_10.0_hidden-layers_1_layer_layer4_explainer_init_none/cov_0.2_lr_0.01/iter6/bb/residual_outputs\\\",\\n        \\\"test_tensor_preds_residual.pt\\\",\\n    )\\n)\\n\\ntest_tensor_preds_bb_residual = torch.load(\\n    os.path.join(\\n        \\\"/ocean/projects/asc170022p/shg121/PhD/ICLR-2022/out/cub/explainer/ResNet101/lr_0.01_epochs_500_temperature-lens_0.7_use-concepts-as-pi-input_True_input-size-pi_2048_cov_0.2_alpha_0.5_selection-threshold_0.5_lambda-lens_0.0001_alpha-KD_0.9_temperature-KD_10.0_hidden-layers_1_layer_layer4_explainer_init_none/cov_0.2_lr_0.01/iter6/bb/residual_outputs\\\",\\n        \\\"test_tensor_preds_bb.pt\\\",\\n    )\\n)\\n\\ntest_tensor_y_residual = torch.load(\\n    os.path.join(\\n        \\\"/ocean/projects/asc170022p/shg121/PhD/ICLR-2022/out/cub/explainer/ResNet101/lr_0.01_epochs_500_temperature-lens_0.7_use-concepts-as-pi-input_True_input-size-pi_2048_cov_0.2_alpha_0.5_selection-threshold_0.5_lambda-lens_0.0001_alpha-KD_0.9_temperature-KD_10.0_hidden-layers_1_layer_layer4_explainer_init_none/cov_0.2_lr_0.01/iter6/bb/residual_outputs\\\",\\n        \\\"test_tensor_y.pt\\\",\\n    )\\n)\\n\\n\\nprint(\\\"\\\\n\\\\n << Test sizes >>\\\")\\nprint(test_tensor_preds_residual.size())\\nprint(test_tensor_preds_bb_residual.size())\\nprint(test_tensor_y_residual.size())\";\n",
       "                var nbb_formatted_code = \"test_tensor_preds_residual = torch.load(\\n    os.path.join(\\n        \\\"/ocean/projects/asc170022p/shg121/PhD/ICLR-2022/out/cub/explainer/ResNet101/lr_0.01_epochs_500_temperature-lens_0.7_use-concepts-as-pi-input_True_input-size-pi_2048_cov_0.2_alpha_0.5_selection-threshold_0.5_lambda-lens_0.0001_alpha-KD_0.9_temperature-KD_10.0_hidden-layers_1_layer_layer4_explainer_init_none/cov_0.2_lr_0.01/iter6/bb/residual_outputs\\\",\\n        \\\"test_tensor_preds_residual.pt\\\",\\n    )\\n)\\n\\ntest_tensor_preds_bb_residual = torch.load(\\n    os.path.join(\\n        \\\"/ocean/projects/asc170022p/shg121/PhD/ICLR-2022/out/cub/explainer/ResNet101/lr_0.01_epochs_500_temperature-lens_0.7_use-concepts-as-pi-input_True_input-size-pi_2048_cov_0.2_alpha_0.5_selection-threshold_0.5_lambda-lens_0.0001_alpha-KD_0.9_temperature-KD_10.0_hidden-layers_1_layer_layer4_explainer_init_none/cov_0.2_lr_0.01/iter6/bb/residual_outputs\\\",\\n        \\\"test_tensor_preds_bb.pt\\\",\\n    )\\n)\\n\\ntest_tensor_y_residual = torch.load(\\n    os.path.join(\\n        \\\"/ocean/projects/asc170022p/shg121/PhD/ICLR-2022/out/cub/explainer/ResNet101/lr_0.01_epochs_500_temperature-lens_0.7_use-concepts-as-pi-input_True_input-size-pi_2048_cov_0.2_alpha_0.5_selection-threshold_0.5_lambda-lens_0.0001_alpha-KD_0.9_temperature-KD_10.0_hidden-layers_1_layer_layer4_explainer_init_none/cov_0.2_lr_0.01/iter6/bb/residual_outputs\\\",\\n        \\\"test_tensor_y.pt\\\",\\n    )\\n)\\n\\n\\nprint(\\\"\\\\n\\\\n << Test sizes >>\\\")\\nprint(test_tensor_preds_residual.size())\\nprint(test_tensor_preds_bb_residual.size())\\nprint(test_tensor_y_residual.size())\";\n",
       "                var nbb_cells = Jupyter.notebook.get_cells();\n",
       "                for (var i = 0; i < nbb_cells.length; ++i) {\n",
       "                    if (nbb_cells[i].input_prompt_number == nbb_cell_id) {\n",
       "                        if (nbb_cells[i].get_text() == nbb_unformatted_code) {\n",
       "                             nbb_cells[i].set_text(nbb_formatted_code);\n",
       "                        }\n",
       "                        break;\n",
       "                    }\n",
       "                }\n",
       "            }, 500);\n",
       "            "
      ],
      "text/plain": [
       "<IPython.core.display.Javascript object>"
      ]
     },
     "metadata": {},
     "output_type": "display_data"
    }
   ],
   "source": [
    "test_tensor_preds_residual = torch.load(\n",
    "    os.path.join(\n",
    "        \"/ocean/projects/asc170022p/shg121/PhD/ICLR-2022/out/cub/explainer/ResNet101/lr_0.01_epochs_500_temperature-lens_0.7_use-concepts-as-pi-input_True_input-size-pi_2048_cov_0.2_alpha_0.5_selection-threshold_0.5_lambda-lens_0.0001_alpha-KD_0.9_temperature-KD_10.0_hidden-layers_1_layer_layer4_explainer_init_none/cov_0.2_lr_0.01/iter6/bb/residual_outputs\",\n",
    "        \"test_tensor_preds_residual.pt\",\n",
    "    )\n",
    ")\n",
    "\n",
    "test_tensor_preds_bb_residual = torch.load(\n",
    "    os.path.join(\n",
    "        \"/ocean/projects/asc170022p/shg121/PhD/ICLR-2022/out/cub/explainer/ResNet101/lr_0.01_epochs_500_temperature-lens_0.7_use-concepts-as-pi-input_True_input-size-pi_2048_cov_0.2_alpha_0.5_selection-threshold_0.5_lambda-lens_0.0001_alpha-KD_0.9_temperature-KD_10.0_hidden-layers_1_layer_layer4_explainer_init_none/cov_0.2_lr_0.01/iter6/bb/residual_outputs\",\n",
    "        \"test_tensor_preds_bb.pt\",\n",
    "    )\n",
    ")\n",
    "\n",
    "test_tensor_y_residual = torch.load(\n",
    "    os.path.join(\n",
    "        \"/ocean/projects/asc170022p/shg121/PhD/ICLR-2022/out/cub/explainer/ResNet101/lr_0.01_epochs_500_temperature-lens_0.7_use-concepts-as-pi-input_True_input-size-pi_2048_cov_0.2_alpha_0.5_selection-threshold_0.5_lambda-lens_0.0001_alpha-KD_0.9_temperature-KD_10.0_hidden-layers_1_layer_layer4_explainer_init_none/cov_0.2_lr_0.01/iter6/bb/residual_outputs\",\n",
    "        \"test_tensor_y.pt\",\n",
    "    )\n",
    ")\n",
    "\n",
    "\n",
    "print(\"\\n\\n << Test sizes >>\")\n",
    "print(test_tensor_preds_residual.size())\n",
    "print(test_tensor_preds_bb_residual.size())\n",
    "print(test_tensor_y_residual.size())"
   ]
  },
  {
   "cell_type": "code",
   "execution_count": 32,
   "metadata": {},
   "outputs": [
    {
     "data": {
      "text/plain": [
       "tensor(0.8252)"
      ]
     },
     "execution_count": 32,
     "metadata": {},
     "output_type": "execute_result"
    },
    {
     "data": {
      "application/javascript": [
       "\n",
       "            setTimeout(function() {\n",
       "                var nbb_cell_id = 32;\n",
       "                var nbb_unformatted_code = \"torch.sum(\\n    test_tensor_preds_residual.argmax(dim=1) == test_tensor_y_residual\\n) / test_tensor_preds_residual.size(0)\";\n",
       "                var nbb_formatted_code = \"torch.sum(\\n    test_tensor_preds_residual.argmax(dim=1) == test_tensor_y_residual\\n) / test_tensor_preds_residual.size(0)\";\n",
       "                var nbb_cells = Jupyter.notebook.get_cells();\n",
       "                for (var i = 0; i < nbb_cells.length; ++i) {\n",
       "                    if (nbb_cells[i].input_prompt_number == nbb_cell_id) {\n",
       "                        if (nbb_cells[i].get_text() == nbb_unformatted_code) {\n",
       "                             nbb_cells[i].set_text(nbb_formatted_code);\n",
       "                        }\n",
       "                        break;\n",
       "                    }\n",
       "                }\n",
       "            }, 500);\n",
       "            "
      ],
      "text/plain": [
       "<IPython.core.display.Javascript object>"
      ]
     },
     "metadata": {},
     "output_type": "display_data"
    }
   ],
   "source": [
    "torch.sum(\n",
    "    test_tensor_preds_residual.argmax(dim=1) == test_tensor_y_residual\n",
    ") / test_tensor_preds_residual.size(0)"
   ]
  },
  {
   "cell_type": "code",
   "execution_count": 31,
   "metadata": {},
   "outputs": [
    {
     "name": "stdout",
     "output_type": "stream",
     "text": [
      "g_tot_acc: 86.0524091293322 (%)\n",
      "bb_tot_acc: 62.975486052409124 (%)\n",
      "g_tot_f1: 86.0524091293322 (%)\n",
      "g_tot_precision: 86.0524091293322 (%)\n",
      "g_tot_recall: 86.0524091293322 (%)\n",
      "bb_tot_recall: 62.975486052409124 (%)\n",
      "total samples covered by g: 1183 (out of 1183)\n",
      "total coverage by g: 1.0\n"
     ]
    },
    {
     "data": {
      "application/javascript": [
       "\n",
       "            setTimeout(function() {\n",
       "                var nbb_cell_id = 31;\n",
       "                var nbb_unformatted_code = \"expert_type = \\\"explainer\\\"\\noutput = \\\"g_outputs\\\"\\n\\npreds = torch.cat((test_tensor_preds_1, test_tensor_preds_2, test_tensor_preds_3, \\n                   test_tensor_preds_4, test_tensor_preds_5, test_tensor_preds_6, \\n                     test_tensor_preds_residual,\\n#                    test_tensor_preds_7, test_tensor_preds_8\\n                  ), dim=0)\\ngt = torch.cat((test_tensor_y_1, test_tensor_y_2, test_tensor_y_3 ,\\n                test_tensor_y_4, test_tensor_y_5, test_tensor_y_6,\\n                test_tensor_y_residual\\n#                test_tensor_y_7, test_tensor_y_8\\n               ), dim=0)\\nbb = torch.cat((\\n    test_tensor_preds_bb_1.cpu(), test_tensor_preds_bb_2.cpu(), test_tensor_preds_bb_3.cpu(),\\n    test_tensor_preds_bb_4.cpu(), test_tensor_preds_bb_5.cpu(), test_tensor_preds_bb_6.cpu(),\\n    test_tensor_preds_bb_residual.cpu()\\n#     test_tensor_preds_bb_7.cpu(), test_tensor_preds_bb_8.cpu()\\n), \\n               dim=0)\\n\\npreds_tot_np = preds.argmax(dim=1).numpy()\\ngt_tot_np = gt.numpy()\\nbb_tot_np = bb.argmax(dim=1).numpy()\\nbb_tot_acc = metrics.accuracy_score(gt_tot_np, bb_tot_np)\\ng_tot_acc = metrics.accuracy_score(gt_tot_np, preds_tot_np)\\ng_tot_f1 = metrics.f1_score(gt_tot_np, preds_tot_np, average=\\\"micro\\\")\\ng_tot_precision = metrics.precision_score(gt_tot_np, preds_tot_np, average=\\\"micro\\\")\\ng_tot_recall = metrics.recall_score(gt_tot_np, preds_tot_np, average=\\\"micro\\\")\\nbb_tot_recall = metrics.recall_score(gt_tot_np, bb_tot_np, average=\\\"micro\\\")\\ng_tot_cov = preds.size(0) / 1183\\n\\n\\nprint(f\\\"g_tot_acc: {g_tot_acc * 100} (%)\\\")\\nprint(f\\\"bb_tot_acc: {bb_tot_acc * 100} (%)\\\")\\nprint(f\\\"g_tot_f1: {g_tot_f1 * 100} (%)\\\")\\nprint(f\\\"g_tot_precision: {g_tot_precision * 100} (%)\\\")\\nprint(f\\\"g_tot_recall: {g_tot_recall * 100} (%)\\\")\\nprint(f\\\"bb_tot_recall: {bb_tot_recall * 100} (%)\\\")\\nprint(f\\\"total samples covered by g: {preds.size(0)} (out of {1183})\\\")\\nprint(f\\\"total coverage by g: {g_tot_cov}\\\")\";\n",
       "                var nbb_formatted_code = \"expert_type = \\\"explainer\\\"\\noutput = \\\"g_outputs\\\"\\n\\npreds = torch.cat(\\n    (\\n        test_tensor_preds_1,\\n        test_tensor_preds_2,\\n        test_tensor_preds_3,\\n        test_tensor_preds_4,\\n        test_tensor_preds_5,\\n        test_tensor_preds_6,\\n        test_tensor_preds_residual,\\n        #                    test_tensor_preds_7, test_tensor_preds_8\\n    ),\\n    dim=0,\\n)\\ngt = torch.cat(\\n    (\\n        test_tensor_y_1,\\n        test_tensor_y_2,\\n        test_tensor_y_3,\\n        test_tensor_y_4,\\n        test_tensor_y_5,\\n        test_tensor_y_6,\\n        test_tensor_y_residual\\n        #                test_tensor_y_7, test_tensor_y_8\\n    ),\\n    dim=0,\\n)\\nbb = torch.cat(\\n    (\\n        test_tensor_preds_bb_1.cpu(),\\n        test_tensor_preds_bb_2.cpu(),\\n        test_tensor_preds_bb_3.cpu(),\\n        test_tensor_preds_bb_4.cpu(),\\n        test_tensor_preds_bb_5.cpu(),\\n        test_tensor_preds_bb_6.cpu(),\\n        test_tensor_preds_bb_residual.cpu()\\n        #     test_tensor_preds_bb_7.cpu(), test_tensor_preds_bb_8.cpu()\\n    ),\\n    dim=0,\\n)\\n\\npreds_tot_np = preds.argmax(dim=1).numpy()\\ngt_tot_np = gt.numpy()\\nbb_tot_np = bb.argmax(dim=1).numpy()\\nbb_tot_acc = metrics.accuracy_score(gt_tot_np, bb_tot_np)\\ng_tot_acc = metrics.accuracy_score(gt_tot_np, preds_tot_np)\\ng_tot_f1 = metrics.f1_score(gt_tot_np, preds_tot_np, average=\\\"micro\\\")\\ng_tot_precision = metrics.precision_score(gt_tot_np, preds_tot_np, average=\\\"micro\\\")\\ng_tot_recall = metrics.recall_score(gt_tot_np, preds_tot_np, average=\\\"micro\\\")\\nbb_tot_recall = metrics.recall_score(gt_tot_np, bb_tot_np, average=\\\"micro\\\")\\ng_tot_cov = preds.size(0) / 1183\\n\\n\\nprint(f\\\"g_tot_acc: {g_tot_acc * 100} (%)\\\")\\nprint(f\\\"bb_tot_acc: {bb_tot_acc * 100} (%)\\\")\\nprint(f\\\"g_tot_f1: {g_tot_f1 * 100} (%)\\\")\\nprint(f\\\"g_tot_precision: {g_tot_precision * 100} (%)\\\")\\nprint(f\\\"g_tot_recall: {g_tot_recall * 100} (%)\\\")\\nprint(f\\\"bb_tot_recall: {bb_tot_recall * 100} (%)\\\")\\nprint(f\\\"total samples covered by g: {preds.size(0)} (out of {1183})\\\")\\nprint(f\\\"total coverage by g: {g_tot_cov}\\\")\";\n",
       "                var nbb_cells = Jupyter.notebook.get_cells();\n",
       "                for (var i = 0; i < nbb_cells.length; ++i) {\n",
       "                    if (nbb_cells[i].input_prompt_number == nbb_cell_id) {\n",
       "                        if (nbb_cells[i].get_text() == nbb_unformatted_code) {\n",
       "                             nbb_cells[i].set_text(nbb_formatted_code);\n",
       "                        }\n",
       "                        break;\n",
       "                    }\n",
       "                }\n",
       "            }, 500);\n",
       "            "
      ],
      "text/plain": [
       "<IPython.core.display.Javascript object>"
      ]
     },
     "metadata": {},
     "output_type": "display_data"
    }
   ],
   "source": [
    "expert_type = \"explainer\"\n",
    "output = \"g_outputs\"\n",
    "\n",
    "preds = torch.cat((test_tensor_preds_1, test_tensor_preds_2, test_tensor_preds_3, \n",
    "                   test_tensor_preds_4, test_tensor_preds_5, test_tensor_preds_6, \n",
    "                     test_tensor_preds_residual,\n",
    "#                    test_tensor_preds_7, test_tensor_preds_8\n",
    "                  ), dim=0)\n",
    "gt = torch.cat((test_tensor_y_1, test_tensor_y_2, test_tensor_y_3 ,\n",
    "                test_tensor_y_4, test_tensor_y_5, test_tensor_y_6,\n",
    "                test_tensor_y_residual\n",
    "#                test_tensor_y_7, test_tensor_y_8\n",
    "               ), dim=0)\n",
    "bb = torch.cat((\n",
    "    test_tensor_preds_bb_1.cpu(), test_tensor_preds_bb_2.cpu(), test_tensor_preds_bb_3.cpu(),\n",
    "    test_tensor_preds_bb_4.cpu(), test_tensor_preds_bb_5.cpu(), test_tensor_preds_bb_6.cpu(),\n",
    "    test_tensor_preds_bb_residual.cpu()\n",
    "#     test_tensor_preds_bb_7.cpu(), test_tensor_preds_bb_8.cpu()\n",
    "), \n",
    "               dim=0)\n",
    "\n",
    "preds_tot_np = preds.argmax(dim=1).numpy()\n",
    "gt_tot_np = gt.numpy()\n",
    "bb_tot_np = bb.argmax(dim=1).numpy()\n",
    "bb_tot_acc = metrics.accuracy_score(gt_tot_np, bb_tot_np)\n",
    "g_tot_acc = metrics.accuracy_score(gt_tot_np, preds_tot_np)\n",
    "g_tot_f1 = metrics.f1_score(gt_tot_np, preds_tot_np, average=\"micro\")\n",
    "g_tot_precision = metrics.precision_score(gt_tot_np, preds_tot_np, average=\"micro\")\n",
    "g_tot_recall = metrics.recall_score(gt_tot_np, preds_tot_np, average=\"micro\")\n",
    "bb_tot_recall = metrics.recall_score(gt_tot_np, bb_tot_np, average=\"micro\")\n",
    "g_tot_cov = preds.size(0) / 1183\n",
    "\n",
    "\n",
    "print(f\"g_tot_acc: {g_tot_acc * 100} (%)\")\n",
    "print(f\"bb_tot_acc: {bb_tot_acc * 100} (%)\")\n",
    "print(f\"g_tot_f1: {g_tot_f1 * 100} (%)\")\n",
    "print(f\"g_tot_precision: {g_tot_precision * 100} (%)\")\n",
    "print(f\"g_tot_recall: {g_tot_recall * 100} (%)\")\n",
    "print(f\"bb_tot_recall: {bb_tot_recall * 100} (%)\")\n",
    "print(f\"total samples covered by g: {preds.size(0)} (out of {1183})\")\n",
    "print(f\"total coverage by g: {g_tot_cov}\")\n"
   ]
  },
  {
   "cell_type": "code",
   "execution_count": 72,
   "metadata": {},
   "outputs": [
    {
     "name": "stdout",
     "output_type": "stream",
     "text": [
      "[0.20540997464074387, 0.11242603550295859, 0.1293322062552832, 0.14877430262045646, 0.12341504649196956, 0.15976331360946747] 0.8791208791208791 0.1208791208791209\n"
     ]
    },
    {
     "data": {
      "text/plain": [
       "(19.695689430301307,\n",
       " 10.312764355416833,\n",
       " 11.665257894680446,\n",
       " 11.91885054161865,\n",
       " 10.228233274925792,\n",
       " 12.256973699705135,\n",
       " 9.974640542334253)"
      ]
     },
     "execution_count": 72,
     "metadata": {},
     "output_type": "execute_result"
    },
    {
     "data": {
      "application/javascript": [
       "\n",
       "            setTimeout(function() {\n",
       "                var nbb_cell_id = 72;\n",
       "                var nbb_unformatted_code = \"x = [\\n    test_tensor_preds_1.size(0) / 1183,\\n    test_tensor_preds_2.size(0) / 1183,\\n    test_tensor_preds_3.size(0) / 1183,\\n    test_tensor_preds_4.size(0) / 1183,\\n    test_tensor_preds_5.size(0) / 1183,\\n    test_tensor_preds_6.size(0) / 1183,\\n]\\n\\nprint(x, sum(x), 1 - sum(x))\\n(\\n    (\\n        torch.sum(test_tensor_preds_1.argmax(dim=1) == test_tensor_y_1)\\n        / test_tensor_preds_1.size(0)\\n    ).item()\\n    * (test_tensor_preds_1.size(0) / 1183)\\n    * 100,\\n    (\\n        torch.sum(test_tensor_preds_2.argmax(dim=1) == test_tensor_y_2)\\n        / test_tensor_preds_2.size(0)\\n    ).item()\\n    * (test_tensor_preds_2.size(0) / 1183)* 100,\\n    (\\n        torch.sum(test_tensor_preds_3.argmax(dim=1) == test_tensor_y_3)\\n        / test_tensor_preds_3.size(0)\\n    ).item()\\n    * (test_tensor_preds_3.size(0) / 1183)* 100,\\n    (\\n        torch.sum(test_tensor_preds_4.argmax(dim=1) == test_tensor_y_4)\\n        / test_tensor_preds_4.size(0)\\n    ).item()\\n    * (test_tensor_preds_4.size(0) / 1183)* 100,\\n    (\\n        torch.sum(test_tensor_preds_5.argmax(dim=1) == test_tensor_y_5)\\n        / test_tensor_preds_5.size(0)\\n    ).item()\\n    * (test_tensor_preds_5.size(0) / 1183)* 100,\\n    (\\n        torch.sum(test_tensor_preds_6.argmax(dim=1) == test_tensor_y_6)\\n        / test_tensor_preds_6.size(0)\\n    ).item()\\n    * (test_tensor_preds_6.size(0) / 1183)* 100,\\n    (\\n        torch.sum(test_tensor_preds_residual.argmax(dim=1) == test_tensor_y_residual)\\n        / test_tensor_preds_residual.size(0)\\n    ).item()\\n    * (test_tensor_preds_residual.size(0) / 1183)* 100,\\n)\";\n",
       "                var nbb_formatted_code = \"x = [\\n    test_tensor_preds_1.size(0) / 1183,\\n    test_tensor_preds_2.size(0) / 1183,\\n    test_tensor_preds_3.size(0) / 1183,\\n    test_tensor_preds_4.size(0) / 1183,\\n    test_tensor_preds_5.size(0) / 1183,\\n    test_tensor_preds_6.size(0) / 1183,\\n]\\n\\nprint(x, sum(x), 1 - sum(x))\\n(\\n    (\\n        torch.sum(test_tensor_preds_1.argmax(dim=1) == test_tensor_y_1)\\n        / test_tensor_preds_1.size(0)\\n    ).item()\\n    * (test_tensor_preds_1.size(0) / 1183)\\n    * 100,\\n    (\\n        torch.sum(test_tensor_preds_2.argmax(dim=1) == test_tensor_y_2)\\n        / test_tensor_preds_2.size(0)\\n    ).item()\\n    * (test_tensor_preds_2.size(0) / 1183)\\n    * 100,\\n    (\\n        torch.sum(test_tensor_preds_3.argmax(dim=1) == test_tensor_y_3)\\n        / test_tensor_preds_3.size(0)\\n    ).item()\\n    * (test_tensor_preds_3.size(0) / 1183)\\n    * 100,\\n    (\\n        torch.sum(test_tensor_preds_4.argmax(dim=1) == test_tensor_y_4)\\n        / test_tensor_preds_4.size(0)\\n    ).item()\\n    * (test_tensor_preds_4.size(0) / 1183)\\n    * 100,\\n    (\\n        torch.sum(test_tensor_preds_5.argmax(dim=1) == test_tensor_y_5)\\n        / test_tensor_preds_5.size(0)\\n    ).item()\\n    * (test_tensor_preds_5.size(0) / 1183)\\n    * 100,\\n    (\\n        torch.sum(test_tensor_preds_6.argmax(dim=1) == test_tensor_y_6)\\n        / test_tensor_preds_6.size(0)\\n    ).item()\\n    * (test_tensor_preds_6.size(0) / 1183)\\n    * 100,\\n    (\\n        torch.sum(test_tensor_preds_residual.argmax(dim=1) == test_tensor_y_residual)\\n        / test_tensor_preds_residual.size(0)\\n    ).item()\\n    * (test_tensor_preds_residual.size(0) / 1183)\\n    * 100,\\n)\";\n",
       "                var nbb_cells = Jupyter.notebook.get_cells();\n",
       "                for (var i = 0; i < nbb_cells.length; ++i) {\n",
       "                    if (nbb_cells[i].input_prompt_number == nbb_cell_id) {\n",
       "                        if (nbb_cells[i].get_text() == nbb_unformatted_code) {\n",
       "                             nbb_cells[i].set_text(nbb_formatted_code);\n",
       "                        }\n",
       "                        break;\n",
       "                    }\n",
       "                }\n",
       "            }, 500);\n",
       "            "
      ],
      "text/plain": [
       "<IPython.core.display.Javascript object>"
      ]
     },
     "metadata": {},
     "output_type": "display_data"
    }
   ],
   "source": [
    "x = [\n",
    "    test_tensor_preds_1.size(0) / 1183,\n",
    "    test_tensor_preds_2.size(0) / 1183,\n",
    "    test_tensor_preds_3.size(0) / 1183,\n",
    "    test_tensor_preds_4.size(0) / 1183,\n",
    "    test_tensor_preds_5.size(0) / 1183,\n",
    "    test_tensor_preds_6.size(0) / 1183,\n",
    "]\n",
    "\n",
    "print(x, sum(x), 1 - sum(x))\n",
    "(\n",
    "    (\n",
    "        torch.sum(test_tensor_preds_1.argmax(dim=1) == test_tensor_y_1)\n",
    "        / test_tensor_preds_1.size(0)\n",
    "    ).item()\n",
    "    * (test_tensor_preds_1.size(0) / 1183)\n",
    "    * 100,\n",
    "    (\n",
    "        torch.sum(test_tensor_preds_2.argmax(dim=1) == test_tensor_y_2)\n",
    "        / test_tensor_preds_2.size(0)\n",
    "    ).item()\n",
    "    * (test_tensor_preds_2.size(0) / 1183)\n",
    "    * 100,\n",
    "    (\n",
    "        torch.sum(test_tensor_preds_3.argmax(dim=1) == test_tensor_y_3)\n",
    "        / test_tensor_preds_3.size(0)\n",
    "    ).item()\n",
    "    * (test_tensor_preds_3.size(0) / 1183)\n",
    "    * 100,\n",
    "    (\n",
    "        torch.sum(test_tensor_preds_4.argmax(dim=1) == test_tensor_y_4)\n",
    "        / test_tensor_preds_4.size(0)\n",
    "    ).item()\n",
    "    * (test_tensor_preds_4.size(0) / 1183)\n",
    "    * 100,\n",
    "    (\n",
    "        torch.sum(test_tensor_preds_5.argmax(dim=1) == test_tensor_y_5)\n",
    "        / test_tensor_preds_5.size(0)\n",
    "    ).item()\n",
    "    * (test_tensor_preds_5.size(0) / 1183)\n",
    "    * 100,\n",
    "    (\n",
    "        torch.sum(test_tensor_preds_6.argmax(dim=1) == test_tensor_y_6)\n",
    "        / test_tensor_preds_6.size(0)\n",
    "    ).item()\n",
    "    * (test_tensor_preds_6.size(0) / 1183)\n",
    "    * 100,\n",
    "    (\n",
    "        torch.sum(test_tensor_preds_residual.argmax(dim=1) == test_tensor_y_residual)\n",
    "        / test_tensor_preds_residual.size(0)\n",
    "    ).item()\n",
    "    * (test_tensor_preds_residual.size(0) / 1183)\n",
    "    * 100,\n",
    ")"
   ]
  },
  {
   "cell_type": "code",
   "execution_count": 24,
   "metadata": {},
   "outputs": [
    {
     "name": "stdout",
     "output_type": "stream",
     "text": [
      "/ocean/projects/asc170022p/shg121/PhD/ICLR-2022/plot_cub\n"
     ]
    },
    {
     "data": {
      "image/png": "[encoded data removed]",
      "text/plain": [
       "<Figure size 432x288 with 1 Axes>"
      ]
     },
     "metadata": {
      "needs_background": "light"
     },
     "output_type": "display_data"
    },
    {
     "data": {
      "application/javascript": [
       "\n",
       "            setTimeout(function() {\n",
       "                var nbb_cell_id = 24;\n",
       "                var nbb_unformatted_code = \"import pandas as pd\\nimport matplotlib.pyplot as plt\\nfrom matplotlib.ticker import MaxNLocator\\nplot_folder = \\\"/ocean/projects/asc170022p/shg121/PhD/ICLR-2022/plot_cub\\\"\\nclass_list = [\\n    \\\"Expert1\\\",\\n    \\\"Expert2\\\",\\n    \\\"Expert3\\\",\\n    \\\"Expert4\\\",\\n    \\\"Expert5\\\",\\n    \\\"Expert6\\\",\\n    \\\"Expert7\\\",]\\naccuracy = [96, 92, 90, 80, 83, 77, 82]\\navg_concept_used = [20, 20, 27, 20, 22, 37, 20]\\ncov = [0.17, 0.17, 0.16, 0.15, 0.12, 0.19]\\nfig = plt.figure()\\nax = fig.add_subplot(111)\\n# increase space below subplot\\nfig.subplots_adjust(bottom=0.3)\\nax.bar(class_list,\\n   avg_concept_used,\\n   width=0.8,\\n    color=\\\"#6495ED\\\"\\n   )\\n# invert y axis\\nax.yaxis.set_major_locator(MaxNLocator(integer=True))\\n# ax.set_ylim([0,  20])\\nax.invert_yaxis()\\nax.set_ylabel(\\\"Avg no. of concepts\\\")\\n# label x axis\\n# ax.set_xticks(range(len(df)))\\n# ax.set_xticklabels(df['x_cat'],\\n#                fontdict={'fontsize': 14})\\nplt.tick_params(left = False, right = False , labelleft = True ,\\n                labelbottom = False, bottom = False)\\nfor tick in ax.get_xticklabels():\\n    tick.set_rotation(90)\\n\\nresolution_value = 300\\nplt.savefig(os.path.join(plot_folder, \\\"expert_concept_top_down.png\\\"), format=\\\"png\\\", dpi=resolution_value)\\nprint(plot_folder)\\nplt.show()\";\n",
       "                var nbb_formatted_code = \"import pandas as pd\\nimport matplotlib.pyplot as plt\\nfrom matplotlib.ticker import MaxNLocator\\n\\nplot_folder = \\\"/ocean/projects/asc170022p/shg121/PhD/ICLR-2022/plot_cub\\\"\\nclass_list = [\\n    \\\"Expert1\\\",\\n    \\\"Expert2\\\",\\n    \\\"Expert3\\\",\\n    \\\"Expert4\\\",\\n    \\\"Expert5\\\",\\n    \\\"Expert6\\\",\\n    \\\"Expert7\\\",\\n]\\naccuracy = [96, 92, 90, 80, 83, 77, 82]\\navg_concept_used = [20, 20, 27, 20, 22, 37, 20]\\ncov = [0.17, 0.17, 0.16, 0.15, 0.12, 0.19]\\nfig = plt.figure()\\nax = fig.add_subplot(111)\\n# increase space below subplot\\nfig.subplots_adjust(bottom=0.3)\\nax.bar(class_list, avg_concept_used, width=0.8, color=\\\"#6495ED\\\")\\n# invert y axis\\nax.yaxis.set_major_locator(MaxNLocator(integer=True))\\n# ax.set_ylim([0,  20])\\nax.invert_yaxis()\\nax.set_ylabel(\\\"Avg no. of concepts\\\")\\n# label x axis\\n# ax.set_xticks(range(len(df)))\\n# ax.set_xticklabels(df['x_cat'],\\n#                fontdict={'fontsize': 14})\\nplt.tick_params(\\n    left=False, right=False, labelleft=True, labelbottom=False, bottom=False\\n)\\nfor tick in ax.get_xticklabels():\\n    tick.set_rotation(90)\\n\\nresolution_value = 300\\nplt.savefig(\\n    os.path.join(plot_folder, \\\"expert_concept_top_down.png\\\"),\\n    format=\\\"png\\\",\\n    dpi=resolution_value,\\n)\\nprint(plot_folder)\\nplt.show()\";\n",
       "                var nbb_cells = Jupyter.notebook.get_cells();\n",
       "                for (var i = 0; i < nbb_cells.length; ++i) {\n",
       "                    if (nbb_cells[i].input_prompt_number == nbb_cell_id) {\n",
       "                        if (nbb_cells[i].get_text() == nbb_unformatted_code) {\n",
       "                             nbb_cells[i].set_text(nbb_formatted_code);\n",
       "                        }\n",
       "                        break;\n",
       "                    }\n",
       "                }\n",
       "            }, 500);\n",
       "            "
      ],
      "text/plain": [
       "<IPython.core.display.Javascript object>"
      ]
     },
     "metadata": {},
     "output_type": "display_data"
    }
   ],
   "source": [
    "import pandas as pd\n",
    "import matplotlib.pyplot as plt\n",
    "from matplotlib.ticker import MaxNLocator\n",
    "plot_folder = \"/ocean/projects/asc170022p/shg121/PhD/ICLR-2022/plot_cub\"\n",
    "class_list = [\n",
    "    \"Expert1\",\n",
    "    \"Expert2\",\n",
    "    \"Expert3\",\n",
    "    \"Expert4\",\n",
    "    \"Expert5\",\n",
    "    \"Expert6\",\n",
    "    \"Expert7\",]\n",
    "accuracy = [96, 92, 90, 80, 83, 77, 82]\n",
    "avg_concept_used = [20, 20, 27, 20, 22, 37, 20]\n",
    "cov = [0.17, 0.17, 0.16, 0.15, 0.12, 0.19]\n",
    "fig = plt.figure()\n",
    "ax = fig.add_subplot(111)\n",
    "# increase space below subplot\n",
    "fig.subplots_adjust(bottom=0.3)\n",
    "ax.bar(class_list,\n",
    "   avg_concept_used,\n",
    "   width=0.8,\n",
    "    color=\"#6495ED\"\n",
    "   )\n",
    "# invert y axis\n",
    "ax.yaxis.set_major_locator(MaxNLocator(integer=True))\n",
    "# ax.set_ylim([0,  20])\n",
    "ax.invert_yaxis()\n",
    "ax.set_ylabel(\"Avg no. of concepts\")\n",
    "# label x axis\n",
    "# ax.set_xticks(range(len(df)))\n",
    "# ax.set_xticklabels(df['x_cat'],\n",
    "#                fontdict={'fontsize': 14})\n",
    "plt.tick_params(left = False, right = False , labelleft = True ,\n",
    "                labelbottom = False, bottom = False)\n",
    "for tick in ax.get_xticklabels():\n",
    "    tick.set_rotation(90)\n",
    "\n",
    "resolution_value = 300\n",
    "plt.savefig(os.path.join(plot_folder, \"expert_concept_top_down.png\"), format=\"png\", dpi=resolution_value)\n",
    "print(plot_folder)\n",
    "plt.show()\n"
   ]
  },
  {
   "cell_type": "code",
   "execution_count": 25,
   "metadata": {},
   "outputs": [
    {
     "name": "stdout",
     "output_type": "stream",
     "text": [
      "/ocean/projects/asc170022p/shg121/PhD/ICLR-2022/plot_cub\n"
     ]
    },
    {
     "data": {
      "image/png": "[encoded data removed]",
      "text/plain": [
       "<Figure size 432x288 with 1 Axes>"
      ]
     },
     "metadata": {
      "needs_background": "light"
     },
     "output_type": "display_data"
    },
    {
     "data": {
      "application/javascript": [
       "\n",
       "            setTimeout(function() {\n",
       "                var nbb_cell_id = 25;\n",
       "                var nbb_unformatted_code = \"import pandas as pd\\nimport matplotlib.pyplot as plt\\nfrom matplotlib.ticker import MaxNLocator\\n\\nfig = plt.figure()\\nax = fig.add_subplot(111)\\n# increase space below subplot\\nfig.subplots_adjust(bottom=0.3)\\nax.bar(class_list, avg_concept_used, width=0.8, color=\\\"#6495ED\\\")\\nax.yaxis.set_major_locator(MaxNLocator(integer=True))\\n# ax.set_yticklabels([3, 6, 9, 12, 15, 18, 21])\\n# ax.set_ylim([0,  20])\\n# ax.invert_yaxis()\\nax.set_ylabel(\\\"Avg no. of concepts\\\")\\nax.set_xlabel(\\\"Experts\\\")\\nax.set_xticks(range(len(class_list)))\\nax.set_xticklabels(class_list, fontdict={\\\"fontsize\\\": 8})\\n# plt.tick_params(left = False, right = False , labelleft = True ,\\n#                 labelbottom = False, bottom = False)\\nfor tick in ax.get_xticklabels():\\n    tick.set_rotation(15)\\n\\nresolution_value = 300\\nplt.savefig(\\n    os.path.join(plot_folder, \\\"expert_concept_botton_up.png\\\"),\\n    format=\\\"png\\\",\\n    dpi=resolution_value,\\n)\\nprint(plot_folder)\\nplt.show()\";\n",
       "                var nbb_formatted_code = \"import pandas as pd\\nimport matplotlib.pyplot as plt\\nfrom matplotlib.ticker import MaxNLocator\\n\\nfig = plt.figure()\\nax = fig.add_subplot(111)\\n# increase space below subplot\\nfig.subplots_adjust(bottom=0.3)\\nax.bar(class_list, avg_concept_used, width=0.8, color=\\\"#6495ED\\\")\\nax.yaxis.set_major_locator(MaxNLocator(integer=True))\\n# ax.set_yticklabels([3, 6, 9, 12, 15, 18, 21])\\n# ax.set_ylim([0,  20])\\n# ax.invert_yaxis()\\nax.set_ylabel(\\\"Avg no. of concepts\\\")\\nax.set_xlabel(\\\"Experts\\\")\\nax.set_xticks(range(len(class_list)))\\nax.set_xticklabels(class_list, fontdict={\\\"fontsize\\\": 8})\\n# plt.tick_params(left = False, right = False , labelleft = True ,\\n#                 labelbottom = False, bottom = False)\\nfor tick in ax.get_xticklabels():\\n    tick.set_rotation(15)\\n\\nresolution_value = 300\\nplt.savefig(\\n    os.path.join(plot_folder, \\\"expert_concept_botton_up.png\\\"),\\n    format=\\\"png\\\",\\n    dpi=resolution_value,\\n)\\nprint(plot_folder)\\nplt.show()\";\n",
       "                var nbb_cells = Jupyter.notebook.get_cells();\n",
       "                for (var i = 0; i < nbb_cells.length; ++i) {\n",
       "                    if (nbb_cells[i].input_prompt_number == nbb_cell_id) {\n",
       "                        if (nbb_cells[i].get_text() == nbb_unformatted_code) {\n",
       "                             nbb_cells[i].set_text(nbb_formatted_code);\n",
       "                        }\n",
       "                        break;\n",
       "                    }\n",
       "                }\n",
       "            }, 500);\n",
       "            "
      ],
      "text/plain": [
       "<IPython.core.display.Javascript object>"
      ]
     },
     "metadata": {},
     "output_type": "display_data"
    }
   ],
   "source": [
    "import pandas as pd\n",
    "import matplotlib.pyplot as plt\n",
    "from matplotlib.ticker import MaxNLocator\n",
    "\n",
    "fig = plt.figure()\n",
    "ax = fig.add_subplot(111)\n",
    "# increase space below subplot\n",
    "fig.subplots_adjust(bottom=0.3)\n",
    "ax.bar(class_list, avg_concept_used, width=0.8, color=\"#6495ED\")\n",
    "ax.yaxis.set_major_locator(MaxNLocator(integer=True))\n",
    "# ax.set_yticklabels([3, 6, 9, 12, 15, 18, 21])\n",
    "# ax.set_ylim([0,  20])\n",
    "# ax.invert_yaxis()\n",
    "ax.set_ylabel(\"Avg no. of concepts\")\n",
    "ax.set_xlabel(\"Experts\")\n",
    "ax.set_xticks(range(len(class_list)))\n",
    "ax.set_xticklabels(class_list, fontdict={\"fontsize\": 8})\n",
    "# plt.tick_params(left = False, right = False , labelleft = True ,\n",
    "#                 labelbottom = False, bottom = False)\n",
    "for tick in ax.get_xticklabels():\n",
    "    tick.set_rotation(15)\n",
    "\n",
    "resolution_value = 300\n",
    "plt.savefig(\n",
    "    os.path.join(plot_folder, \"expert_concept_botton_up.png\"),\n",
    "    format=\"png\",\n",
    "    dpi=resolution_value,\n",
    ")\n",
    "print(plot_folder)\n",
    "plt.show()"
   ]
  },
  {
   "cell_type": "code",
   "execution_count": 26,
   "metadata": {},
   "outputs": [
    {
     "name": "stdout",
     "output_type": "stream",
     "text": [
      "/ocean/projects/asc170022p/shg121/PhD/ICLR-2022/plot_cub\n"
     ]
    },
    {
     "data": {
      "image/png": "[encoded data removed]",
      "text/plain": [
       "<Figure size 432x288 with 1 Axes>"
      ]
     },
     "metadata": {
      "needs_background": "light"
     },
     "output_type": "display_data"
    },
    {
     "data": {
      "application/javascript": [
       "\n",
       "            setTimeout(function() {\n",
       "                var nbb_cell_id = 26;\n",
       "                var nbb_unformatted_code = \"import pandas as pd\\nimport matplotlib.pyplot as plt\\n\\n\\nfig = plt.figure()\\nax = fig.add_subplot(111)\\n# increase space below subplot\\nfig.subplots_adjust(bottom=0.3)\\nax.bar(class_list, accuracy, width=0.8, color=\\\"#6495ED\\\")\\n# invert y axis\\n# ax.set_yticklabels([0, 3, 6, 9, 12, 15, 18, 21])\\n# ax.set_ylim([0,  20])\\n# ax.invert_yaxis()\\nax.set_ylabel(\\\"Accuracy\\\")\\nax.set_xlabel(\\\"Experts\\\")\\n# label x axis\\nax.set_xticks(range(len(class_list)))\\nax.set_xticklabels(class_list, fontdict={\\\"fontsize\\\": 8})\\n# plt.tick_params(left = False, right = False , labelleft = True ,\\n#                 labelbottom = False, bottom = False)\\nfor tick in ax.get_xticklabels():\\n    tick.set_rotation(15)\\n\\nresolution_value = 300\\nplt.savefig(\\n    os.path.join(plot_folder, \\\"expert_acc_botton_up.png\\\"),\\n    format=\\\"png\\\",\\n    dpi=resolution_value,\\n)\\nprint(plot_folder)\\nplt.show()\";\n",
       "                var nbb_formatted_code = \"import pandas as pd\\nimport matplotlib.pyplot as plt\\n\\n\\nfig = plt.figure()\\nax = fig.add_subplot(111)\\n# increase space below subplot\\nfig.subplots_adjust(bottom=0.3)\\nax.bar(class_list, accuracy, width=0.8, color=\\\"#6495ED\\\")\\n# invert y axis\\n# ax.set_yticklabels([0, 3, 6, 9, 12, 15, 18, 21])\\n# ax.set_ylim([0,  20])\\n# ax.invert_yaxis()\\nax.set_ylabel(\\\"Accuracy\\\")\\nax.set_xlabel(\\\"Experts\\\")\\n# label x axis\\nax.set_xticks(range(len(class_list)))\\nax.set_xticklabels(class_list, fontdict={\\\"fontsize\\\": 8})\\n# plt.tick_params(left = False, right = False , labelleft = True ,\\n#                 labelbottom = False, bottom = False)\\nfor tick in ax.get_xticklabels():\\n    tick.set_rotation(15)\\n\\nresolution_value = 300\\nplt.savefig(\\n    os.path.join(plot_folder, \\\"expert_acc_botton_up.png\\\"),\\n    format=\\\"png\\\",\\n    dpi=resolution_value,\\n)\\nprint(plot_folder)\\nplt.show()\";\n",
       "                var nbb_cells = Jupyter.notebook.get_cells();\n",
       "                for (var i = 0; i < nbb_cells.length; ++i) {\n",
       "                    if (nbb_cells[i].input_prompt_number == nbb_cell_id) {\n",
       "                        if (nbb_cells[i].get_text() == nbb_unformatted_code) {\n",
       "                             nbb_cells[i].set_text(nbb_formatted_code);\n",
       "                        }\n",
       "                        break;\n",
       "                    }\n",
       "                }\n",
       "            }, 500);\n",
       "            "
      ],
      "text/plain": [
       "<IPython.core.display.Javascript object>"
      ]
     },
     "metadata": {},
     "output_type": "display_data"
    }
   ],
   "source": [
    "import pandas as pd\n",
    "import matplotlib.pyplot as plt\n",
    "\n",
    "\n",
    "fig = plt.figure()\n",
    "ax = fig.add_subplot(111)\n",
    "# increase space below subplot\n",
    "fig.subplots_adjust(bottom=0.3)\n",
    "ax.bar(class_list, accuracy, width=0.8, color=\"#6495ED\")\n",
    "# invert y axis\n",
    "# ax.set_yticklabels([0, 3, 6, 9, 12, 15, 18, 21])\n",
    "# ax.set_ylim([0,  20])\n",
    "# ax.invert_yaxis()\n",
    "ax.set_ylabel(\"Accuracy\")\n",
    "ax.set_xlabel(\"Experts\")\n",
    "# label x axis\n",
    "ax.set_xticks(range(len(class_list)))\n",
    "ax.set_xticklabels(class_list, fontdict={\"fontsize\": 8})\n",
    "# plt.tick_params(left = False, right = False , labelleft = True ,\n",
    "#                 labelbottom = False, bottom = False)\n",
    "for tick in ax.get_xticklabels():\n",
    "    tick.set_rotation(15)\n",
    "\n",
    "resolution_value = 300\n",
    "plt.savefig(\n",
    "    os.path.join(plot_folder, \"expert_acc_botton_up.png\"),\n",
    "    format=\"png\",\n",
    "    dpi=resolution_value,\n",
    ")\n",
    "print(plot_folder)\n",
    "plt.show()"
   ]
  },
  {
   "cell_type": "code",
   "execution_count": null,
   "metadata": {},
   "outputs": [],
   "source": []
  },
  {
   "cell_type": "code",
   "execution_count": null,
   "metadata": {},
   "outputs": [],
   "source": []
  },
  {
   "cell_type": "code",
   "execution_count": null,
   "metadata": {},
   "outputs": [],
   "source": []
  },
  {
   "cell_type": "code",
   "execution_count": null,
   "metadata": {},
   "outputs": [],
   "source": []
  },
  {
   "cell_type": "code",
   "execution_count": null,
   "metadata": {},
   "outputs": [],
   "source": []
  },
  {
   "cell_type": "code",
   "execution_count": null,
   "metadata": {},
   "outputs": [],
   "source": []
  },
  {
   "cell_type": "code",
   "execution_count": null,
   "metadata": {},
   "outputs": [],
   "source": []
  }
 ],
 "metadata": {
  "kernelspec": {
   "display_name": "python_3_7",
   "language": "python",
   "name": "python_3_7"
  },
  "language_info": {
   "codemirror_mode": {
    "name": "ipython",
    "version": 3
   },
   "file_extension": ".py",
   "mimetype": "text/x-python",
   "name": "python",
   "nbconvert_exporter": "python",
   "pygments_lexer": "ipython3",
   "version": "3.7.11"
  }
 },
 "nbformat": 4,
 "nbformat_minor": 4
}
