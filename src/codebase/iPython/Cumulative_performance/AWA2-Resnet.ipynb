{
 "cells": [
  {
   "cell_type": "code",
   "execution_count": 1,
   "metadata": {},
   "outputs": [
    {
     "data": {
      "application/javascript": [
       "\n",
       "            setTimeout(function() {\n",
       "                var nbb_cell_id = 1;\n",
       "                var nbb_unformatted_code = \"%load_ext nb_black\\n\\nimport os\\nimport sys\\n\\nsys.path.append(\\n    os.path.abspath(\\\"/ocean/projects/asc170022p/shg121/PhD/ICLR-2022/codebase\\\")\\n)\\nimport torch.backends.cudnn as cudnn\\nimport random\\nimport time\\nfrom collections import OrderedDict\\nimport pickle\\nimport numpy as np\\nimport pandas as pd\\nimport torch\\nimport torch.nn.functional as F\\nfrom torch.utils.data import DataLoader\\nfrom tqdm import tqdm\\nfrom torch.nn.functional import one_hot\\nimport sklearn.metrics as metrics\\nimport utils\\nfrom Explainer.loss_F import loss_fn_kd, entropy_loss\\nfrom Explainer.models.Gated_Logic_Net import Gated_Logic_Net\\nfrom Explainer.models.explainer import Explainer\\nfrom Explainer.models.pi import Pi\\nfrom dataset.dataset_cubs import Dataset_cub_for_explainer\\nfrom dataset.utils_dataset import get_dataset_with_image_and_attributes\\nfrom Explainer.loss_F import loss_fn_kd, entropy_loss, Selective_Distillation_Loss\\nfrom Explainer.models.concepts import Conceptizator\\nimport Plots.plot_for_paper as plot\\nimport matplotlib.pyplot as plt\";\n",
       "                var nbb_formatted_code = \"%load_ext nb_black\\n\\nimport os\\nimport sys\\n\\nsys.path.append(\\n    os.path.abspath(\\\"/ocean/projects/asc170022p/shg121/PhD/ICLR-2022/codebase\\\")\\n)\\nimport torch.backends.cudnn as cudnn\\nimport random\\nimport time\\nfrom collections import OrderedDict\\nimport pickle\\nimport numpy as np\\nimport pandas as pd\\nimport torch\\nimport torch.nn.functional as F\\nfrom torch.utils.data import DataLoader\\nfrom tqdm import tqdm\\nfrom torch.nn.functional import one_hot\\nimport sklearn.metrics as metrics\\nimport utils\\nfrom Explainer.loss_F import loss_fn_kd, entropy_loss\\nfrom Explainer.models.Gated_Logic_Net import Gated_Logic_Net\\nfrom Explainer.models.explainer import Explainer\\nfrom Explainer.models.pi import Pi\\nfrom dataset.dataset_cubs import Dataset_cub_for_explainer\\nfrom dataset.utils_dataset import get_dataset_with_image_and_attributes\\nfrom Explainer.loss_F import loss_fn_kd, entropy_loss, Selective_Distillation_Loss\\nfrom Explainer.models.concepts import Conceptizator\\nimport Plots.plot_for_paper as plot\\nimport matplotlib.pyplot as plt\";\n",
       "                var nbb_cells = Jupyter.notebook.get_cells();\n",
       "                for (var i = 0; i < nbb_cells.length; ++i) {\n",
       "                    if (nbb_cells[i].input_prompt_number == nbb_cell_id) {\n",
       "                        if (nbb_cells[i].get_text() == nbb_unformatted_code) {\n",
       "                             nbb_cells[i].set_text(nbb_formatted_code);\n",
       "                        }\n",
       "                        break;\n",
       "                    }\n",
       "                }\n",
       "            }, 500);\n",
       "            "
      ],
      "text/plain": [
       "<IPython.core.display.Javascript object>"
      ]
     },
     "metadata": {},
     "output_type": "display_data"
    }
   ],
   "source": [
    "%load_ext nb_black\n",
    "\n",
    "import os\n",
    "import sys\n",
    "\n",
    "sys.path.append(\n",
    "    os.path.abspath(\"/ocean/projects/asc170022p/shg121/PhD/ICLR-2022/codebase\")\n",
    ")\n",
    "import torch.backends.cudnn as cudnn\n",
    "import random\n",
    "import time\n",
    "from collections import OrderedDict\n",
    "import pickle\n",
    "import numpy as np\n",
    "import pandas as pd\n",
    "import torch\n",
    "import torch.nn.functional as F\n",
    "from torch.utils.data import DataLoader\n",
    "from tqdm import tqdm\n",
    "from torch.nn.functional import one_hot\n",
    "import sklearn.metrics as metrics\n",
    "import utils\n",
    "from Explainer.loss_F import loss_fn_kd, entropy_loss\n",
    "from Explainer.models.Gated_Logic_Net import Gated_Logic_Net\n",
    "from Explainer.models.explainer import Explainer\n",
    "from Explainer.models.pi import Pi\n",
    "from dataset.dataset_cubs import Dataset_cub_for_explainer\n",
    "from dataset.utils_dataset import get_dataset_with_image_and_attributes\n",
    "from Explainer.loss_F import loss_fn_kd, entropy_loss, Selective_Distillation_Loss\n",
    "from Explainer.models.concepts import Conceptizator\n",
    "import Plots.plot_for_paper as plot\n",
    "import matplotlib.pyplot as plt"
   ]
  },
  {
   "cell_type": "code",
   "execution_count": 2,
   "metadata": {},
   "outputs": [
    {
     "name": "stdout",
     "output_type": "stream",
     "text": [
      "Device: cuda\n"
     ]
    },
    {
     "data": {
      "application/javascript": [
       "\n",
       "            setTimeout(function() {\n",
       "                var nbb_cell_id = 2;\n",
       "                var nbb_unformatted_code = \"device = utils.get_device()\\nprint(f\\\"Device: {device}\\\")\";\n",
       "                var nbb_formatted_code = \"device = utils.get_device()\\nprint(f\\\"Device: {device}\\\")\";\n",
       "                var nbb_cells = Jupyter.notebook.get_cells();\n",
       "                for (var i = 0; i < nbb_cells.length; ++i) {\n",
       "                    if (nbb_cells[i].input_prompt_number == nbb_cell_id) {\n",
       "                        if (nbb_cells[i].get_text() == nbb_unformatted_code) {\n",
       "                             nbb_cells[i].set_text(nbb_formatted_code);\n",
       "                        }\n",
       "                        break;\n",
       "                    }\n",
       "                }\n",
       "            }, 500);\n",
       "            "
      ],
      "text/plain": [
       "<IPython.core.display.Javascript object>"
      ]
     },
     "metadata": {},
     "output_type": "display_data"
    }
   ],
   "source": [
    "device = utils.get_device()\n",
    "print(f\"Device: {device}\")"
   ]
  },
  {
   "cell_type": "code",
   "execution_count": null,
   "outputs": [],
   "source": [
    "lr = 0.001\n",
    "cov = 0.4\n",
    "pickle_in = open(\n",
    "    os.path.join(\n",
    "        f\"/ocean/projects/asc170022p/shg121/PhD/ICLR-2022/out/awa2/explainer/ResNet50/lr_{lr}_epochs_500_temperature-lens_0.7_use-concepts-as-pi-input_True_input-size-pi_2048_cov_{cov}_alpha_0.5_selection-threshold_0.5_lambda-lens_0.0001_alpha-KD_0.9_temperature-KD_10.0_hidden-layers_1_layer_layer4_explainer_init_none\",\n",
    "        \"cov_0.4_lr_0.001\",\n",
    "        \"iter3\",\n",
    "        \"explainer\",\n",
    "        \"test_explainer_configs.pkl\",\n",
    "    ),\n",
    "    \"rb\",\n",
    ")\n",
    "args = pickle.load(pickle_in)\n",
    "n_classes = len(args.labels)\n",
    "x_to_bool = 0.5\n",
    "top_k_explanations = 50\n",
    "concept_names = args.concept_names\n",
    "print(\"########################\")\n",
    "print(args.lr)\n",
    "print(args.cov)"
   ],
   "metadata": {
    "collapsed": false,
    "pycharm": {
     "name": "#%%\n"
    }
   }
  },
  {
   "cell_type": "code",
   "execution_count": null,
   "outputs": [],
   "source": [
    "print(args.arch)\n",
    "print(args.layer)\n",
    "\n",
    "print(args.checkpoint_model)\n",
    "print(args.checkpoint_residual)\n",
    "\n",
    "print(args.iter)"
   ],
   "metadata": {
    "collapsed": false,
    "pycharm": {
     "name": "#%%\n"
    }
   }
  },
  {
   "cell_type": "code",
   "execution_count": null,
   "outputs": [],
   "source": [
    "use_concepts_as_pi_input = True\n",
    "explainer_init = \"none\"\n",
    "cov = args.cov[0]\n",
    "experiment_folder = (\n",
    "    f\"lr_{args.lr[0]}_epochs_{args.epochs}_temperature-lens_{args.temperature_lens}\"\n",
    "    f\"_use-concepts-as-pi-input_{use_concepts_as_pi_input}_input-size-pi_{args.input_size_pi}\"\n",
    "    f\"_cov_{cov}_alpha_{args.alpha}_selection-threshold_{args.selection_threshold}\"\n",
    "    f\"_lambda-lens_{args.lambda_lens}_alpha-KD_{args.alpha_KD}\"\n",
    "    f\"_temperature-KD_{float(args.temperature_KD)}_hidden-layers_{len(args.hidden_nodes)}\"\n",
    "    f\"_layer_{args.layer}_explainer_init_{explainer_init if not args.explainer_init else args.explainer_init}\"\n",
    ")\n",
    "\n",
    "print(experiment_folder)"
   ],
   "metadata": {
    "collapsed": false,
    "pycharm": {
     "name": "#%%\n"
    }
   }
  },
  {
   "cell_type": "code",
   "execution_count": null,
   "outputs": [],
   "source": [
    "lr = 0.001\n",
    "cov = 0.4\n",
    "pickle_in = open(\n",
    "    os.path.join(\n",
    "        f\"/ocean/projects/asc170022p/shg121/PhD/ICLR-2022/out/awa2/explainer/ResNet101/lr_{lr}_epochs_500_temperature-lens_0.7_use-concepts-as-pi-input_True_input-size-pi_2048_cov_{cov}_alpha_0.5_selection-threshold_0.5_lambda-lens_0.0001_alpha-KD_0.9_temperature-KD_10.0_hidden-layers_1_layer_layer4_explainer_init_none\",\n",
    "        \"iter1\",\n",
    "        \"explainer\",\n",
    "        \"test_explainer_configs.pkl\",\n",
    "    ),\n",
    "    \"rb\",\n",
    ")\n",
    "args = pickle.load(pickle_in)\n",
    "n_classes = len(args.labels)\n",
    "x_to_bool = 0.5\n",
    "top_k_explanations = 50\n",
    "concept_names = args.concept_names\n",
    "print(\"########################\")\n",
    "print(args.lr)\n",
    "print(args.cov)\n",
    "\n",
    "use_concepts_as_pi_input = True\n",
    "explainer_init = \"none\"\n",
    "\n",
    "experiment_folder = (\n",
    "    f\"lr_{args.lr[0]}_epochs_{args.epochs}_temperature-lens_{args.temperature_lens}\"\n",
    "    f\"_use-concepts-as-pi-input_{use_concepts_as_pi_input}_input-size-pi_{args.input_size_pi}\"\n",
    "    f\"_cov_{args.cov[0]}_alpha_{args.alpha}_selection-threshold_{args.selection_threshold}\"\n",
    "    f\"_lambda-lens_{args.lambda_lens}_alpha-KD_{args.alpha_KD}\"\n",
    "    f\"_temperature-KD_{float(args.temperature_KD)}_hidden-layers_{len(args.hidden_nodes)}\"\n",
    "    f\"_layer_{args.layer}_explainer_init_{explainer_init if not args.explainer_init else args.explainer_init}\"\n",
    ")\n",
    "\n",
    "root = \"/ocean/projects/asc170022p/shg121/PhD/ICLR-2022/out/awa2/\"\n",
    "experiment = f\"explainer/ResNet101/{experiment_folder}\"\n",
    "iteration = \"iter1\"\n",
    "expert_type = \"explainer\"\n",
    "output = \"g_outputs\"\n",
    "\n",
    "\n",
    "test_tensor_preds_1 = torch.load(\n",
    "    os.path.join(\n",
    "        root, experiment, iteration, expert_type, output, \"test_tensor_preds.pt\"\n",
    "    )\n",
    ")\n",
    "\n",
    "test_tensor_preds_bb_1 = torch.load(\n",
    "    os.path.join(\n",
    "        root, experiment, iteration, expert_type, output, \"test_tensor_preds_bb.pt\"\n",
    "    )\n",
    ")\n",
    "\n",
    "test_tensor_y_1 = torch.load(\n",
    "    os.path.join(root, experiment, iteration, expert_type, output, \"test_tensor_y.pt\")\n",
    ")\n",
    "\n",
    "\n",
    "print(\"\\n\\n << Test sizes >>\")\n",
    "print(test_tensor_preds_1.size())\n",
    "print(test_tensor_preds_bb_1.size())\n",
    "print(test_tensor_y_1.size())"
   ],
   "metadata": {
    "collapsed": false,
    "pycharm": {
     "name": "#%%\n"
    }
   }
  },
  {
   "cell_type": "code",
   "execution_count": null,
   "outputs": [],
   "source": [
    "base_lr = 0.001\n",
    "base_cov = 0.4\n",
    "pickle_in = open(\n",
    "    os.path.join(\n",
    "        f\"/ocean/projects/asc170022p/shg121/PhD/ICLR-2022/out/awa2/explainer/ResNet101/lr_{base_lr}_epochs_500_temperature-lens_0.7_use-concepts-as-pi-input_True_input-size-pi_2048_cov_{base_cov}_alpha_0.5_selection-threshold_0.5_lambda-lens_0.0001_alpha-KD_0.9_temperature-KD_10.0_hidden-layers_1_layer_layer4_explainer_init_none\",\n",
    "        \"cov_0.4_lr_0.001\",\n",
    "        \"iter2\",\n",
    "        \"explainer\",\n",
    "        \"test_explainer_configs.pkl\",\n",
    "    ),\n",
    "    \"rb\",\n",
    ")\n",
    "args = pickle.load(pickle_in)\n",
    "n_classes = len(args.labels)\n",
    "x_to_bool = 0.5\n",
    "top_k_explanations = 50\n",
    "concept_names = args.concept_names\n",
    "print(\"########################\")\n",
    "print(args.lr[-1])\n",
    "print(args.cov[-1])\n",
    "\n",
    "use_concepts_as_pi_input = True\n",
    "explainer_init = \"none\"\n",
    "\n",
    "experiment_folder = (\n",
    "    f\"lr_{args.lr[0]}_epochs_{args.epochs}_temperature-lens_{args.temperature_lens}\"\n",
    "    f\"_use-concepts-as-pi-input_{use_concepts_as_pi_input}_input-size-pi_{args.input_size_pi}\"\n",
    "    f\"_cov_{args.cov[0]}_alpha_{args.alpha}_selection-threshold_{args.selection_threshold}\"\n",
    "    f\"_lambda-lens_{args.lambda_lens}_alpha-KD_{args.alpha_KD}\"\n",
    "    f\"_temperature-KD_{float(args.temperature_KD)}_hidden-layers_{len(args.hidden_nodes)}\"\n",
    "    f\"_layer_{args.layer}_explainer_init_{explainer_init if not args.explainer_init else args.explainer_init}\"\n",
    ")\n",
    "\n",
    "root = \"/ocean/projects/asc170022p/shg121/PhD/ICLR-2022/out/awa2/\"\n",
    "experiment = f\"explainer/ResNet101/{experiment_folder}\"\n",
    "iteration = \"iter2\"\n",
    "expert_type = \"explainer\"\n",
    "output = \"g_outputs\"\n",
    "\n",
    "\n",
    "test_tensor_preds_2 = torch.load(\n",
    "    os.path.join(\n",
    "        root,\n",
    "        experiment,\n",
    "        \"cov_0.4_lr_0.001\",\n",
    "        iteration,\n",
    "        expert_type,\n",
    "        output,\n",
    "        \"test_tensor_preds.pt\",\n",
    "    )\n",
    ")\n",
    "\n",
    "test_tensor_preds_bb_2 = torch.load(\n",
    "    os.path.join(\n",
    "        root,\n",
    "        experiment,\n",
    "        \"cov_0.4_lr_0.001\",\n",
    "        iteration,\n",
    "        expert_type,\n",
    "        output,\n",
    "        \"test_tensor_preds_bb.pt\",\n",
    "    )\n",
    ")\n",
    "\n",
    "test_tensor_y_2 = torch.load(\n",
    "    os.path.join(\n",
    "        root,\n",
    "        experiment,\n",
    "        \"cov_0.4_lr_0.001\",\n",
    "        iteration,\n",
    "        expert_type,\n",
    "        output,\n",
    "        \"test_tensor_y.pt\",\n",
    "    )\n",
    ")\n",
    "\n",
    "\n",
    "print(\"\\n\\n << Test sizes >>\")\n",
    "print(test_tensor_preds_2.size())\n",
    "print(test_tensor_preds_bb_2.size())\n",
    "print(test_tensor_y_2.size())\n"
   ],
   "metadata": {
    "collapsed": false,
    "pycharm": {
     "name": "#%%\n"
    }
   }
  },
  {
   "cell_type": "code",
   "execution_count": null,
   "outputs": [],
   "source": [
    "base_lr = 0.001\n",
    "base_cov = 0.4\n",
    "pickle_in = open(\n",
    "    os.path.join(\n",
    "        f\"/ocean/projects/asc170022p/shg121/PhD/ICLR-2022/out/awa2/explainer/ResNet101/lr_{base_lr}_epochs_500_temperature-lens_0.7_use-concepts-as-pi-input_True_input-size-pi_2048_cov_{base_cov}_alpha_0.5_selection-threshold_0.5_lambda-lens_0.0001_alpha-KD_0.9_temperature-KD_10.0_hidden-layers_1_layer_layer4_explainer_init_none\",\n",
    "        \"cov_0.4_lr_0.001\",\n",
    "        \"iter3\",\n",
    "        \"explainer\",\n",
    "        \"test_explainer_configs.pkl\",\n",
    "    ),\n",
    "    \"rb\",\n",
    ")\n",
    "args = pickle.load(pickle_in)\n",
    "n_classes = len(args.labels)\n",
    "x_to_bool = 0.5\n",
    "top_k_explanations = 50\n",
    "concept_names = args.concept_names\n",
    "print(\"########################\")\n",
    "print(args.lr[-1])\n",
    "print(args.cov[-1])\n",
    "\n",
    "use_concepts_as_pi_input = True\n",
    "explainer_init = \"none\"\n",
    "\n",
    "experiment_folder = (\n",
    "    f\"lr_{args.lr[0]}_epochs_{args.epochs}_temperature-lens_{args.temperature_lens}\"\n",
    "    f\"_use-concepts-as-pi-input_{use_concepts_as_pi_input}_input-size-pi_{args.input_size_pi}\"\n",
    "    f\"_cov_{args.cov[0]}_alpha_{args.alpha}_selection-threshold_{args.selection_threshold}\"\n",
    "    f\"_lambda-lens_{args.lambda_lens}_alpha-KD_{args.alpha_KD}\"\n",
    "    f\"_temperature-KD_{float(args.temperature_KD)}_hidden-layers_{len(args.hidden_nodes)}\"\n",
    "    f\"_layer_{args.layer}_explainer_init_{explainer_init if not args.explainer_init else args.explainer_init}\"\n",
    ")\n",
    "\n",
    "root = \"/ocean/projects/asc170022p/shg121/PhD/ICLR-2022/out/awa2/\"\n",
    "experiment = f\"explainer/ResNet101/{experiment_folder}\"\n",
    "iteration = \"iter3\"\n",
    "expert_type = \"explainer\"\n",
    "output = \"g_outputs\"\n",
    "\n",
    "\n",
    "test_tensor_preds_3 = torch.load(\n",
    "    os.path.join(\n",
    "        root,\n",
    "        experiment,\n",
    "        \"cov_0.4_lr_0.001\",\n",
    "        iteration,\n",
    "        expert_type,\n",
    "        output,\n",
    "        \"test_tensor_preds.pt\",\n",
    "    )\n",
    ")\n",
    "\n",
    "test_tensor_preds_bb_3 = torch.load(\n",
    "    os.path.join(\n",
    "        root,\n",
    "        experiment,\n",
    "        \"cov_0.4_lr_0.001\",\n",
    "        iteration,\n",
    "        expert_type,\n",
    "        output,\n",
    "        \"test_tensor_preds_bb.pt\",\n",
    "    )\n",
    ")\n",
    "\n",
    "test_tensor_y_3 = torch.load(\n",
    "    os.path.join(\n",
    "        root,\n",
    "        experiment,\n",
    "        \"cov_0.4_lr_0.001\",\n",
    "        iteration,\n",
    "        expert_type,\n",
    "        output,\n",
    "        \"test_tensor_y.pt\",\n",
    "    )\n",
    ")\n",
    "\n",
    "\n",
    "print(\"\\n\\n << Test sizes >>\")\n",
    "print(test_tensor_preds_3.size())\n",
    "print(test_tensor_preds_bb_3.size())\n",
    "print(test_tensor_y_3.size())\n"
   ],
   "metadata": {
    "collapsed": false,
    "pycharm": {
     "name": "#%%\n"
    }
   }
  },
  {
   "cell_type": "code",
   "execution_count": 9,
   "metadata": {},
   "outputs": [
    {
     "name": "stdout",
     "output_type": "stream",
     "text": [
      "########################\n",
      "0.001\n",
      "0.4\n",
      "\n",
      "\n",
      " << Test sizes >>\n",
      "torch.Size([643, 50])\n",
      "torch.Size([643, 50])\n",
      "torch.Size([643])\n"
     ]
    },
    {
     "data": {
      "application/javascript": [
       "\n",
       "            setTimeout(function() {\n",
       "                var nbb_cell_id = 9;\n",
       "                var nbb_unformatted_code = \"base_lr = 0.001\\nbase_cov = 0.4\\npickle_in = open(\\n    os.path.join(\\n        f\\\"/ocean/projects/asc170022p/shg121/PhD/ICLR-2022/out/awa2/explainer/ResNet50/lr_{base_lr}_epochs_500_temperature-lens_0.7_use-concepts-as-pi-input_True_input-size-pi_2048_cov_{base_cov}_alpha_0.5_selection-threshold_0.5_lambda-lens_0.0001_alpha-KD_0.9_temperature-KD_10.0_hidden-layers_1_layer_layer4_explainer_init_none\\\",\\n        \\\"cov_0.4_lr_0.001\\\",\\n        \\\"iter4\\\",\\n        \\\"explainer\\\",\\n        \\\"test_explainer_configs.pkl\\\",\\n    ),\\n    \\\"rb\\\",\\n)\\nargs = pickle.load(pickle_in)\\nn_classes = len(args.labels)\\nx_to_bool = 0.5\\ntop_k_explanations = 50\\nconcept_names = args.concept_names\\nprint(\\\"########################\\\")\\nprint(args.lr[-1])\\nprint(args.cov[-1])\\n\\nuse_concepts_as_pi_input = True\\nexplainer_init = \\\"none\\\"\\n\\nexperiment_folder = (\\n    f\\\"lr_{args.lr[0]}_epochs_{args.epochs}_temperature-lens_{args.temperature_lens}\\\"\\n    f\\\"_use-concepts-as-pi-input_{use_concepts_as_pi_input}_input-size-pi_{args.input_size_pi}\\\"\\n    f\\\"_cov_{args.cov[0]}_alpha_{args.alpha}_selection-threshold_{args.selection_threshold}\\\"\\n    f\\\"_lambda-lens_{args.lambda_lens}_alpha-KD_{args.alpha_KD}\\\"\\n    f\\\"_temperature-KD_{float(args.temperature_KD)}_hidden-layers_{len(args.hidden_nodes)}\\\"\\n    f\\\"_layer_{args.layer}_explainer_init_{explainer_init if not args.explainer_init else args.explainer_init}\\\"\\n)\\n\\nroot = \\\"/ocean/projects/asc170022p/shg121/PhD/ICLR-2022/out/awa2/\\\"\\nexperiment = f\\\"explainer/ResNet50/{experiment_folder}\\\"\\niteration = \\\"iter4\\\"\\nexpert_type = \\\"explainer\\\"\\noutput = \\\"g_outputs\\\"\\n\\n\\ntest_tensor_preds_4 = torch.load(\\n    os.path.join(\\n        root,\\n        experiment,\\n        \\\"cov_0.4_lr_0.001\\\",\\n        iteration,\\n        expert_type,\\n        output,\\n        \\\"test_tensor_preds.pt\\\",\\n    )\\n)\\n\\ntest_tensor_preds_bb_4 = torch.load(\\n    os.path.join(\\n        root,\\n        experiment,\\n        \\\"cov_0.4_lr_0.001\\\",\\n        iteration,\\n        expert_type,\\n        output,\\n        \\\"test_tensor_preds_bb.pt\\\",\\n    )\\n)\\n\\ntest_tensor_y_4 = torch.load(\\n    os.path.join(\\n        root,\\n        experiment,\\n        \\\"cov_0.4_lr_0.001\\\",\\n        iteration,\\n        expert_type,\\n        output,\\n        \\\"test_tensor_y.pt\\\",\\n    )\\n)\\n\\n\\nprint(\\\"\\\\n\\\\n << Test sizes >>\\\")\\nprint(test_tensor_preds_4.size())\\nprint(test_tensor_preds_bb_4.size())\\nprint(test_tensor_y_4.size())\";\n",
       "                var nbb_formatted_code = \"base_lr = 0.001\\nbase_cov = 0.4\\npickle_in = open(\\n    os.path.join(\\n        f\\\"/ocean/projects/asc170022p/shg121/PhD/ICLR-2022/out/awa2/explainer/ResNet50/lr_{base_lr}_epochs_500_temperature-lens_0.7_use-concepts-as-pi-input_True_input-size-pi_2048_cov_{base_cov}_alpha_0.5_selection-threshold_0.5_lambda-lens_0.0001_alpha-KD_0.9_temperature-KD_10.0_hidden-layers_1_layer_layer4_explainer_init_none\\\",\\n        \\\"cov_0.4_lr_0.001\\\",\\n        \\\"iter4\\\",\\n        \\\"explainer\\\",\\n        \\\"test_explainer_configs.pkl\\\",\\n    ),\\n    \\\"rb\\\",\\n)\\nargs = pickle.load(pickle_in)\\nn_classes = len(args.labels)\\nx_to_bool = 0.5\\ntop_k_explanations = 50\\nconcept_names = args.concept_names\\nprint(\\\"########################\\\")\\nprint(args.lr[-1])\\nprint(args.cov[-1])\\n\\nuse_concepts_as_pi_input = True\\nexplainer_init = \\\"none\\\"\\n\\nexperiment_folder = (\\n    f\\\"lr_{args.lr[0]}_epochs_{args.epochs}_temperature-lens_{args.temperature_lens}\\\"\\n    f\\\"_use-concepts-as-pi-input_{use_concepts_as_pi_input}_input-size-pi_{args.input_size_pi}\\\"\\n    f\\\"_cov_{args.cov[0]}_alpha_{args.alpha}_selection-threshold_{args.selection_threshold}\\\"\\n    f\\\"_lambda-lens_{args.lambda_lens}_alpha-KD_{args.alpha_KD}\\\"\\n    f\\\"_temperature-KD_{float(args.temperature_KD)}_hidden-layers_{len(args.hidden_nodes)}\\\"\\n    f\\\"_layer_{args.layer}_explainer_init_{explainer_init if not args.explainer_init else args.explainer_init}\\\"\\n)\\n\\nroot = \\\"/ocean/projects/asc170022p/shg121/PhD/ICLR-2022/out/awa2/\\\"\\nexperiment = f\\\"explainer/ResNet50/{experiment_folder}\\\"\\niteration = \\\"iter4\\\"\\nexpert_type = \\\"explainer\\\"\\noutput = \\\"g_outputs\\\"\\n\\n\\ntest_tensor_preds_4 = torch.load(\\n    os.path.join(\\n        root,\\n        experiment,\\n        \\\"cov_0.4_lr_0.001\\\",\\n        iteration,\\n        expert_type,\\n        output,\\n        \\\"test_tensor_preds.pt\\\",\\n    )\\n)\\n\\ntest_tensor_preds_bb_4 = torch.load(\\n    os.path.join(\\n        root,\\n        experiment,\\n        \\\"cov_0.4_lr_0.001\\\",\\n        iteration,\\n        expert_type,\\n        output,\\n        \\\"test_tensor_preds_bb.pt\\\",\\n    )\\n)\\n\\ntest_tensor_y_4 = torch.load(\\n    os.path.join(\\n        root,\\n        experiment,\\n        \\\"cov_0.4_lr_0.001\\\",\\n        iteration,\\n        expert_type,\\n        output,\\n        \\\"test_tensor_y.pt\\\",\\n    )\\n)\\n\\n\\nprint(\\\"\\\\n\\\\n << Test sizes >>\\\")\\nprint(test_tensor_preds_4.size())\\nprint(test_tensor_preds_bb_4.size())\\nprint(test_tensor_y_4.size())\";\n",
       "                var nbb_cells = Jupyter.notebook.get_cells();\n",
       "                for (var i = 0; i < nbb_cells.length; ++i) {\n",
       "                    if (nbb_cells[i].input_prompt_number == nbb_cell_id) {\n",
       "                        if (nbb_cells[i].get_text() == nbb_unformatted_code) {\n",
       "                             nbb_cells[i].set_text(nbb_formatted_code);\n",
       "                        }\n",
       "                        break;\n",
       "                    }\n",
       "                }\n",
       "            }, 500);\n",
       "            "
      ],
      "text/plain": [
       "<IPython.core.display.Javascript object>"
      ]
     },
     "metadata": {},
     "output_type": "display_data"
    }
   ],
   "source": [
    "base_lr = 0.001\n",
    "base_cov = 0.4\n",
    "pickle_in = open(\n",
    "    os.path.join(\n",
    "        f\"/ocean/projects/asc170022p/shg121/PhD/ICLR-2022/out/awa2/explainer/ResNet101/lr_{base_lr}_epochs_500_temperature-lens_0.7_use-concepts-as-pi-input_True_input-size-pi_2048_cov_{base_cov}_alpha_0.5_selection-threshold_0.5_lambda-lens_0.0001_alpha-KD_0.9_temperature-KD_10.0_hidden-layers_1_layer_layer4_explainer_init_none\",\n",
    "        \"cov_0.4_lr_0.001\",\n",
    "        \"iter4\",\n",
    "        \"explainer\",\n",
    "        \"test_explainer_configs.pkl\",\n",
    "    ),\n",
    "    \"rb\",\n",
    ")\n",
    "args = pickle.load(pickle_in)\n",
    "n_classes = len(args.labels)\n",
    "x_to_bool = 0.5\n",
    "top_k_explanations = 50\n",
    "concept_names = args.concept_names\n",
    "print(\"########################\")\n",
    "print(args.lr[-1])\n",
    "print(args.cov[-1])\n",
    "\n",
    "use_concepts_as_pi_input = True\n",
    "explainer_init = \"none\"\n",
    "\n",
    "experiment_folder = (\n",
    "    f\"lr_{args.lr[0]}_epochs_{args.epochs}_temperature-lens_{args.temperature_lens}\"\n",
    "    f\"_use-concepts-as-pi-input_{use_concepts_as_pi_input}_input-size-pi_{args.input_size_pi}\"\n",
    "    f\"_cov_{args.cov[0]}_alpha_{args.alpha}_selection-threshold_{args.selection_threshold}\"\n",
    "    f\"_lambda-lens_{args.lambda_lens}_alpha-KD_{args.alpha_KD}\"\n",
    "    f\"_temperature-KD_{float(args.temperature_KD)}_hidden-layers_{len(args.hidden_nodes)}\"\n",
    "    f\"_layer_{args.layer}_explainer_init_{explainer_init if not args.explainer_init else args.explainer_init}\"\n",
    ")\n",
    "\n",
    "root = \"/ocean/projects/asc170022p/shg121/PhD/ICLR-2022/out/awa2/\"\n",
    "experiment = f\"explainer/ResNet101/{experiment_folder}\"\n",
    "iteration = \"iter4\"\n",
    "expert_type = \"explainer\"\n",
    "output = \"g_outputs\"\n",
    "\n",
    "\n",
    "test_tensor_preds_4 = torch.load(\n",
    "    os.path.join(\n",
    "        root,\n",
    "        experiment,\n",
    "        \"cov_0.4_lr_0.001\",\n",
    "        iteration,\n",
    "        expert_type,\n",
    "        output,\n",
    "        \"test_tensor_preds.pt\",\n",
    "    )\n",
    ")\n",
    "\n",
    "test_tensor_preds_bb_4 = torch.load(\n",
    "    os.path.join(\n",
    "        root,\n",
    "        experiment,\n",
    "        \"cov_0.4_lr_0.001\",\n",
    "        iteration,\n",
    "        expert_type,\n",
    "        output,\n",
    "        \"test_tensor_preds_bb.pt\",\n",
    "    )\n",
    ")\n",
    "\n",
    "test_tensor_y_4 = torch.load(\n",
    "    os.path.join(\n",
    "        root,\n",
    "        experiment,\n",
    "        \"cov_0.4_lr_0.001\",\n",
    "        iteration,\n",
    "        expert_type,\n",
    "        output,\n",
    "        \"test_tensor_y.pt\",\n",
    "    )\n",
    ")\n",
    "\n",
    "\n",
    "print(\"\\n\\n << Test sizes >>\")\n",
    "print(test_tensor_preds_4.size())\n",
    "print(test_tensor_preds_bb_4.size())\n",
    "print(test_tensor_y_4.size())\n"
   ]
  },
  {
   "cell_type": "code",
   "execution_count": 10,
   "metadata": {},
   "outputs": [
    {
     "data": {
      "application/javascript": [
       "\n",
       "            setTimeout(function() {\n",
       "                var nbb_cell_id = 10;\n",
       "                var nbb_unformatted_code = \"expert_type = \\\"explainer\\\"\\noutput = \\\"g_outputs\\\"\\n\\npreds = torch.cat((test_tensor_preds_1, test_tensor_preds_2, test_tensor_preds_3, \\n                   test_tensor_preds_4, \\n#                    test_tensor_preds_5, test_tensor_preds_6, \\n#                    test_tensor_preds_7,  \\n#                    test_tensor_preds_8\\n                  ), dim=0)\\ngt = torch.cat((\\n    test_tensor_y_1, test_tensor_y_2, test_tensor_y_3 ,\\n    test_tensor_y_4, \\n#     test_tensor_y_5, test_tensor_y_6,\\n#                test_tensor_y_7, \\n#     test_tensor_y_8\\n               ),\\n               dim=0)\\nbb = torch.cat((\\n    test_tensor_preds_bb_1.cpu(), test_tensor_preds_bb_2.cpu(), test_tensor_preds_bb_3.cpu(),\\n    test_tensor_preds_bb_4.cpu(), \\n#     test_tensor_preds_bb_5.cpu(), test_tensor_preds_bb_6.cpu(), \\n#     test_tensor_preds_bb_7.cpu(),\\n#     test_tensor_preds_bb_8.cpu()\\n), \\n               dim=0)\";\n",
       "                var nbb_formatted_code = \"expert_type = \\\"explainer\\\"\\noutput = \\\"g_outputs\\\"\\n\\npreds = torch.cat(\\n    (\\n        test_tensor_preds_1,\\n        test_tensor_preds_2,\\n        test_tensor_preds_3,\\n        test_tensor_preds_4,\\n        #                    test_tensor_preds_5, test_tensor_preds_6,\\n        #                    test_tensor_preds_7,\\n        #                    test_tensor_preds_8\\n    ),\\n    dim=0,\\n)\\ngt = torch.cat(\\n    (\\n        test_tensor_y_1,\\n        test_tensor_y_2,\\n        test_tensor_y_3,\\n        test_tensor_y_4,\\n        #     test_tensor_y_5, test_tensor_y_6,\\n        #                test_tensor_y_7,\\n        #     test_tensor_y_8\\n    ),\\n    dim=0,\\n)\\nbb = torch.cat(\\n    (\\n        test_tensor_preds_bb_1.cpu(),\\n        test_tensor_preds_bb_2.cpu(),\\n        test_tensor_preds_bb_3.cpu(),\\n        test_tensor_preds_bb_4.cpu(),\\n        #     test_tensor_preds_bb_5.cpu(), test_tensor_preds_bb_6.cpu(),\\n        #     test_tensor_preds_bb_7.cpu(),\\n        #     test_tensor_preds_bb_8.cpu()\\n    ),\\n    dim=0,\\n)\";\n",
       "                var nbb_cells = Jupyter.notebook.get_cells();\n",
       "                for (var i = 0; i < nbb_cells.length; ++i) {\n",
       "                    if (nbb_cells[i].input_prompt_number == nbb_cell_id) {\n",
       "                        if (nbb_cells[i].get_text() == nbb_unformatted_code) {\n",
       "                             nbb_cells[i].set_text(nbb_formatted_code);\n",
       "                        }\n",
       "                        break;\n",
       "                    }\n",
       "                }\n",
       "            }, 500);\n",
       "            "
      ],
      "text/plain": [
       "<IPython.core.display.Javascript object>"
      ]
     },
     "metadata": {},
     "output_type": "display_data"
    }
   ],
   "source": [
    "expert_type = \"explainer\"\n",
    "output = \"g_outputs\"\n",
    "\n",
    "preds = torch.cat((test_tensor_preds_1, test_tensor_preds_2, test_tensor_preds_3, \n",
    "                   test_tensor_preds_4, \n",
    "#                    test_tensor_preds_5, test_tensor_preds_6, \n",
    "#                    test_tensor_preds_7,  \n",
    "#                    test_tensor_preds_8\n",
    "                  ), dim=0)\n",
    "gt = torch.cat((\n",
    "    test_tensor_y_1, test_tensor_y_2, test_tensor_y_3 ,\n",
    "    test_tensor_y_4, \n",
    "#     test_tensor_y_5, test_tensor_y_6,\n",
    "#                test_tensor_y_7, \n",
    "#     test_tensor_y_8\n",
    "               ),\n",
    "               dim=0)\n",
    "bb = torch.cat((\n",
    "    test_tensor_preds_bb_1.cpu(), test_tensor_preds_bb_2.cpu(), test_tensor_preds_bb_3.cpu(),\n",
    "    test_tensor_preds_bb_4.cpu(), \n",
    "#     test_tensor_preds_bb_5.cpu(), test_tensor_preds_bb_6.cpu(), \n",
    "#     test_tensor_preds_bb_7.cpu(),\n",
    "#     test_tensor_preds_bb_8.cpu()\n",
    "), \n",
    "               dim=0)\n"
   ]
  },
  {
   "cell_type": "code",
   "execution_count": 11,
   "metadata": {},
   "outputs": [
    {
     "data": {
      "text/plain": [
       "(tensor(0.8539), torch.Size([6634]))"
      ]
     },
     "execution_count": 11,
     "metadata": {},
     "output_type": "execute_result"
    },
    {
     "data": {
      "application/javascript": [
       "\n",
       "            setTimeout(function() {\n",
       "                var nbb_cell_id = 11;\n",
       "                var nbb_unformatted_code = \"torch.sum(preds.argmax(dim=1) == gt) / gt.size(0), gt.size()\";\n",
       "                var nbb_formatted_code = \"torch.sum(preds.argmax(dim=1) == gt) / gt.size(0), gt.size()\";\n",
       "                var nbb_cells = Jupyter.notebook.get_cells();\n",
       "                for (var i = 0; i < nbb_cells.length; ++i) {\n",
       "                    if (nbb_cells[i].input_prompt_number == nbb_cell_id) {\n",
       "                        if (nbb_cells[i].get_text() == nbb_unformatted_code) {\n",
       "                             nbb_cells[i].set_text(nbb_formatted_code);\n",
       "                        }\n",
       "                        break;\n",
       "                    }\n",
       "                }\n",
       "            }, 500);\n",
       "            "
      ],
      "text/plain": [
       "<IPython.core.display.Javascript object>"
      ]
     },
     "metadata": {},
     "output_type": "display_data"
    }
   ],
   "source": [
    "torch.sum(preds.argmax(dim=1) == gt) / gt.size(0), gt.size()"
   ]
  },
  {
   "cell_type": "code",
   "execution_count": 12,
   "metadata": {},
   "outputs": [
    {
     "name": "stdout",
     "output_type": "stream",
     "text": [
      "g_tot_acc: 85.39342779620138 (%)\n",
      "bb_tot_acc: 91.82996683750378 (%)\n",
      "g_tot_f1: 85.39342779620138 (%)\n",
      "g_tot_precision: 85.39342779620138 (%)\n",
      "g_tot_recall: 85.39342779620138 (%)\n",
      "bb_tot_recall: 91.82996683750378 (%)\n",
      "total samples covered by g: 6634 (out of 7465)\n",
      "total coverage by g: 0.8886805090421969\n"
     ]
    },
    {
     "data": {
      "application/javascript": [
       "\n",
       "            setTimeout(function() {\n",
       "                var nbb_cell_id = 12;\n",
       "                var nbb_unformatted_code = \"preds_tot_np = preds.argmax(dim=1).numpy()\\ngt_tot_np = gt.numpy()\\nbb_tot_np = bb.argmax(dim=1).numpy()\\nbb_tot_acc = metrics.accuracy_score(gt_tot_np, bb_tot_np)\\ng_tot_acc = metrics.accuracy_score(gt_tot_np, preds_tot_np)\\ng_tot_f1 = metrics.f1_score(gt_tot_np, preds_tot_np, average=\\\"micro\\\")\\ng_tot_precision = metrics.precision_score(gt_tot_np, preds_tot_np, average=\\\"micro\\\")\\ng_tot_recall = metrics.recall_score(gt_tot_np, preds_tot_np, average=\\\"micro\\\")\\nbb_tot_recall = metrics.recall_score(gt_tot_np, bb_tot_np, average=\\\"micro\\\")\\ng_tot_cov = preds.size(0) / 7465\\n\\n\\nprint(f\\\"g_tot_acc: {g_tot_acc * 100} (%)\\\")\\nprint(f\\\"bb_tot_acc: {bb_tot_acc * 100} (%)\\\")\\nprint(f\\\"g_tot_f1: {g_tot_f1 * 100} (%)\\\")\\nprint(f\\\"g_tot_precision: {g_tot_precision * 100} (%)\\\")\\nprint(f\\\"g_tot_recall: {g_tot_recall * 100} (%)\\\")\\nprint(f\\\"bb_tot_recall: {bb_tot_recall * 100} (%)\\\")\\nprint(f\\\"total samples covered by g: {preds.size(0)} (out of {7465})\\\")\\nprint(f\\\"total coverage by g: {g_tot_cov}\\\")\";\n",
       "                var nbb_formatted_code = \"preds_tot_np = preds.argmax(dim=1).numpy()\\ngt_tot_np = gt.numpy()\\nbb_tot_np = bb.argmax(dim=1).numpy()\\nbb_tot_acc = metrics.accuracy_score(gt_tot_np, bb_tot_np)\\ng_tot_acc = metrics.accuracy_score(gt_tot_np, preds_tot_np)\\ng_tot_f1 = metrics.f1_score(gt_tot_np, preds_tot_np, average=\\\"micro\\\")\\ng_tot_precision = metrics.precision_score(gt_tot_np, preds_tot_np, average=\\\"micro\\\")\\ng_tot_recall = metrics.recall_score(gt_tot_np, preds_tot_np, average=\\\"micro\\\")\\nbb_tot_recall = metrics.recall_score(gt_tot_np, bb_tot_np, average=\\\"micro\\\")\\ng_tot_cov = preds.size(0) / 7465\\n\\n\\nprint(f\\\"g_tot_acc: {g_tot_acc * 100} (%)\\\")\\nprint(f\\\"bb_tot_acc: {bb_tot_acc * 100} (%)\\\")\\nprint(f\\\"g_tot_f1: {g_tot_f1 * 100} (%)\\\")\\nprint(f\\\"g_tot_precision: {g_tot_precision * 100} (%)\\\")\\nprint(f\\\"g_tot_recall: {g_tot_recall * 100} (%)\\\")\\nprint(f\\\"bb_tot_recall: {bb_tot_recall * 100} (%)\\\")\\nprint(f\\\"total samples covered by g: {preds.size(0)} (out of {7465})\\\")\\nprint(f\\\"total coverage by g: {g_tot_cov}\\\")\";\n",
       "                var nbb_cells = Jupyter.notebook.get_cells();\n",
       "                for (var i = 0; i < nbb_cells.length; ++i) {\n",
       "                    if (nbb_cells[i].input_prompt_number == nbb_cell_id) {\n",
       "                        if (nbb_cells[i].get_text() == nbb_unformatted_code) {\n",
       "                             nbb_cells[i].set_text(nbb_formatted_code);\n",
       "                        }\n",
       "                        break;\n",
       "                    }\n",
       "                }\n",
       "            }, 500);\n",
       "            "
      ],
      "text/plain": [
       "<IPython.core.display.Javascript object>"
      ]
     },
     "metadata": {},
     "output_type": "display_data"
    }
   ],
   "source": [
    "preds_tot_np = preds.argmax(dim=1).numpy()\n",
    "gt_tot_np = gt.numpy()\n",
    "bb_tot_np = bb.argmax(dim=1).numpy()\n",
    "bb_tot_acc = metrics.accuracy_score(gt_tot_np, bb_tot_np)\n",
    "g_tot_acc = metrics.accuracy_score(gt_tot_np, preds_tot_np)\n",
    "g_tot_f1 = metrics.f1_score(gt_tot_np, preds_tot_np, average=\"micro\")\n",
    "g_tot_precision = metrics.precision_score(gt_tot_np, preds_tot_np, average=\"micro\")\n",
    "g_tot_recall = metrics.recall_score(gt_tot_np, preds_tot_np, average=\"micro\")\n",
    "bb_tot_recall = metrics.recall_score(gt_tot_np, bb_tot_np, average=\"micro\")\n",
    "g_tot_cov = preds.size(0) / 7465\n",
    "\n",
    "\n",
    "print(f\"g_tot_acc: {g_tot_acc * 100} (%)\")\n",
    "print(f\"bb_tot_acc: {bb_tot_acc * 100} (%)\")\n",
    "print(f\"g_tot_f1: {g_tot_f1 * 100} (%)\")\n",
    "print(f\"g_tot_precision: {g_tot_precision * 100} (%)\")\n",
    "print(f\"g_tot_recall: {g_tot_recall * 100} (%)\")\n",
    "print(f\"bb_tot_recall: {bb_tot_recall * 100} (%)\")\n",
    "print(f\"total samples covered by g: {preds.size(0)} (out of {7465})\")\n",
    "print(f\"total coverage by g: {g_tot_cov}\")"
   ]
  },
  {
   "cell_type": "code",
   "execution_count": 13,
   "metadata": {},
   "outputs": [
    {
     "name": "stdout",
     "output_type": "stream",
     "text": [
      "\n",
      "\n",
      " << Test sizes >>\n",
      "torch.Size([831, 50])\n",
      "torch.Size([831, 50])\n",
      "torch.Size([831])\n"
     ]
    },
    {
     "data": {
      "application/javascript": [
       "\n",
       "            setTimeout(function() {\n",
       "                var nbb_cell_id = 13;\n",
       "                var nbb_unformatted_code = \"test_tensor_preds_residual = torch.load(\\n    os.path.join(\\n        \\\"/ocean/projects/asc170022p/shg121/PhD/ICLR-2022/out/awa2/explainer/ResNet50/lr_0.001_epochs_500_temperature-lens_0.7_use-concepts-as-pi-input_True_input-size-pi_2048_cov_0.4_alpha_0.5_selection-threshold_0.5_lambda-lens_0.0001_alpha-KD_0.9_temperature-KD_10.0_hidden-layers_1_layer_layer4_explainer_init_none/cov_0.4_lr_0.001/iter4/bb/residual_outputs\\\",\\n        \\\"test_tensor_preds_residual.pt\\\",\\n    )\\n)\\n\\ntest_tensor_preds_bb_residual = torch.load(\\n    os.path.join(\\n        \\\"/ocean/projects/asc170022p/shg121/PhD/ICLR-2022/out/awa2/explainer/ResNet50/lr_0.001_epochs_500_temperature-lens_0.7_use-concepts-as-pi-input_True_input-size-pi_2048_cov_0.4_alpha_0.5_selection-threshold_0.5_lambda-lens_0.0001_alpha-KD_0.9_temperature-KD_10.0_hidden-layers_1_layer_layer4_explainer_init_none/cov_0.4_lr_0.001/iter4/bb/residual_outputs\\\",\\n        \\\"test_tensor_preds_bb.pt\\\",\\n    )\\n)\\n\\ntest_tensor_y_residual = torch.load(\\n    os.path.join(\\n        \\\"/ocean/projects/asc170022p/shg121/PhD/ICLR-2022/out/awa2/explainer/ResNet50/lr_0.001_epochs_500_temperature-lens_0.7_use-concepts-as-pi-input_True_input-size-pi_2048_cov_0.4_alpha_0.5_selection-threshold_0.5_lambda-lens_0.0001_alpha-KD_0.9_temperature-KD_10.0_hidden-layers_1_layer_layer4_explainer_init_none/cov_0.4_lr_0.001/iter4/bb/residual_outputs\\\",\\n        \\\"test_tensor_y.pt\\\",\\n    )\\n)\\n\\n\\nprint(\\\"\\\\n\\\\n << Test sizes >>\\\")\\nprint(test_tensor_preds_residual.size())\\nprint(test_tensor_preds_bb_residual.size())\\nprint(test_tensor_y_residual.size())\";\n",
       "                var nbb_formatted_code = \"test_tensor_preds_residual = torch.load(\\n    os.path.join(\\n        \\\"/ocean/projects/asc170022p/shg121/PhD/ICLR-2022/out/awa2/explainer/ResNet50/lr_0.001_epochs_500_temperature-lens_0.7_use-concepts-as-pi-input_True_input-size-pi_2048_cov_0.4_alpha_0.5_selection-threshold_0.5_lambda-lens_0.0001_alpha-KD_0.9_temperature-KD_10.0_hidden-layers_1_layer_layer4_explainer_init_none/cov_0.4_lr_0.001/iter4/bb/residual_outputs\\\",\\n        \\\"test_tensor_preds_residual.pt\\\",\\n    )\\n)\\n\\ntest_tensor_preds_bb_residual = torch.load(\\n    os.path.join(\\n        \\\"/ocean/projects/asc170022p/shg121/PhD/ICLR-2022/out/awa2/explainer/ResNet50/lr_0.001_epochs_500_temperature-lens_0.7_use-concepts-as-pi-input_True_input-size-pi_2048_cov_0.4_alpha_0.5_selection-threshold_0.5_lambda-lens_0.0001_alpha-KD_0.9_temperature-KD_10.0_hidden-layers_1_layer_layer4_explainer_init_none/cov_0.4_lr_0.001/iter4/bb/residual_outputs\\\",\\n        \\\"test_tensor_preds_bb.pt\\\",\\n    )\\n)\\n\\ntest_tensor_y_residual = torch.load(\\n    os.path.join(\\n        \\\"/ocean/projects/asc170022p/shg121/PhD/ICLR-2022/out/awa2/explainer/ResNet50/lr_0.001_epochs_500_temperature-lens_0.7_use-concepts-as-pi-input_True_input-size-pi_2048_cov_0.4_alpha_0.5_selection-threshold_0.5_lambda-lens_0.0001_alpha-KD_0.9_temperature-KD_10.0_hidden-layers_1_layer_layer4_explainer_init_none/cov_0.4_lr_0.001/iter4/bb/residual_outputs\\\",\\n        \\\"test_tensor_y.pt\\\",\\n    )\\n)\\n\\n\\nprint(\\\"\\\\n\\\\n << Test sizes >>\\\")\\nprint(test_tensor_preds_residual.size())\\nprint(test_tensor_preds_bb_residual.size())\\nprint(test_tensor_y_residual.size())\";\n",
       "                var nbb_cells = Jupyter.notebook.get_cells();\n",
       "                for (var i = 0; i < nbb_cells.length; ++i) {\n",
       "                    if (nbb_cells[i].input_prompt_number == nbb_cell_id) {\n",
       "                        if (nbb_cells[i].get_text() == nbb_unformatted_code) {\n",
       "                             nbb_cells[i].set_text(nbb_formatted_code);\n",
       "                        }\n",
       "                        break;\n",
       "                    }\n",
       "                }\n",
       "            }, 500);\n",
       "            "
      ],
      "text/plain": [
       "<IPython.core.display.Javascript object>"
      ]
     },
     "metadata": {},
     "output_type": "display_data"
    }
   ],
   "source": [
    "test_tensor_preds_residual = torch.load(\n",
    "    os.path.join(\n",
    "        \"/ocean/projects/asc170022p/shg121/PhD/ICLR-2022/out/awa2/explainer/ResNet101/lr_0.001_epochs_500_temperature-lens_0.7_use-concepts-as-pi-input_True_input-size-pi_2048_cov_0.4_alpha_0.5_selection-threshold_0.5_lambda-lens_0.0001_alpha-KD_0.9_temperature-KD_10.0_hidden-layers_1_layer_layer4_explainer_init_none/cov_0.4_lr_0.001/iter4/bb/residual_outputs\",\n",
    "        \"test_tensor_preds_residual.pt\",\n",
    "    )\n",
    ")\n",
    "\n",
    "test_tensor_preds_bb_residual = torch.load(\n",
    "    os.path.join(\n",
    "        \"/ocean/projects/asc170022p/shg121/PhD/ICLR-2022/out/awa2/explainer/ResNet101/lr_0.001_epochs_500_temperature-lens_0.7_use-concepts-as-pi-input_True_input-size-pi_2048_cov_0.4_alpha_0.5_selection-threshold_0.5_lambda-lens_0.0001_alpha-KD_0.9_temperature-KD_10.0_hidden-layers_1_layer_layer4_explainer_init_none/cov_0.4_lr_0.001/iter4/bb/residual_outputs\",\n",
    "        \"test_tensor_preds_bb.pt\",\n",
    "    )\n",
    ")\n",
    "\n",
    "test_tensor_y_residual = torch.load(\n",
    "    os.path.join(\n",
    "        \"/ocean/projects/asc170022p/shg121/PhD/ICLR-2022/out/awa2/explainer/ResNet101/lr_0.001_epochs_500_temperature-lens_0.7_use-concepts-as-pi-input_True_input-size-pi_2048_cov_0.4_alpha_0.5_selection-threshold_0.5_lambda-lens_0.0001_alpha-KD_0.9_temperature-KD_10.0_hidden-layers_1_layer_layer4_explainer_init_none/cov_0.4_lr_0.001/iter4/bb/residual_outputs\",\n",
    "        \"test_tensor_y.pt\",\n",
    "    )\n",
    ")\n",
    "\n",
    "\n",
    "print(\"\\n\\n << Test sizes >>\")\n",
    "print(test_tensor_preds_residual.size())\n",
    "print(test_tensor_preds_bb_residual.size())\n",
    "print(test_tensor_y_residual.size())\n"
   ]
  },
  {
   "cell_type": "code",
   "execution_count": 15,
   "metadata": {},
   "outputs": [
    {
     "data": {
      "text/plain": [
       "tensor(0.7196)"
      ]
     },
     "execution_count": 15,
     "metadata": {},
     "output_type": "execute_result"
    },
    {
     "data": {
      "application/javascript": [
       "\n",
       "            setTimeout(function() {\n",
       "                var nbb_cell_id = 15;\n",
       "                var nbb_unformatted_code = \"torch.sum(\\n    test_tensor_preds_residual.argmax(dim=1) == test_tensor_y_residual\\n) / test_tensor_preds_residual.size(0)\";\n",
       "                var nbb_formatted_code = \"torch.sum(\\n    test_tensor_preds_residual.argmax(dim=1) == test_tensor_y_residual\\n) / test_tensor_preds_residual.size(0)\";\n",
       "                var nbb_cells = Jupyter.notebook.get_cells();\n",
       "                for (var i = 0; i < nbb_cells.length; ++i) {\n",
       "                    if (nbb_cells[i].input_prompt_number == nbb_cell_id) {\n",
       "                        if (nbb_cells[i].get_text() == nbb_unformatted_code) {\n",
       "                             nbb_cells[i].set_text(nbb_formatted_code);\n",
       "                        }\n",
       "                        break;\n",
       "                    }\n",
       "                }\n",
       "            }, 500);\n",
       "            "
      ],
      "text/plain": [
       "<IPython.core.display.Javascript object>"
      ]
     },
     "metadata": {},
     "output_type": "display_data"
    }
   ],
   "source": [
    "torch.sum(\n",
    "    test_tensor_preds_residual.argmax(dim=1) == test_tensor_y_residual\n",
    ") / test_tensor_preds_residual.size(0)"
   ]
  },
  {
   "cell_type": "code",
   "execution_count": 18,
   "metadata": {},
   "outputs": [
    {
     "name": "stdout",
     "output_type": "stream",
     "text": [
      "g_tot_acc: 83.89819156061621 (%)\n",
      "bb_tot_acc: 91.69457468184862 (%)\n",
      "g_tot_f1: 83.89819156061621 (%)\n",
      "g_tot_precision: 83.89819156061621 (%)\n",
      "g_tot_recall: 83.89819156061621 (%)\n",
      "bb_tot_recall: 91.69457468184862 (%)\n",
      "total samples covered by g: 7465 (out of 7465)\n",
      "total coverage by g: 1.0\n"
     ]
    },
    {
     "data": {
      "application/javascript": [
       "\n",
       "            setTimeout(function() {\n",
       "                var nbb_cell_id = 18;\n",
       "                var nbb_unformatted_code = \"expert_type = \\\"explainer\\\"\\noutput = \\\"g_outputs\\\"\\n\\npreds = torch.cat((test_tensor_preds_1, test_tensor_preds_2, test_tensor_preds_3, \\n                   test_tensor_preds_4, \\n                     test_tensor_preds_residual,\\n#                    test_tensor_preds_7, test_tensor_preds_8\\n                  ), dim=0)\\ngt = torch.cat((test_tensor_y_1, test_tensor_y_2, test_tensor_y_3 ,\\n                test_tensor_y_4, \\n                test_tensor_y_residual\\n#                test_tensor_y_7, test_tensor_y_8\\n               ), dim=0)\\nbb = torch.cat((\\n    test_tensor_preds_bb_1.cpu(), test_tensor_preds_bb_2.cpu(), test_tensor_preds_bb_3.cpu(),\\n    test_tensor_preds_bb_4.cpu(),\\n    test_tensor_preds_bb_residual.cpu()\\n#     test_tensor_preds_bb_7.cpu(), test_tensor_preds_bb_8.cpu()\\n), \\n               dim=0)\\n\\npreds_tot_np = preds.argmax(dim=1).numpy()\\ngt_tot_np = gt.numpy()\\nbb_tot_np = bb.argmax(dim=1).numpy()\\nbb_tot_acc = metrics.accuracy_score(gt_tot_np, bb_tot_np)\\ng_tot_acc = metrics.accuracy_score(gt_tot_np, preds_tot_np)\\ng_tot_f1 = metrics.f1_score(gt_tot_np, preds_tot_np, average=\\\"micro\\\")\\ng_tot_precision = metrics.precision_score(gt_tot_np, preds_tot_np, average=\\\"micro\\\")\\ng_tot_recall = metrics.recall_score(gt_tot_np, preds_tot_np, average=\\\"micro\\\")\\nbb_tot_recall = metrics.recall_score(gt_tot_np, bb_tot_np, average=\\\"micro\\\")\\ng_tot_cov = preds.size(0) / 7465\\n\\n\\nprint(f\\\"g_tot_acc: {g_tot_acc * 100} (%)\\\")\\nprint(f\\\"bb_tot_acc: {bb_tot_acc * 100} (%)\\\")\\nprint(f\\\"g_tot_f1: {g_tot_f1 * 100} (%)\\\")\\nprint(f\\\"g_tot_precision: {g_tot_precision * 100} (%)\\\")\\nprint(f\\\"g_tot_recall: {g_tot_recall * 100} (%)\\\")\\nprint(f\\\"bb_tot_recall: {bb_tot_recall * 100} (%)\\\")\\nprint(f\\\"total samples covered by g: {preds.size(0)} (out of {7465})\\\")\\nprint(f\\\"total coverage by g: {g_tot_cov}\\\")\";\n",
       "                var nbb_formatted_code = \"expert_type = \\\"explainer\\\"\\noutput = \\\"g_outputs\\\"\\n\\npreds = torch.cat(\\n    (\\n        test_tensor_preds_1,\\n        test_tensor_preds_2,\\n        test_tensor_preds_3,\\n        test_tensor_preds_4,\\n        test_tensor_preds_residual,\\n        #                    test_tensor_preds_7, test_tensor_preds_8\\n    ),\\n    dim=0,\\n)\\ngt = torch.cat(\\n    (\\n        test_tensor_y_1,\\n        test_tensor_y_2,\\n        test_tensor_y_3,\\n        test_tensor_y_4,\\n        test_tensor_y_residual\\n        #                test_tensor_y_7, test_tensor_y_8\\n    ),\\n    dim=0,\\n)\\nbb = torch.cat(\\n    (\\n        test_tensor_preds_bb_1.cpu(),\\n        test_tensor_preds_bb_2.cpu(),\\n        test_tensor_preds_bb_3.cpu(),\\n        test_tensor_preds_bb_4.cpu(),\\n        test_tensor_preds_bb_residual.cpu()\\n        #     test_tensor_preds_bb_7.cpu(), test_tensor_preds_bb_8.cpu()\\n    ),\\n    dim=0,\\n)\\n\\npreds_tot_np = preds.argmax(dim=1).numpy()\\ngt_tot_np = gt.numpy()\\nbb_tot_np = bb.argmax(dim=1).numpy()\\nbb_tot_acc = metrics.accuracy_score(gt_tot_np, bb_tot_np)\\ng_tot_acc = metrics.accuracy_score(gt_tot_np, preds_tot_np)\\ng_tot_f1 = metrics.f1_score(gt_tot_np, preds_tot_np, average=\\\"micro\\\")\\ng_tot_precision = metrics.precision_score(gt_tot_np, preds_tot_np, average=\\\"micro\\\")\\ng_tot_recall = metrics.recall_score(gt_tot_np, preds_tot_np, average=\\\"micro\\\")\\nbb_tot_recall = metrics.recall_score(gt_tot_np, bb_tot_np, average=\\\"micro\\\")\\ng_tot_cov = preds.size(0) / 7465\\n\\n\\nprint(f\\\"g_tot_acc: {g_tot_acc * 100} (%)\\\")\\nprint(f\\\"bb_tot_acc: {bb_tot_acc * 100} (%)\\\")\\nprint(f\\\"g_tot_f1: {g_tot_f1 * 100} (%)\\\")\\nprint(f\\\"g_tot_precision: {g_tot_precision * 100} (%)\\\")\\nprint(f\\\"g_tot_recall: {g_tot_recall * 100} (%)\\\")\\nprint(f\\\"bb_tot_recall: {bb_tot_recall * 100} (%)\\\")\\nprint(f\\\"total samples covered by g: {preds.size(0)} (out of {7465})\\\")\\nprint(f\\\"total coverage by g: {g_tot_cov}\\\")\";\n",
       "                var nbb_cells = Jupyter.notebook.get_cells();\n",
       "                for (var i = 0; i < nbb_cells.length; ++i) {\n",
       "                    if (nbb_cells[i].input_prompt_number == nbb_cell_id) {\n",
       "                        if (nbb_cells[i].get_text() == nbb_unformatted_code) {\n",
       "                             nbb_cells[i].set_text(nbb_formatted_code);\n",
       "                        }\n",
       "                        break;\n",
       "                    }\n",
       "                }\n",
       "            }, 500);\n",
       "            "
      ],
      "text/plain": [
       "<IPython.core.display.Javascript object>"
      ]
     },
     "metadata": {},
     "output_type": "display_data"
    }
   ],
   "source": [
    "expert_type = \"explainer\"\n",
    "output = \"g_outputs\"\n",
    "\n",
    "preds = torch.cat((test_tensor_preds_1, test_tensor_preds_2, test_tensor_preds_3, \n",
    "                   test_tensor_preds_4, \n",
    "                     test_tensor_preds_residual,\n",
    "#                    test_tensor_preds_7, test_tensor_preds_8\n",
    "                  ), dim=0)\n",
    "gt = torch.cat((test_tensor_y_1, test_tensor_y_2, test_tensor_y_3 ,\n",
    "                test_tensor_y_4, \n",
    "                test_tensor_y_residual\n",
    "#                test_tensor_y_7, test_tensor_y_8\n",
    "               ), dim=0)\n",
    "bb = torch.cat((\n",
    "    test_tensor_preds_bb_1.cpu(), test_tensor_preds_bb_2.cpu(), test_tensor_preds_bb_3.cpu(),\n",
    "    test_tensor_preds_bb_4.cpu(),\n",
    "    test_tensor_preds_bb_residual.cpu()\n",
    "#     test_tensor_preds_bb_7.cpu(), test_tensor_preds_bb_8.cpu()\n",
    "), \n",
    "               dim=0)\n",
    "\n",
    "preds_tot_np = preds.argmax(dim=1).numpy()\n",
    "gt_tot_np = gt.numpy()\n",
    "bb_tot_np = bb.argmax(dim=1).numpy()\n",
    "bb_tot_acc = metrics.accuracy_score(gt_tot_np, bb_tot_np)\n",
    "g_tot_acc = metrics.accuracy_score(gt_tot_np, preds_tot_np)\n",
    "g_tot_f1 = metrics.f1_score(gt_tot_np, preds_tot_np, average=\"micro\")\n",
    "g_tot_precision = metrics.precision_score(gt_tot_np, preds_tot_np, average=\"micro\")\n",
    "g_tot_recall = metrics.recall_score(gt_tot_np, preds_tot_np, average=\"micro\")\n",
    "bb_tot_recall = metrics.recall_score(gt_tot_np, bb_tot_np, average=\"micro\")\n",
    "g_tot_cov = preds.size(0) / 7465\n",
    "\n",
    "\n",
    "print(f\"g_tot_acc: {g_tot_acc * 100} (%)\")\n",
    "print(f\"bb_tot_acc: {bb_tot_acc * 100} (%)\")\n",
    "print(f\"g_tot_f1: {g_tot_f1 * 100} (%)\")\n",
    "print(f\"g_tot_precision: {g_tot_precision * 100} (%)\")\n",
    "print(f\"g_tot_recall: {g_tot_recall * 100} (%)\")\n",
    "print(f\"bb_tot_recall: {bb_tot_recall * 100} (%)\")\n",
    "print(f\"total samples covered by g: {preds.size(0)} (out of {7465})\")\n",
    "print(f\"total coverage by g: {g_tot_cov}\")\n"
   ]
  },
  {
   "cell_type": "code",
   "execution_count": 48,
   "metadata": {},
   "outputs": [
    {
     "data": {
      "text/plain": [
       "0.8689819268963117"
      ]
     },
     "execution_count": 48,
     "metadata": {},
     "output_type": "execute_result"
    },
    {
     "data": {
      "application/javascript": [
       "\n",
       "            setTimeout(function() {\n",
       "                var nbb_cell_id = 48;\n",
       "                var nbb_unformatted_code = \"(0.3022103116405305+\\n 0.2321902284331555+\\n 0.1832953830238005+\\n 0.07117883688478923+\\n 0.08010716691403603)\";\n",
       "                var nbb_formatted_code = \"(\\n    0.3022103116405305\\n    + 0.2321902284331555\\n    + 0.1832953830238005\\n    + 0.07117883688478923\\n    + 0.08010716691403603\\n)\";\n",
       "                var nbb_cells = Jupyter.notebook.get_cells();\n",
       "                for (var i = 0; i < nbb_cells.length; ++i) {\n",
       "                    if (nbb_cells[i].input_prompt_number == nbb_cell_id) {\n",
       "                        if (nbb_cells[i].get_text() == nbb_unformatted_code) {\n",
       "                             nbb_cells[i].set_text(nbb_formatted_code);\n",
       "                        }\n",
       "                        break;\n",
       "                    }\n",
       "                }\n",
       "            }, 500);\n",
       "            "
      ],
      "text/plain": [
       "<IPython.core.display.Javascript object>"
      ]
     },
     "metadata": {},
     "output_type": "display_data"
    }
   ],
   "source": [
    "(0.3022103116405305+\n",
    " 0.2321902284331555+\n",
    " 0.1832953830238005+\n",
    " 0.07117883688478923+\n",
    " 0.08010716691403603)\n"
   ]
  },
  {
   "cell_type": "code",
   "execution_count": 39,
   "metadata": {},
   "outputs": [
    {
     "data": {
      "text/plain": [
       "(0.3022103116405305,\n",
       " 0.2121902284331555,\n",
       " 0.1632953830238005,\n",
       " 0.08117883688478923,\n",
       " 0.08010716691403603)"
      ]
     },
     "execution_count": 39,
     "metadata": {},
     "output_type": "execute_result"
    },
    {
     "data": {
      "application/javascript": [
       "\n",
       "            setTimeout(function() {\n",
       "                var nbb_cell_id = 39;\n",
       "                var nbb_unformatted_code = \"(\\n    (\\n        torch.sum(test_tensor_preds_1.argmax(dim=1) == test_tensor_y_1)\\n        / test_tensor_y_1.size(0)\\n    ).item() * (test_tensor_preds_1.size(0) / 7465),\\n    (\\n        torch.sum(test_tensor_preds_2.argmax(dim=1) == test_tensor_y_2)\\n        / test_tensor_y_2.size(0)\\n    ).item() * (test_tensor_preds_2.size(0) / 7465),\\n    (\\n        torch.sum(test_tensor_preds_3.argmax(dim=1) == test_tensor_y_3)\\n        / test_tensor_y_3.size(0)\\n    ).item() * (test_tensor_preds_3.size(0) / 7465),\\n    (\\n        torch.sum(test_tensor_preds_4.argmax(dim=1) == test_tensor_y_4)\\n        / test_tensor_y_4.size(0)\\n    ).item() * (test_tensor_preds_4.size(0) / 7465),\\n    (\\n        torch.sum(test_tensor_preds_residual.argmax(dim=1) == test_tensor_y_residual)\\n        / test_tensor_preds_residual.size(0)\\n    ).item() * (test_tensor_preds_residual.size(0) / 7465),\\n)\";\n",
       "                var nbb_formatted_code = \"(\\n    (\\n        torch.sum(test_tensor_preds_1.argmax(dim=1) == test_tensor_y_1)\\n        / test_tensor_y_1.size(0)\\n    ).item()\\n    * (test_tensor_preds_1.size(0) / 7465),\\n    (\\n        torch.sum(test_tensor_preds_2.argmax(dim=1) == test_tensor_y_2)\\n        / test_tensor_y_2.size(0)\\n    ).item()\\n    * (test_tensor_preds_2.size(0) / 7465),\\n    (\\n        torch.sum(test_tensor_preds_3.argmax(dim=1) == test_tensor_y_3)\\n        / test_tensor_y_3.size(0)\\n    ).item()\\n    * (test_tensor_preds_3.size(0) / 7465),\\n    (\\n        torch.sum(test_tensor_preds_4.argmax(dim=1) == test_tensor_y_4)\\n        / test_tensor_y_4.size(0)\\n    ).item()\\n    * (test_tensor_preds_4.size(0) / 7465),\\n    (\\n        torch.sum(test_tensor_preds_residual.argmax(dim=1) == test_tensor_y_residual)\\n        / test_tensor_preds_residual.size(0)\\n    ).item()\\n    * (test_tensor_preds_residual.size(0) / 7465),\\n)\";\n",
       "                var nbb_cells = Jupyter.notebook.get_cells();\n",
       "                for (var i = 0; i < nbb_cells.length; ++i) {\n",
       "                    if (nbb_cells[i].input_prompt_number == nbb_cell_id) {\n",
       "                        if (nbb_cells[i].get_text() == nbb_unformatted_code) {\n",
       "                             nbb_cells[i].set_text(nbb_formatted_code);\n",
       "                        }\n",
       "                        break;\n",
       "                    }\n",
       "                }\n",
       "            }, 500);\n",
       "            "
      ],
      "text/plain": [
       "<IPython.core.display.Javascript object>"
      ]
     },
     "metadata": {},
     "output_type": "display_data"
    }
   ],
   "source": [
    "(\n",
    "    (\n",
    "        torch.sum(test_tensor_preds_1.argmax(dim=1) == test_tensor_y_1)\n",
    "        / test_tensor_y_1.size(0)\n",
    "    ).item()\n",
    "    * (test_tensor_preds_1.size(0) / 7465),\n",
    "    (\n",
    "        torch.sum(test_tensor_preds_2.argmax(dim=1) == test_tensor_y_2)\n",
    "        / test_tensor_y_2.size(0)\n",
    "    ).item()\n",
    "    * (test_tensor_preds_2.size(0) / 7465),\n",
    "    (\n",
    "        torch.sum(test_tensor_preds_3.argmax(dim=1) == test_tensor_y_3)\n",
    "        / test_tensor_y_3.size(0)\n",
    "    ).item()\n",
    "    * (test_tensor_preds_3.size(0) / 7465),\n",
    "    (\n",
    "        torch.sum(test_tensor_preds_4.argmax(dim=1) == test_tensor_y_4)\n",
    "        / test_tensor_y_4.size(0)\n",
    "    ).item()\n",
    "    * (test_tensor_preds_4.size(0) / 7465),\n",
    "    (\n",
    "        torch.sum(test_tensor_preds_residual.argmax(dim=1) == test_tensor_y_residual)\n",
    "        / test_tensor_preds_residual.size(0)\n",
    "    ).item()\n",
    "    * (test_tensor_preds_residual.size(0) / 7465),\n",
    ")"
   ]
  },
  {
   "cell_type": "code",
   "execution_count": 40,
   "metadata": {},
   "outputs": [
    {
     "data": {
      "text/plain": [
       "(0.8433644771575928,\n",
       " 0.8457021117210388,\n",
       " 0.8447678685188293,\n",
       " 0.9424572587013245,\n",
       " 0.7196149230003357)"
      ]
     },
     "execution_count": 40,
     "metadata": {},
     "output_type": "execute_result"
    },
    {
     "data": {
      "application/javascript": [
       "\n",
       "            setTimeout(function() {\n",
       "                var nbb_cell_id = 40;\n",
       "                var nbb_unformatted_code = \"(\\n    (\\n        torch.sum(test_tensor_preds_1.argmax(dim=1) == test_tensor_y_1)\\n        / test_tensor_y_1.size(0)\\n    ).item()\\n    ,\\n    (\\n        torch.sum(test_tensor_preds_2.argmax(dim=1) == test_tensor_y_2)\\n        / test_tensor_y_2.size(0)\\n    ).item()\\n    ,\\n    (\\n        torch.sum(test_tensor_preds_3.argmax(dim=1) == test_tensor_y_3)\\n        / test_tensor_y_3.size(0)\\n    ).item()\\n    ,\\n    (\\n        torch.sum(test_tensor_preds_4.argmax(dim=1) == test_tensor_y_4)\\n        / test_tensor_y_4.size(0)\\n    ).item()\\n    ,\\n    (\\n        torch.sum(test_tensor_preds_residual.argmax(dim=1) == test_tensor_y_residual)\\n        / test_tensor_preds_residual.size(0)\\n    ).item()\\n    \\n)\";\n",
       "                var nbb_formatted_code = \"(\\n    (\\n        torch.sum(test_tensor_preds_1.argmax(dim=1) == test_tensor_y_1)\\n        / test_tensor_y_1.size(0)\\n    ).item(),\\n    (\\n        torch.sum(test_tensor_preds_2.argmax(dim=1) == test_tensor_y_2)\\n        / test_tensor_y_2.size(0)\\n    ).item(),\\n    (\\n        torch.sum(test_tensor_preds_3.argmax(dim=1) == test_tensor_y_3)\\n        / test_tensor_y_3.size(0)\\n    ).item(),\\n    (\\n        torch.sum(test_tensor_preds_4.argmax(dim=1) == test_tensor_y_4)\\n        / test_tensor_y_4.size(0)\\n    ).item(),\\n    (\\n        torch.sum(test_tensor_preds_residual.argmax(dim=1) == test_tensor_y_residual)\\n        / test_tensor_preds_residual.size(0)\\n    ).item(),\\n)\";\n",
       "                var nbb_cells = Jupyter.notebook.get_cells();\n",
       "                for (var i = 0; i < nbb_cells.length; ++i) {\n",
       "                    if (nbb_cells[i].input_prompt_number == nbb_cell_id) {\n",
       "                        if (nbb_cells[i].get_text() == nbb_unformatted_code) {\n",
       "                             nbb_cells[i].set_text(nbb_formatted_code);\n",
       "                        }\n",
       "                        break;\n",
       "                    }\n",
       "                }\n",
       "            }, 500);\n",
       "            "
      ],
      "text/plain": [
       "<IPython.core.display.Javascript object>"
      ]
     },
     "metadata": {},
     "output_type": "display_data"
    }
   ],
   "source": [
    "(\n",
    "    (\n",
    "        torch.sum(test_tensor_preds_1.argmax(dim=1) == test_tensor_y_1)\n",
    "        / test_tensor_y_1.size(0)\n",
    "    ).item(),\n",
    "    (\n",
    "        torch.sum(test_tensor_preds_2.argmax(dim=1) == test_tensor_y_2)\n",
    "        / test_tensor_y_2.size(0)\n",
    "    ).item(),\n",
    "    (\n",
    "        torch.sum(test_tensor_preds_3.argmax(dim=1) == test_tensor_y_3)\n",
    "        / test_tensor_y_3.size(0)\n",
    "    ).item(),\n",
    "    (\n",
    "        torch.sum(test_tensor_preds_4.argmax(dim=1) == test_tensor_y_4)\n",
    "        / test_tensor_y_4.size(0)\n",
    "    ).item(),\n",
    "    (\n",
    "        torch.sum(test_tensor_preds_residual.argmax(dim=1) == test_tensor_y_residual)\n",
    "        / test_tensor_preds_residual.size(0)\n",
    "    ).item(),\n",
    ")"
   ]
  },
  {
   "cell_type": "code",
   "execution_count": 41,
   "metadata": {},
   "outputs": [
    {
     "data": {
      "text/plain": [
       "(0.3583389149363697,\n",
       " 0.2509042196918955,\n",
       " 0.19330207635632954,\n",
       " 0.08613529805760214,\n",
       " 0.11131949095780308)"
      ]
     },
     "execution_count": 41,
     "metadata": {},
     "output_type": "execute_result"
    },
    {
     "data": {
      "application/javascript": [
       "\n",
       "            setTimeout(function() {\n",
       "                var nbb_cell_id = 41;\n",
       "                var nbb_unformatted_code = \"(\\n    test_tensor_preds_1.size(0) / 7465,\\n    test_tensor_preds_2.size(0) / 7465,\\n    test_tensor_preds_3.size(0) / 7465,\\n    test_tensor_preds_4.size(0) / 7465,\\n    test_tensor_preds_residual.size(0) / 7465\\n)\";\n",
       "                var nbb_formatted_code = \"(\\n    test_tensor_preds_1.size(0) / 7465,\\n    test_tensor_preds_2.size(0) / 7465,\\n    test_tensor_preds_3.size(0) / 7465,\\n    test_tensor_preds_4.size(0) / 7465,\\n    test_tensor_preds_residual.size(0) / 7465,\\n)\";\n",
       "                var nbb_cells = Jupyter.notebook.get_cells();\n",
       "                for (var i = 0; i < nbb_cells.length; ++i) {\n",
       "                    if (nbb_cells[i].input_prompt_number == nbb_cell_id) {\n",
       "                        if (nbb_cells[i].get_text() == nbb_unformatted_code) {\n",
       "                             nbb_cells[i].set_text(nbb_formatted_code);\n",
       "                        }\n",
       "                        break;\n",
       "                    }\n",
       "                }\n",
       "            }, 500);\n",
       "            "
      ],
      "text/plain": [
       "<IPython.core.display.Javascript object>"
      ]
     },
     "metadata": {},
     "output_type": "display_data"
    }
   ],
   "source": [
    "(\n",
    "    test_tensor_preds_1.size(0) / 7465,\n",
    "    test_tensor_preds_2.size(0) / 7465,\n",
    "    test_tensor_preds_3.size(0) / 7465,\n",
    "    test_tensor_preds_4.size(0) / 7465,\n",
    "    test_tensor_preds_residual.size(0) / 7465,\n",
    ")"
   ]
  },
  {
   "cell_type": "code",
   "execution_count": 42,
   "metadata": {},
   "outputs": [
    {
     "data": {
      "text/plain": [
       "0.08010716691403603"
      ]
     },
     "execution_count": 42,
     "metadata": {},
     "output_type": "execute_result"
    },
    {
     "data": {
      "application/javascript": [
       "\n",
       "            setTimeout(function() {\n",
       "                var nbb_cell_id = 42;\n",
       "                var nbb_unformatted_code = \"0.7196149230003357 * 0.11131949095780308\";\n",
       "                var nbb_formatted_code = \"0.7196149230003357 * 0.11131949095780308\";\n",
       "                var nbb_cells = Jupyter.notebook.get_cells();\n",
       "                for (var i = 0; i < nbb_cells.length; ++i) {\n",
       "                    if (nbb_cells[i].input_prompt_number == nbb_cell_id) {\n",
       "                        if (nbb_cells[i].get_text() == nbb_unformatted_code) {\n",
       "                             nbb_cells[i].set_text(nbb_formatted_code);\n",
       "                        }\n",
       "                        break;\n",
       "                    }\n",
       "                }\n",
       "            }, 500);\n",
       "            "
      ],
      "text/plain": [
       "<IPython.core.display.Javascript object>"
      ]
     },
     "metadata": {},
     "output_type": "display_data"
    }
   ],
   "source": [
    "0.7196149230003357 * 0.11131949095780308"
   ]
  },
  {
   "cell_type": "code",
   "execution_count": 32,
   "metadata": {},
   "outputs": [
    {
     "name": "stdout",
     "output_type": "stream",
     "text": [
      "(50, 4)\n",
      "(50, 4)\n"
     ]
    },
    {
     "data": {
      "application/javascript": [
       "\n",
       "            setTimeout(function() {\n",
       "                var nbb_cell_id = 32;\n",
       "                var nbb_unformatted_code = \"expert_1_gt, expert_1_correct_pred = plot.create_data_for_expert_label_plot(\\n    GT_tensor=test_tensor_y_1, pred_tensor=test_tensor_preds_1, n_classes=50\\n)\\n\\nexpert_2_gt, expert_2_correct_pred = plot.create_data_for_expert_label_plot(\\n    GT_tensor=test_tensor_y_2, pred_tensor=test_tensor_preds_2, n_classes=50\\n)\\nexpert_3_gt, expert_3_correct_pred = plot.create_data_for_expert_label_plot(\\n    GT_tensor=test_tensor_y_3, pred_tensor=test_tensor_preds_3, n_classes=50\\n)\\nexpert_4_gt, expert_4_correct_pred = plot.create_data_for_expert_label_plot(\\n    GT_tensor=test_tensor_y_4, pred_tensor=test_tensor_preds_4, n_classes=50\\n)\\n# expert_5_gt, expert_5_correct_pred = plot.create_data_for_expert_label_plot(\\n#     GT_tensor=test_tensor_y_5, pred_tensor=test_tensor_preds_5, n_classes=50\\n# )\\n# expert_6_gt, expert_6_correct_pred = plot.create_data_for_expert_label_plot(\\n#     GT_tensor=test_tensor_y_6, pred_tensor=test_tensor_preds_6, n_classes=50\\n# )\\n# expert_7_gt, expert_7_correct_pred = plot.create_data_for_expert_label_plot(\\n#     GT_tensor=test_tensor_y_7, pred_tensor=test_tensor_preds_7, n_classes=200\\n# )\\n# expert_8_gt, expert_8_correct_pred = plot.create_data_for_expert_label_plot(\\n#     GT_tensor=test_tensor_y_8, pred_tensor=test_tensor_preds_8, n_classes=200\\n# )\\n\\n\\nexpert_1_gt =np.array([expert_1_gt]).T\\nexpert_2_gt =np.array([expert_2_gt]).T\\nexpert_3_gt =np.array([expert_3_gt]).T\\nexpert_4_gt =np.array([expert_4_gt]).T\\n# expert_5_gt =np.array([expert_5_gt]).T\\n# expert_6_gt =np.array([expert_6_gt]).T\\n# expert_7_gt =np.array([expert_7_gt]).T\\n# expert_8_gt =np.array([expert_8_gt]).T\\n\\nexpert_gt = np.concatenate(\\n    (\\n        expert_1_gt, \\n        expert_2_gt,\\n        expert_3_gt,\\n        expert_4_gt,\\n#         expert_5_gt,\\n#         expert_6_gt,\\n#         expert_7_gt,\\n#         expert_8_gt\\n    ), axis=1)\\n\\nexpert_1_correct_pred =np.array([expert_1_correct_pred]).T\\nexpert_2_correct_pred =np.array([expert_2_correct_pred]).T\\nexpert_3_correct_pred =np.array([expert_3_correct_pred]).T\\nexpert_4_correct_pred =np.array([expert_4_correct_pred]).T\\n# expert_5_correct_pred =np.array([expert_5_correct_pred]).T\\n# expert_6_correct_pred =np.array([expert_6_correct_pred]).T\\n# expert_7_correct_pred =np.array([expert_7_correct_pred]).T\\n# expert_8_correct_pred =np.array([expert_8_correct_pred]).T\\n\\nexpert_correct_preds = np.concatenate(\\n    (\\n        expert_1_correct_pred, \\n        expert_2_correct_pred,\\n        expert_3_correct_pred,\\n        expert_4_correct_pred,\\n#         expert_5_correct_pred,\\n#         expert_6_correct_pred,\\n#         expert_7_correct_pred,\\n#         expert_8_correct_pred\\n    ), axis=1)\\nprint(expert_gt.shape)\\nprint(expert_correct_preds.shape)\\n\\n\\n\\n\\n\\n\\n# print(exper_gt.shape)\\n# print(expert_correct_preds.shape)\";\n",
       "                var nbb_formatted_code = \"expert_1_gt, expert_1_correct_pred = plot.create_data_for_expert_label_plot(\\n    GT_tensor=test_tensor_y_1, pred_tensor=test_tensor_preds_1, n_classes=50\\n)\\n\\nexpert_2_gt, expert_2_correct_pred = plot.create_data_for_expert_label_plot(\\n    GT_tensor=test_tensor_y_2, pred_tensor=test_tensor_preds_2, n_classes=50\\n)\\nexpert_3_gt, expert_3_correct_pred = plot.create_data_for_expert_label_plot(\\n    GT_tensor=test_tensor_y_3, pred_tensor=test_tensor_preds_3, n_classes=50\\n)\\nexpert_4_gt, expert_4_correct_pred = plot.create_data_for_expert_label_plot(\\n    GT_tensor=test_tensor_y_4, pred_tensor=test_tensor_preds_4, n_classes=50\\n)\\n# expert_5_gt, expert_5_correct_pred = plot.create_data_for_expert_label_plot(\\n#     GT_tensor=test_tensor_y_5, pred_tensor=test_tensor_preds_5, n_classes=50\\n# )\\n# expert_6_gt, expert_6_correct_pred = plot.create_data_for_expert_label_plot(\\n#     GT_tensor=test_tensor_y_6, pred_tensor=test_tensor_preds_6, n_classes=50\\n# )\\n# expert_7_gt, expert_7_correct_pred = plot.create_data_for_expert_label_plot(\\n#     GT_tensor=test_tensor_y_7, pred_tensor=test_tensor_preds_7, n_classes=200\\n# )\\n# expert_8_gt, expert_8_correct_pred = plot.create_data_for_expert_label_plot(\\n#     GT_tensor=test_tensor_y_8, pred_tensor=test_tensor_preds_8, n_classes=200\\n# )\\n\\n\\nexpert_1_gt = np.array([expert_1_gt]).T\\nexpert_2_gt = np.array([expert_2_gt]).T\\nexpert_3_gt = np.array([expert_3_gt]).T\\nexpert_4_gt = np.array([expert_4_gt]).T\\n# expert_5_gt =np.array([expert_5_gt]).T\\n# expert_6_gt =np.array([expert_6_gt]).T\\n# expert_7_gt =np.array([expert_7_gt]).T\\n# expert_8_gt =np.array([expert_8_gt]).T\\n\\nexpert_gt = np.concatenate(\\n    (\\n        expert_1_gt,\\n        expert_2_gt,\\n        expert_3_gt,\\n        expert_4_gt,\\n        #         expert_5_gt,\\n        #         expert_6_gt,\\n        #         expert_7_gt,\\n        #         expert_8_gt\\n    ),\\n    axis=1,\\n)\\n\\nexpert_1_correct_pred = np.array([expert_1_correct_pred]).T\\nexpert_2_correct_pred = np.array([expert_2_correct_pred]).T\\nexpert_3_correct_pred = np.array([expert_3_correct_pred]).T\\nexpert_4_correct_pred = np.array([expert_4_correct_pred]).T\\n# expert_5_correct_pred =np.array([expert_5_correct_pred]).T\\n# expert_6_correct_pred =np.array([expert_6_correct_pred]).T\\n# expert_7_correct_pred =np.array([expert_7_correct_pred]).T\\n# expert_8_correct_pred =np.array([expert_8_correct_pred]).T\\n\\nexpert_correct_preds = np.concatenate(\\n    (\\n        expert_1_correct_pred,\\n        expert_2_correct_pred,\\n        expert_3_correct_pred,\\n        expert_4_correct_pred,\\n        #         expert_5_correct_pred,\\n        #         expert_6_correct_pred,\\n        #         expert_7_correct_pred,\\n        #         expert_8_correct_pred\\n    ),\\n    axis=1,\\n)\\nprint(expert_gt.shape)\\nprint(expert_correct_preds.shape)\\n\\n\\n# print(exper_gt.shape)\\n# print(expert_correct_preds.shape)\";\n",
       "                var nbb_cells = Jupyter.notebook.get_cells();\n",
       "                for (var i = 0; i < nbb_cells.length; ++i) {\n",
       "                    if (nbb_cells[i].input_prompt_number == nbb_cell_id) {\n",
       "                        if (nbb_cells[i].get_text() == nbb_unformatted_code) {\n",
       "                             nbb_cells[i].set_text(nbb_formatted_code);\n",
       "                        }\n",
       "                        break;\n",
       "                    }\n",
       "                }\n",
       "            }, 500);\n",
       "            "
      ],
      "text/plain": [
       "<IPython.core.display.Javascript object>"
      ]
     },
     "metadata": {},
     "output_type": "display_data"
    }
   ],
   "source": [
    "expert_1_gt, expert_1_correct_pred = plot.create_data_for_expert_label_plot(\n",
    "    GT_tensor=test_tensor_y_1, pred_tensor=test_tensor_preds_1, n_classes=50\n",
    ")\n",
    "\n",
    "expert_2_gt, expert_2_correct_pred = plot.create_data_for_expert_label_plot(\n",
    "    GT_tensor=test_tensor_y_2, pred_tensor=test_tensor_preds_2, n_classes=50\n",
    ")\n",
    "expert_3_gt, expert_3_correct_pred = plot.create_data_for_expert_label_plot(\n",
    "    GT_tensor=test_tensor_y_3, pred_tensor=test_tensor_preds_3, n_classes=50\n",
    ")\n",
    "expert_4_gt, expert_4_correct_pred = plot.create_data_for_expert_label_plot(\n",
    "    GT_tensor=test_tensor_y_4, pred_tensor=test_tensor_preds_4, n_classes=50\n",
    ")\n",
    "# expert_5_gt, expert_5_correct_pred = plot.create_data_for_expert_label_plot(\n",
    "#     GT_tensor=test_tensor_y_5, pred_tensor=test_tensor_preds_5, n_classes=50\n",
    "# )\n",
    "# expert_6_gt, expert_6_correct_pred = plot.create_data_for_expert_label_plot(\n",
    "#     GT_tensor=test_tensor_y_6, pred_tensor=test_tensor_preds_6, n_classes=50\n",
    "# )\n",
    "# expert_7_gt, expert_7_correct_pred = plot.create_data_for_expert_label_plot(\n",
    "#     GT_tensor=test_tensor_y_7, pred_tensor=test_tensor_preds_7, n_classes=200\n",
    "# )\n",
    "# expert_8_gt, expert_8_correct_pred = plot.create_data_for_expert_label_plot(\n",
    "#     GT_tensor=test_tensor_y_8, pred_tensor=test_tensor_preds_8, n_classes=200\n",
    "# )\n",
    "\n",
    "\n",
    "expert_1_gt =np.array([expert_1_gt]).T\n",
    "expert_2_gt =np.array([expert_2_gt]).T\n",
    "expert_3_gt =np.array([expert_3_gt]).T\n",
    "expert_4_gt =np.array([expert_4_gt]).T\n",
    "# expert_5_gt =np.array([expert_5_gt]).T\n",
    "# expert_6_gt =np.array([expert_6_gt]).T\n",
    "# expert_7_gt =np.array([expert_7_gt]).T\n",
    "# expert_8_gt =np.array([expert_8_gt]).T\n",
    "\n",
    "expert_gt = np.concatenate(\n",
    "    (\n",
    "        expert_1_gt, \n",
    "        expert_2_gt,\n",
    "        expert_3_gt,\n",
    "        expert_4_gt,\n",
    "#         expert_5_gt,\n",
    "#         expert_6_gt,\n",
    "#         expert_7_gt,\n",
    "#         expert_8_gt\n",
    "    ), axis=1)\n",
    "\n",
    "expert_1_correct_pred =np.array([expert_1_correct_pred]).T\n",
    "expert_2_correct_pred =np.array([expert_2_correct_pred]).T\n",
    "expert_3_correct_pred =np.array([expert_3_correct_pred]).T\n",
    "expert_4_correct_pred =np.array([expert_4_correct_pred]).T\n",
    "# expert_5_correct_pred =np.array([expert_5_correct_pred]).T\n",
    "# expert_6_correct_pred =np.array([expert_6_correct_pred]).T\n",
    "# expert_7_correct_pred =np.array([expert_7_correct_pred]).T\n",
    "# expert_8_correct_pred =np.array([expert_8_correct_pred]).T\n",
    "\n",
    "expert_correct_preds = np.concatenate(\n",
    "    (\n",
    "        expert_1_correct_pred, \n",
    "        expert_2_correct_pred,\n",
    "        expert_3_correct_pred,\n",
    "        expert_4_correct_pred,\n",
    "#         expert_5_correct_pred,\n",
    "#         expert_6_correct_pred,\n",
    "#         expert_7_correct_pred,\n",
    "#         expert_8_correct_pred\n",
    "    ), axis=1)\n",
    "print(expert_gt.shape)\n",
    "print(expert_correct_preds.shape)\n",
    "\n",
    "\n",
    "\n",
    "\n",
    "\n",
    "\n",
    "# print(exper_gt.shape)\n",
    "# print(expert_correct_preds.shape)\n",
    "\n"
   ]
  },
  {
   "cell_type": "code",
   "execution_count": 33,
   "metadata": {},
   "outputs": [
    {
     "name": "stdout",
     "output_type": "stream",
     "text": [
      "[37  8 46  2 17 49 36 22 15  4 20 48 11  3 35  0 30 23 41  6 39 34 29 43\n",
      " 32  9 33  5 40 21 25 28 26  1 10 45 16 42  7 31 14 13 44 47 24 27 19 18\n",
      " 38 12]\n",
      "50\n"
     ]
    },
    {
     "data": {
      "text/plain": [
       "array([[  0,   0,   0,   0],\n",
       "       [ 35,   0,   0,   0],\n",
       "       [ 43,   0,   0,   0],\n",
       "       [ 58,   0,   0,   0],\n",
       "       [142,   0,   0,   0],\n",
       "       [189,   0,   0,   0],\n",
       "       [158,  10,   0,   0],\n",
       "       [252,  10,   0,   0],\n",
       "       [101,  37,   0,   0],\n",
       "       [  2, 104,   0,   0],\n",
       "       [ 35, 107,   0,   0],\n",
       "       [ 43, 223,   0,   0],\n",
       "       [ 13,   0,   1,   0],\n",
       "       [ 16,   0,   1,   0],\n",
       "       [ 78,   0,   1,   0],\n",
       "       [  5, 202,   1,   0],\n",
       "       [  0, 239,   1,   0],\n",
       "       [194,   0,   2,   0],\n",
       "       [ 88,  11,   3,   0],\n",
       "       [286,  40,   3,   0],\n",
       "       [  4, 262,   3,   0],\n",
       "       [  3,   3,  11,   0],\n",
       "       [ 62,   0,  12,   0],\n",
       "       [  3,   1,  22,   0],\n",
       "       [  8,  71,  31,   0],\n",
       "       [ 14,  18,  37,   0],\n",
       "       [  5,   1,  40,   0],\n",
       "       [ 17,  17, 112,   0],\n",
       "       [  2,   7, 113,   0],\n",
       "       [  1,   3, 118,   0],\n",
       "       [  2,  15, 126,   0],\n",
       "       [  1,   2, 209,   0],\n",
       "       [  2,   0, 234,   0],\n",
       "       [150,   1,   1,   1],\n",
       "       [  4,   0,   3,   1],\n",
       "       [ 21, 166,  11,   1],\n",
       "       [ 31,   2,  17,   1],\n",
       "       [  4, 174,  23,   1],\n",
       "       [ 49, 107,  46,   1],\n",
       "       [  8,   7,  93,   1],\n",
       "       [  0,   0, 143,   1],\n",
       "       [128,   0,   0,   2],\n",
       "       [145,   0,   1,   3],\n",
       "       [  5,   0,  15,   3],\n",
       "       [135,   4,   1,   4],\n",
       "       [ 12,   9,   0,  57],\n",
       "       [ 65,   0,   1, 107],\n",
       "       [ 50,  20,   1, 128],\n",
       "       [  6,   0,   0, 164],\n",
       "       [  0,   0,   6, 167]])"
      ]
     },
     "execution_count": 33,
     "metadata": {},
     "output_type": "execute_result"
    },
    {
     "data": {
      "application/javascript": [
       "\n",
       "            setTimeout(function() {\n",
       "                var nbb_cell_id = 33;\n",
       "                var nbb_unformatted_code = \"order = np.lexsort(\\n    [\\n        expert_gt[:, 0],\\n        expert_gt[:, 1],\\n        expert_gt[:, 2],\\n        expert_gt[:, 3],\\n#         expert_gt[:, 4],\\n#         expert_gt[:, 5],\\n#         expert_gt[:, 6],\\n#         expert_gt[:, 7],\\n    ]\\n)\\nprint(order)\\nprint(len(order))\\nsorted_cols = []\\nfor idx in order:\\n    sorted_cols.append(args.labels[idx])\\n# print(args.labels)\\n# print(sorted_cols)\\nexpert_gt[order]\";\n",
       "                var nbb_formatted_code = \"order = np.lexsort(\\n    [\\n        expert_gt[:, 0],\\n        expert_gt[:, 1],\\n        expert_gt[:, 2],\\n        expert_gt[:, 3],\\n        #         expert_gt[:, 4],\\n        #         expert_gt[:, 5],\\n        #         expert_gt[:, 6],\\n        #         expert_gt[:, 7],\\n    ]\\n)\\nprint(order)\\nprint(len(order))\\nsorted_cols = []\\nfor idx in order:\\n    sorted_cols.append(args.labels[idx])\\n# print(args.labels)\\n# print(sorted_cols)\\nexpert_gt[order]\";\n",
       "                var nbb_cells = Jupyter.notebook.get_cells();\n",
       "                for (var i = 0; i < nbb_cells.length; ++i) {\n",
       "                    if (nbb_cells[i].input_prompt_number == nbb_cell_id) {\n",
       "                        if (nbb_cells[i].get_text() == nbb_unformatted_code) {\n",
       "                             nbb_cells[i].set_text(nbb_formatted_code);\n",
       "                        }\n",
       "                        break;\n",
       "                    }\n",
       "                }\n",
       "            }, 500);\n",
       "            "
      ],
      "text/plain": [
       "<IPython.core.display.Javascript object>"
      ]
     },
     "metadata": {},
     "output_type": "display_data"
    }
   ],
   "source": [
    "order = np.lexsort(\n",
    "    [\n",
    "        expert_gt[:, 0],\n",
    "        expert_gt[:, 1],\n",
    "        expert_gt[:, 2],\n",
    "        expert_gt[:, 3],\n",
    "#         expert_gt[:, 4],\n",
    "#         expert_gt[:, 5],\n",
    "#         expert_gt[:, 6],\n",
    "#         expert_gt[:, 7],\n",
    "    ]\n",
    ")\n",
    "print(order)\n",
    "print(len(order))\n",
    "sorted_cols = []\n",
    "for idx in order:\n",
    "    sorted_cols.append(args.labels[idx])\n",
    "# print(args.labels)\n",
    "# print(sorted_cols)\n",
    "expert_gt[order]\n"
   ]
  },
  {
   "cell_type": "code",
   "execution_count": 39,
   "metadata": {},
   "outputs": [
    {
     "data": {
      "image/png": "[encoded data removed]",
      "text/plain": [
       "<Figure size 864x864 with 2 Axes>"
      ]
     },
     "metadata": {
      "needs_background": "light"
     },
     "output_type": "display_data"
    },
    {
     "data": {
      "application/javascript": [
       "\n",
       "            setTimeout(function() {\n",
       "                var nbb_cell_id = 39;\n",
       "                var nbb_unformatted_code = \"import matplotlib.pyplot as plt\\nimport seaborn as sns\\n\\n# print(y_axis_labels)\\ny_axis_labels = sorted_cols\\nfor idx, label in enumerate(y_axis_labels):\\n    y_axis_labels[idx] = label.replace(\\\"+\\\", \\\" \\\")\\n#     print(idx, label)\\n\\n\\n\\nx_axis_labels = [1, 2, 3, 4, 5, 6]\\n# for i in range(1, 201):\\n#     y_axis_labels.append(i)\\n\\nfig, ax = plt.subplots(figsize=(12, 12))\\nsns.set(font_scale=1.2)\\np = sns.heatmap(\\n    expert_gt[order],\\n    xticklabels=x_axis_labels,\\n    yticklabels=y_axis_labels,\\n    linewidths=0.1,\\n    cmap=\\\"BuPu\\\",\\n)\\np.set_xlabel(\\\"# Experts\\\")\\np.set_ylabel(\\\"Class Labels\\\")\\n# p.set_yticklabels(p.get_yticklabels(), rotation=10)\\nplt.show()\";\n",
       "                var nbb_formatted_code = \"import matplotlib.pyplot as plt\\nimport seaborn as sns\\n\\n# print(y_axis_labels)\\ny_axis_labels = sorted_cols\\nfor idx, label in enumerate(y_axis_labels):\\n    y_axis_labels[idx] = label.replace(\\\"+\\\", \\\" \\\")\\n#     print(idx, label)\\n\\n\\nx_axis_labels = [1, 2, 3, 4, 5, 6]\\n# for i in range(1, 201):\\n#     y_axis_labels.append(i)\\n\\nfig, ax = plt.subplots(figsize=(12, 12))\\nsns.set(font_scale=1.2)\\np = sns.heatmap(\\n    expert_gt[order],\\n    xticklabels=x_axis_labels,\\n    yticklabels=y_axis_labels,\\n    linewidths=0.1,\\n    cmap=\\\"BuPu\\\",\\n)\\np.set_xlabel(\\\"# Experts\\\")\\np.set_ylabel(\\\"Class Labels\\\")\\n# p.set_yticklabels(p.get_yticklabels(), rotation=10)\\nplt.show()\";\n",
       "                var nbb_cells = Jupyter.notebook.get_cells();\n",
       "                for (var i = 0; i < nbb_cells.length; ++i) {\n",
       "                    if (nbb_cells[i].input_prompt_number == nbb_cell_id) {\n",
       "                        if (nbb_cells[i].get_text() == nbb_unformatted_code) {\n",
       "                             nbb_cells[i].set_text(nbb_formatted_code);\n",
       "                        }\n",
       "                        break;\n",
       "                    }\n",
       "                }\n",
       "            }, 500);\n",
       "            "
      ],
      "text/plain": [
       "<IPython.core.display.Javascript object>"
      ]
     },
     "metadata": {},
     "output_type": "display_data"
    }
   ],
   "source": [
    "import matplotlib.pyplot as plt\n",
    "import seaborn as sns\n",
    "\n",
    "# print(y_axis_labels)\n",
    "y_axis_labels = sorted_cols\n",
    "for idx, label in enumerate(y_axis_labels):\n",
    "    y_axis_labels[idx] = label.replace(\"+\", \" \")\n",
    "#     print(idx, label)\n",
    "\n",
    "\n",
    "x_axis_labels = [1, 2, 3, 4, 5, 6]\n",
    "# for i in range(1, 201):\n",
    "#     y_axis_labels.append(i)\n",
    "\n",
    "fig, ax = plt.subplots(figsize=(12, 12))\n",
    "sns.set(font_scale=1.2)\n",
    "p = sns.heatmap(\n",
    "    expert_gt[order],\n",
    "    xticklabels=x_axis_labels,\n",
    "    yticklabels=y_axis_labels,\n",
    "    linewidths=0.1,\n",
    "    cmap=\"BuPu\",\n",
    ")\n",
    "p.set_xlabel(\"# Experts\")\n",
    "p.set_ylabel(\"Class Labels\")\n",
    "# p.set_yticklabels(p.get_yticklabels(), rotation=10)\n",
    "plt.show()"
   ]
  },
  {
   "cell_type": "code",
   "execution_count": 21,
   "metadata": {},
   "outputs": [
    {
     "data": {
      "text/plain": [
       "tensor(0.8434)"
      ]
     },
     "execution_count": 21,
     "metadata": {},
     "output_type": "execute_result"
    },
    {
     "data": {
      "application/javascript": [
       "\n",
       "            setTimeout(function() {\n",
       "                var nbb_cell_id = 21;\n",
       "                var nbb_unformatted_code = \"torch.sum(test_tensor_preds_1.argmax(dim=1) == test_tensor_y_1)/test_tensor_y_1.size(0)\";\n",
       "                var nbb_formatted_code = \"torch.sum(test_tensor_preds_1.argmax(dim=1) == test_tensor_y_1) / test_tensor_y_1.size(\\n    0\\n)\";\n",
       "                var nbb_cells = Jupyter.notebook.get_cells();\n",
       "                for (var i = 0; i < nbb_cells.length; ++i) {\n",
       "                    if (nbb_cells[i].input_prompt_number == nbb_cell_id) {\n",
       "                        if (nbb_cells[i].get_text() == nbb_unformatted_code) {\n",
       "                             nbb_cells[i].set_text(nbb_formatted_code);\n",
       "                        }\n",
       "                        break;\n",
       "                    }\n",
       "                }\n",
       "            }, 500);\n",
       "            "
      ],
      "text/plain": [
       "<IPython.core.display.Javascript object>"
      ]
     },
     "metadata": {},
     "output_type": "display_data"
    }
   ],
   "source": [
    "torch.sum(test_tensor_preds_1.argmax(dim=1) == test_tensor_y_1) / test_tensor_y_1.size(\n",
    "    0\n",
    ")"
   ]
  },
  {
   "cell_type": "code",
   "execution_count": null,
   "metadata": {},
   "outputs": [],
   "source": []
  },
  {
   "cell_type": "code",
   "execution_count": null,
   "metadata": {},
   "outputs": [],
   "source": []
  },
  {
   "cell_type": "code",
   "execution_count": null,
   "metadata": {},
   "outputs": [],
   "source": []
  }
 ],
 "metadata": {
  "kernelspec": {
   "display_name": "python_3_7",
   "language": "python",
   "name": "python_3_7"
  },
  "language_info": {
   "codemirror_mode": {
    "name": "ipython",
    "version": 3
   },
   "file_extension": ".py",
   "mimetype": "text/x-python",
   "name": "python",
   "nbconvert_exporter": "python",
   "pygments_lexer": "ipython3",
   "version": "3.7.11"
  }
 },
 "nbformat": 4,
 "nbformat_minor": 4
}